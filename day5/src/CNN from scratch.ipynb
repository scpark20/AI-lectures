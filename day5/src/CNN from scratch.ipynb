{
 "cells": [
  {
   "cell_type": "code",
   "execution_count": 12,
   "id": "17921412",
   "metadata": {},
   "outputs": [],
   "source": [
    "import numpy as np"
   ]
  },
  {
   "cell_type": "markdown",
   "id": "138b4111",
   "metadata": {},
   "source": [
    "### 2D Convolution Network "
   ]
  },
  {
   "cell_type": "code",
   "execution_count": 77,
   "id": "fe137bf8",
   "metadata": {},
   "outputs": [],
   "source": [
    "class Conv2D:\n",
    "    def __init__(self, input_channels, output_channels, kernel_size):\n",
    "        self.kernel_size = kernel_size\n",
    "        self.output_channels = output_channels\n",
    "        self.kernel = np.random.randn(output_channels, kernel_size, kernel_size, input_channels)\n",
    "        \n",
    "    def __call__(self, x):\n",
    "        # x : (batch, height, width, input_channels)\n",
    "        batch, height, width, input_channels = x.shape\n",
    "        output_height = height - self.kernel_size + 1\n",
    "        output_width = width - self.kernel_size + 1\n",
    "        y = np.zeros((batch, output_height, output_width, self.output_channels))\n",
    "        \n",
    "        for k in range(self.output_channels):\n",
    "            # (1, kernel_size, kernel_size, input_channels)\n",
    "            k_ = self.kernel[k:k+1, :, :, :]\n",
    "            for i in range(0, height - self.kernel_size):\n",
    "                for j in range(0, width - self.kernel_size):\n",
    "                    # (batch, kernel_size, kernel_size, input_channels)\n",
    "                    x_ = x[:, i:i+self.kernel_size, j:j+self.kernel_size, :]\n",
    "                    # (batch)\n",
    "                    y_ = np.sum(k_ * x_, axis=(1,2,3))\n",
    "                    y[:, i, j, k] = y_\n",
    "                    \n",
    "        return y\n",
    "                "
   ]
  },
  {
   "cell_type": "markdown",
   "id": "f03ac3e4",
   "metadata": {},
   "source": [
    "### Test"
   ]
  },
  {
   "cell_type": "code",
   "execution_count": 78,
   "id": "8ccddadd",
   "metadata": {},
   "outputs": [
    {
     "name": "stdout",
     "output_type": "stream",
     "text": [
      "(2, 62, 62, 16)\n"
     ]
    }
   ],
   "source": [
    "x = np.random.randn(2, 64, 64, 3)\n",
    "conv2d = Conv2D(input_channels=3, output_channels=16, kernel_size=3)\n",
    "y = conv2d(x)\n",
    "print(y.shape)"
   ]
  },
  {
   "cell_type": "markdown",
   "id": "8904058e",
   "metadata": {},
   "source": [
    "### MNIST"
   ]
  },
  {
   "cell_type": "code",
   "execution_count": 79,
   "id": "a12db7ef",
   "metadata": {},
   "outputs": [],
   "source": [
    "import tensorflow as tf\n",
    "(train_images, _), (test_images, _) = tf.keras.datasets.mnist.load_data()\n",
    "train_images = train_images / 255."
   ]
  },
  {
   "cell_type": "code",
   "execution_count": 80,
   "id": "754eef1a",
   "metadata": {
    "scrolled": true
   },
   "outputs": [
    {
     "name": "stdout",
     "output_type": "stream",
     "text": [
      "(16, 28, 28, 1) (16, 26, 26, 16)\n"
     ]
    }
   ],
   "source": [
    "x = train_images[0:16, :, :, None]\n",
    "y = Conv2D(input_channels=1, output_channels=16, kernel_size=3)(x)\n",
    "print(x.shape, y.shape)"
   ]
  },
  {
   "cell_type": "code",
   "execution_count": 83,
   "id": "5161a165",
   "metadata": {
    "scrolled": false
   },
   "outputs": [
    {
     "data": {
      "image/png": "[encoded data removed]",
      "text/plain": [
       "<Figure size 432x288 with 1 Axes>"
      ]
     },
     "metadata": {},
     "output_type": "display_data"
    },
    {
     "data": {
      "image/png": "[encoded data removed]",
      "text/plain": [
       "<Figure size 720x720 with 16 Axes>"
      ]
     },
     "metadata": {},
     "output_type": "display_data"
    }
   ],
   "source": [
    "import matplotlib.pyplot as plt\n",
    "\n",
    "plt.imshow(x[0, :, :, 0], cmap=plt.cm.binary)\n",
    "plt.xticks([]);plt.yticks([])\n",
    "plt.show()\n",
    "\n",
    "plt.figure(figsize=[10, 10])\n",
    "for i in range(16):\n",
    "    plt.subplot(4, 4, i+1)\n",
    "    plt.imshow(y[0, :, :, i], cmap=plt.cm.binary)\n",
    "    plt.xticks([]);plt.yticks([])\n",
    "plt.show()"
   ]
  },
  {
   "cell_type": "markdown",
   "id": "35814afe",
   "metadata": {},
   "source": [
    "### MaxPool2D를 numpy로 구현해 봅시다."
   ]
  },
  {
   "cell_type": "code",
   "execution_count": null,
   "id": "355d3b8a",
   "metadata": {},
   "outputs": [],
   "source": [
    "class MaxPool2D:\n",
    "    def __init__(self, channels, kernel_size):\n",
    "        "
   ]
  }
 ],
 "metadata": {
  "kernelspec": {
   "display_name": "Python 3 (ipykernel)",
   "language": "python",
   "name": "python3"
  },
  "language_info": {
   "codemirror_mode": {
    "name": "ipython",
    "version": 3
   },
   "file_extension": ".py",
   "mimetype": "text/x-python",
   "name": "python",
   "nbconvert_exporter": "python",
   "pygments_lexer": "ipython3",
   "version": "3.8.8"
  }
 },
 "nbformat": 4,
 "nbformat_minor": 5
}
