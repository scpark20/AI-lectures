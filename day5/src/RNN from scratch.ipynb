{
 "cells": [
  {
   "cell_type": "code",
   "execution_count": 4,
   "id": "70be5716",
   "metadata": {},
   "outputs": [],
   "source": [
    "import numpy as np\n",
    "import matplotlib.pyplot as plt"
   ]
  },
  {
   "cell_type": "markdown",
   "id": "97eb05c3",
   "metadata": {},
   "source": [
    "### Tanh"
   ]
  },
  {
   "cell_type": "code",
   "execution_count": 5,
   "id": "2dbb9ad6",
   "metadata": {},
   "outputs": [],
   "source": [
    "class Tanh():\n",
    "    def __call__(self, x):\n",
    "        return 2 / (1 + np.exp(-2*x)) - 1"
   ]
  },
  {
   "cell_type": "code",
   "execution_count": 6,
   "id": "f5d292b2",
   "metadata": {},
   "outputs": [
    {
     "data": {
      "image/png": "[encoded data removed]",
      "text/plain": [
       "<Figure size 576x216 with 1 Axes>"
      ]
     },
     "metadata": {
      "needs_background": "light"
     },
     "output_type": "display_data"
    }
   ],
   "source": [
    "x = np.linspace(-3, 3, 1000)\n",
    "y = Tanh()(x)\n",
    "\n",
    "plt.figure(figsize=[8, 3])\n",
    "plt.title('Tanh')\n",
    "plt.scatter(x, y, s=1)\n",
    "plt.grid()\n",
    "plt.show()"
   ]
  },
  {
   "cell_type": "markdown",
   "id": "e86352bf",
   "metadata": {},
   "source": [
    "### Dense"
   ]
  },
  {
   "cell_type": "code",
   "execution_count": 7,
   "id": "35d0906b",
   "metadata": {},
   "outputs": [],
   "source": [
    "class Dense:\n",
    "    def __init__(self, input_dim, output_dim):\n",
    "        self.w = np.random.randn(input_dim, output_dim)\n",
    "        self.b = np.zeros((1, output_dim))\n",
    "        \n",
    "    def __call__(self, x):\n",
    "        # x : (batch, input_dim)    \n",
    "        \n",
    "        # (batch, output_dim)\n",
    "        y = x @ self.w + self.b\n",
    "        return y"
   ]
  },
  {
   "cell_type": "code",
   "execution_count": 8,
   "id": "cbbb8cc8",
   "metadata": {},
   "outputs": [
    {
     "name": "stdout",
     "output_type": "stream",
     "text": [
      "(2, 32)\n"
     ]
    }
   ],
   "source": [
    "x = np.random.randn(2, 16)\n",
    "y = Dense(16, 32)(x)\n",
    "print(y.shape)"
   ]
  },
  {
   "cell_type": "markdown",
   "id": "14aba6e2",
   "metadata": {},
   "source": [
    "### RNNCell"
   ]
  },
  {
   "cell_type": "code",
   "execution_count": 9,
   "id": "065c2074",
   "metadata": {},
   "outputs": [],
   "source": [
    "class RNNCell:\n",
    "    def __init__(self, input_dim, hidden_dim, activation=Tanh):\n",
    "        self.dense_ih = Dense(input_dim, hidden_dim)\n",
    "        self.dense_hh = Dense(hidden_dim, hidden_dim)\n",
    "        self.activation = activation()\n",
    "        \n",
    "    def __call__(self, x, h):\n",
    "        # x : (batch, input_dim)\n",
    "        # h : (batch, hidden_dim)\n",
    "        h = self.activation(self.dense_ih(x) + self.dense_hh(h))\n",
    "        \n",
    "        return h"
   ]
  },
  {
   "cell_type": "code",
   "execution_count": 10,
   "id": "a702061f",
   "metadata": {},
   "outputs": [
    {
     "name": "stdout",
     "output_type": "stream",
     "text": [
      "(2, 32)\n"
     ]
    }
   ],
   "source": [
    "x = np.random.randn(2, 16)\n",
    "h = np.random.randn(2, 32)\n",
    "y = RNNCell(16, 32)(x, h)\n",
    "print(y.shape)"
   ]
  },
  {
   "attachments": {},
   "cell_type": "markdown",
   "id": "e4099d3c",
   "metadata": {},
   "source": [
    "### RNN\n",
    "\n",
    "$h^{\\prime}=\\tanh \\left(W_{i h} x+b_{i h}+W_{h h} h+b_{h h}\\right)$"
   ]
  },
  {
   "cell_type": "code",
   "execution_count": 11,
   "id": "8206cb29",
   "metadata": {},
   "outputs": [],
   "source": [
    "class RNN:\n",
    "    def __init__(self, input_dim, hidden_dim, activation=Tanh):\n",
    "        self.hidden_dim = hidden_dim\n",
    "        self.rnn_cell = RNNCell(input_dim, hidden_dim, activation)\n",
    "    \n",
    "    def __call__(self, x):\n",
    "        # x : (batch, length, input_dim)\n",
    "        batch, length, input_dim = x.shape\n",
    "        \n",
    "        h = np.zeros((batch, self.hidden_dim))\n",
    "        y = []\n",
    "        for l in range(length):\n",
    "            # (batch, input_dim)\n",
    "            x_ = x[:, l, :]\n",
    "            # (batch, hidden_dim)\n",
    "            h = self.rnn_cell(x_, h)\n",
    "            y.append(h)\n",
    "        \n",
    "        # (batch, length, hidden_dim)\n",
    "        y = np.stack(y, axis=1)\n",
    "        \n",
    "        return y\n",
    "        "
   ]
  },
  {
   "cell_type": "code",
   "execution_count": 12,
   "id": "70e568e7",
   "metadata": {},
   "outputs": [
    {
     "name": "stdout",
     "output_type": "stream",
     "text": [
      "(2, 100, 32)\n"
     ]
    }
   ],
   "source": [
    "x = np.random.randn(2, 100, 16)\n",
    "y = RNN(16, 32)(x)\n",
    "print(y.shape)"
   ]
  },
  {
   "cell_type": "markdown",
   "id": "649e87ce",
   "metadata": {},
   "source": [
    "### GRU를 numpy로 구현해봅시다.\n",
    "\n",
    "\\begin{aligned}\n",
    "&r=\\sigma\\left(W_{i r} x+b_{i r}+W_{h r} h+b_{h r}\\right) \\\\\n",
    "&z=\\sigma\\left(W_{i z} x+b_{i z}+W_{h z} h+b_{h z}\\right) \\\\\n",
    "&n=\\tanh \\left(W_{i n} x+b_{i n}+r *\\left(W_{h n} h+b_{h n}\\right)\\right) \\\\\n",
    "&h^{\\prime}=(1-z) * n+z * h\n",
    "\\end{aligned}"
   ]
  },
  {
   "cell_type": "code",
   "execution_count": 16,
   "id": "8656d67c",
   "metadata": {},
   "outputs": [],
   "source": [
    "class Sigmoid():\n",
    "    def __call__(self, x):\n",
    "        pass"
   ]
  },
  {
   "cell_type": "code",
   "execution_count": 17,
   "id": "fead1872",
   "metadata": {},
   "outputs": [],
   "source": [
    "class GRUCell:\n",
    "    def __init__(self, input_dim, hidden_dim, activation=Tanh):\n",
    "        pass"
   ]
  },
  {
   "cell_type": "code",
   "execution_count": 18,
   "id": "4be3b2fb",
   "metadata": {},
   "outputs": [],
   "source": [
    "class GRU:\n",
    "    def __init__(self, input_dim, hidden_dim, activation=Tanh):\n",
    "        pass"
   ]
  },
  {
   "cell_type": "markdown",
   "id": "32f9ae87",
   "metadata": {},
   "source": [
    "### LSTM을 numpy로 구현해봅시다.\n",
    "\n",
    "\\begin{aligned}\n",
    "&i=\\sigma\\left(W_{i i} x+b_{i i}+W_{h i} h+b_{h i}\\right) \\\\\n",
    "&f=\\sigma\\left(W_{i f} x+b_{i f}+W_{h f} h+b_{h f}\\right) \\\\\n",
    "&g=\\tanh \\left(W_{i g} x+b_{i g}+W_{h g} h+b_{h g}\\right) \\\\\n",
    "&o=\\sigma\\left(W_{i o} x+b_{i o}+W_{h o} h+b_{h o}\\right) \\\\\n",
    "&c^{\\prime}=f * c+i * g \\\\\n",
    "&h^{\\prime}=o * \\tanh \\left(c^{\\prime}\\right)\n",
    "\\end{aligned}"
   ]
  },
  {
   "cell_type": "code",
   "execution_count": 19,
   "id": "8978616e",
   "metadata": {},
   "outputs": [],
   "source": [
    "class LSTMCell:\n",
    "    def __init__(self, input_dim, hidden_dim, activation=Tanh):\n",
    "        pass"
   ]
  },
  {
   "cell_type": "code",
   "execution_count": 20,
   "id": "f57fa1f2",
   "metadata": {},
   "outputs": [],
   "source": [
    "class LSTM:\n",
    "    def __init__(self, input_dim, hidden_dim, activation=Tanh):\n",
    "        pass"
   ]
  },
  {
   "cell_type": "code",
   "execution_count": null,
   "id": "bcf787ac",
   "metadata": {},
   "outputs": [],
   "source": []
  }
 ],
 "metadata": {
  "kernelspec": {
   "display_name": "Python 3 (ipykernel)",
   "language": "python",
   "name": "python3"
  },
  "language_info": {
   "codemirror_mode": {
    "name": "ipython",
    "version": 3
   },
   "file_extension": ".py",
   "mimetype": "text/x-python",
   "name": "python",
   "nbconvert_exporter": "python",
   "pygments_lexer": "ipython3",
   "version": "3.8.8"
  }
 },
 "nbformat": 4,
 "nbformat_minor": 5
}
