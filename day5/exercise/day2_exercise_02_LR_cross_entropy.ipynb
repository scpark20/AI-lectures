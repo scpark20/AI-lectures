{
 "cells": [
  {
   "cell_type": "code",
   "execution_count": null,
   "metadata": {},
   "outputs": [],
   "source": [
    "import tensorflow as tf\n",
    "\n",
    "## data 선언\n",
    "x_data = [[5.], [30.], [95.], [100.], [265.], [270.], [290.], [300.],[365.]]\n",
    "y_data = [[0.], [0.], [0.], [0.], [1.], [1.], [1.], [1.], [1.]]\n",
    "test_data= [[7.]]\n",
    "test_data2= [[80.]]\n",
    "test_data3= [[110.]]\n",
    "test_data4= [[180.]]\n",
    "test_data5= [[320.]]\n",
    "\n",
    "## tf.keras를 활용한 perceptron 모델 구현.\n",
    "model = tf.keras.Sequential() ## 모델 선언\n",
    "model.\n",
    "model.summary()\n",
    "\n",
    "# 모델 loss, 학습 방법 결정하기\n",
    "optimizer=\n",
    "loss=\n",
    "metrics=\n",
    "\n",
    "# 모델 컴파일하기 - 모델 및 loss 등 구조화한 모델을 컴퓨터가 동작 할수 있도록 변환\n",
    "model.compile()\n",
    "\n",
    "# 모델 동작하기\n",
    "model.fit(x_data, y_data, epochs=2000, batch_size=8)\n",
    "\n",
    "# 결과를 출력합니다.\n",
    "print(\" test data [7.] 예측 값 : \", model.predict(test_data))\n",
    "print(\" test data [80.] 예측 값 : \", model.predict(test_data2))\n",
    "print(\" test data [110.] 예측 값 : \", model.predict(test_data3))\n",
    "print(\" test data [180.] 예측 값 : \", model.predict(test_data4))\n",
    "print(\" test data [320.] 예측 값 : \", model.predict(test_data5))"
   ]
  },
  {
   "cell_type": "code",
   "execution_count": null,
   "metadata": {},
   "outputs": [],
   "source": [
    "import numpy as np\n",
    "import matplotlib.pyplot as plt\n",
    "\n",
    "x = list(range(400))\n",
    "y = []\n",
    "for i in x:\n",
    "    y_pred = model.predict([[i]])\n",
    "    y.append(y_pred[0][0])\n",
    "\n",
    "plt.plot(x, y)\n",
    "plt.ylabel('y_pred')\n",
    "plt.ylabel('X')\n",
    "plt.show()"
   ]
  }
 ],
 "metadata": {
  "kernelspec": {
   "display_name": "Python 3",
   "language": "python",
   "name": "python3"
  },
  "language_info": {
   "codemirror_mode": {
    "name": "ipython",
    "version": 3
   },
   "file_extension": ".py",
   "mimetype": "text/x-python",
   "name": "python",
   "nbconvert_exporter": "python",
   "pygments_lexer": "ipython3",
   "version": "3.7.7"
  }
 },
 "nbformat": 4,
 "nbformat_minor": 4
}
