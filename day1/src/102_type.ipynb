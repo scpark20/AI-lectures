{
 "cells": [
  {
   "cell_type": "markdown",
   "metadata": {
    "colab_type": "text",
    "id": "wU2DzbA-jOqm"
   },
   "source": [
    "# 1. 숫자\n",
    "+ int\n",
    "+ float"
   ]
  },
  {
   "cell_type": "code",
   "execution_count": 7,
   "metadata": {
    "colab": {
     "base_uri": "https://localhost:8080/",
     "height": 34
    },
    "colab_type": "code",
    "executionInfo": {
     "elapsed": 643,
     "status": "ok",
     "timestamp": 1591342421645,
     "user": {
      "displayName": "pam S",
      "photoUrl": "",
      "userId": "14096643837279750054"
     },
     "user_tz": -540
    },
    "id": "hujUqI4rjOqt",
    "outputId": "9de1bcd8-de31-4c16-f458-93ac723ed0a6"
   },
   "outputs": [
    {
     "data": {
      "text/plain": [
       "int"
      ]
     },
     "execution_count": 7,
     "metadata": {},
     "output_type": "execute_result"
    }
   ],
   "source": [
    "a = 3\n",
    "type(a)"
   ]
  },
  {
   "cell_type": "code",
   "execution_count": 8,
   "metadata": {
    "colab": {
     "base_uri": "https://localhost:8080/",
     "height": 34
    },
    "colab_type": "code",
    "executionInfo": {
     "elapsed": 508,
     "status": "ok",
     "timestamp": 1591342422043,
     "user": {
      "displayName": "pam S",
      "photoUrl": "",
      "userId": "14096643837279750054"
     },
     "user_tz": -540
    },
    "id": "o891OlJ3jOq7",
    "outputId": "61213af8-187b-4650-c5de-5d1e116313ce"
   },
   "outputs": [
    {
     "data": {
      "text/plain": [
       "float"
      ]
     },
     "execution_count": 8,
     "metadata": {},
     "output_type": "execute_result"
    }
   ],
   "source": [
    "b = 5.0\n",
    "type(b)"
   ]
  },
  {
   "cell_type": "code",
   "execution_count": 9,
   "metadata": {
    "colab": {
     "base_uri": "https://localhost:8080/",
     "height": 34
    },
    "colab_type": "code",
    "executionInfo": {
     "elapsed": 702,
     "status": "ok",
     "timestamp": 1591342432808,
     "user": {
      "displayName": "pam S",
      "photoUrl": "",
      "userId": "14096643837279750054"
     },
     "user_tz": -540
    },
    "id": "Dr5Ied4djOrM",
    "outputId": "765273ad-ae60-458f-ff97-4ba8a81df983"
   },
   "outputs": [
    {
     "data": {
      "text/plain": [
       "8.0"
      ]
     },
     "execution_count": 9,
     "metadata": {},
     "output_type": "execute_result"
    }
   ],
   "source": [
    "c = a + b\n",
    "c"
   ]
  },
  {
   "cell_type": "code",
   "execution_count": 10,
   "metadata": {
    "colab": {
     "base_uri": "https://localhost:8080/",
     "height": 34
    },
    "colab_type": "code",
    "executionInfo": {
     "elapsed": 947,
     "status": "ok",
     "timestamp": 1591342442128,
     "user": {
      "displayName": "pam S",
      "photoUrl": "",
      "userId": "14096643837279750054"
     },
     "user_tz": -540
    },
    "id": "Co2Jp5YtZo7S",
    "outputId": "c3d70334-79f3-4064-f2c1-0898d4d6397a"
   },
   "outputs": [
    {
     "data": {
      "text/plain": [
       "float"
      ]
     },
     "execution_count": 10,
     "metadata": {},
     "output_type": "execute_result"
    }
   ],
   "source": [
    "type(c)"
   ]
  },
  {
   "cell_type": "code",
   "execution_count": 11,
   "metadata": {
    "colab": {
     "base_uri": "https://localhost:8080/",
     "height": 51
    },
    "colab_type": "code",
    "executionInfo": {
     "elapsed": 987,
     "status": "ok",
     "timestamp": 1591342466991,
     "user": {
      "displayName": "pam S",
      "photoUrl": "",
      "userId": "14096643837279750054"
     },
     "user_tz": -540
    },
    "id": "efmVvBvzjOrY",
    "outputId": "3dc90ee6-371a-40c4-8bbd-8b5573cf4120"
   },
   "outputs": [
    {
     "name": "stdout",
     "output_type": "stream",
     "text": [
      "8\n"
     ]
    },
    {
     "data": {
      "text/plain": [
       "int"
      ]
     },
     "execution_count": 11,
     "metadata": {},
     "output_type": "execute_result"
    }
   ],
   "source": [
    "d = int(c)\n",
    "print(d)\n",
    "type(d)"
   ]
  },
  {
   "cell_type": "code",
   "execution_count": 12,
   "metadata": {
    "colab": {
     "base_uri": "https://localhost:8080/",
     "height": 51
    },
    "colab_type": "code",
    "executionInfo": {
     "elapsed": 1123,
     "status": "ok",
     "timestamp": 1591342481773,
     "user": {
      "displayName": "pam S",
      "photoUrl": "",
      "userId": "14096643837279750054"
     },
     "user_tz": -540
    },
    "id": "kglIxQJRjOri",
    "outputId": "7e0b6b01-db33-464e-c3a7-3e66ab390100"
   },
   "outputs": [
    {
     "name": "stdout",
     "output_type": "stream",
     "text": [
      "5.0\n"
     ]
    },
    {
     "data": {
      "text/plain": [
       "float"
      ]
     },
     "execution_count": 12,
     "metadata": {},
     "output_type": "execute_result"
    }
   ],
   "source": [
    "e = float(5)\n",
    "print(e)\n",
    "type(e)"
   ]
  },
  {
   "cell_type": "markdown",
   "metadata": {
    "colab_type": "text",
    "id": "HsgTDIRmjOru"
   },
   "source": [
    "# 2. 문자\n",
    "### 2-1. string?"
   ]
  },
  {
   "cell_type": "code",
   "execution_count": 13,
   "metadata": {
    "colab": {
     "base_uri": "https://localhost:8080/",
     "height": 51
    },
    "colab_type": "code",
    "executionInfo": {
     "elapsed": 1197,
     "status": "ok",
     "timestamp": 1591343178325,
     "user": {
      "displayName": "pam S",
      "photoUrl": "",
      "userId": "14096643837279750054"
     },
     "user_tz": -540
    },
    "id": "wmvERjJ9jOrx",
    "outputId": "b7beab79-367f-4290-c64f-c3f41f4f2f0b"
   },
   "outputs": [
    {
     "name": "stdout",
     "output_type": "stream",
     "text": [
      "문자형 예시입니다.\n"
     ]
    },
    {
     "data": {
      "text/plain": [
       "str"
      ]
     },
     "execution_count": 13,
     "metadata": {},
     "output_type": "execute_result"
    }
   ],
   "source": [
    "f = '문자형 예시입니다.'\n",
    "print(f)\n",
    "type(f)"
   ]
  },
  {
   "cell_type": "code",
   "execution_count": 14,
   "metadata": {
    "colab": {
     "base_uri": "https://localhost:8080/",
     "height": 34
    },
    "colab_type": "code",
    "executionInfo": {
     "elapsed": 1150,
     "status": "ok",
     "timestamp": 1591343181625,
     "user": {
      "displayName": "pam S",
      "photoUrl": "",
      "userId": "14096643837279750054"
     },
     "user_tz": -540
    },
    "id": "0bvXcx07jOr9",
    "outputId": "1a00c5bc-388d-419e-a469-79cbcdce8180"
   },
   "outputs": [
    {
     "name": "stdout",
     "output_type": "stream",
     "text": [
      "문장안에 따옴표를 쓰고 싶다면? \"\" 번갈아 쓰면 됩니다.\n"
     ]
    }
   ],
   "source": [
    "따옴표 = '문장안에 따옴표를 쓰고 싶다면? \"\" 번갈아 쓰면 됩니다.'\n",
    "print(따옴표)"
   ]
  },
  {
   "cell_type": "code",
   "execution_count": 15,
   "metadata": {
    "colab": {
     "base_uri": "https://localhost:8080/",
     "height": 34
    },
    "colab_type": "code",
    "executionInfo": {
     "elapsed": 1080,
     "status": "ok",
     "timestamp": 1591343183463,
     "user": {
      "displayName": "pam S",
      "photoUrl": "",
      "userId": "14096643837279750054"
     },
     "user_tz": -540
    },
    "id": "802NqlaxjOsD",
    "outputId": "c5898eaf-98ad-4ea9-99cc-ecebd26ab935"
   },
   "outputs": [
    {
     "name": "stdout",
     "output_type": "stream",
     "text": [
      "escape 문자인 \" \\ \"(역슬래시 혹은 원화표시)도 사용가능\n"
     ]
    }
   ],
   "source": [
    "escape = \"escape 문자인 \\\" \\\\ \\\"(역슬래시 혹은 원화표시)도 사용가능\"\n",
    "print(escape)"
   ]
  },
  {
   "cell_type": "markdown",
   "metadata": {
    "colab_type": "text",
    "id": "64zF6sZUjOsL"
   },
   "source": [
    "### 2-2. str의 형 변환"
   ]
  },
  {
   "cell_type": "code",
   "execution_count": 16,
   "metadata": {
    "colab": {},
    "colab_type": "code",
    "id": "yejtbIONjOsN"
   },
   "outputs": [],
   "source": [
    "g = 3\n",
    "h = '5'"
   ]
  },
  {
   "cell_type": "code",
   "execution_count": 17,
   "metadata": {
    "colab": {
     "base_uri": "https://localhost:8080/",
     "height": 34
    },
    "colab_type": "code",
    "executionInfo": {
     "elapsed": 1934,
     "status": "ok",
     "timestamp": 1591622202593,
     "user": {
      "displayName": "pam S",
      "photoUrl": "",
      "userId": "14096643837279750054"
     },
     "user_tz": -540
    },
    "id": "xtDD08lXdGnK",
    "outputId": "ac3235e2-54d0-48a8-9507-00b69519c5be"
   },
   "outputs": [
    {
     "data": {
      "text/plain": [
       "int"
      ]
     },
     "execution_count": 17,
     "metadata": {},
     "output_type": "execute_result"
    }
   ],
   "source": [
    "type(g)"
   ]
  },
  {
   "cell_type": "code",
   "execution_count": 18,
   "metadata": {
    "colab": {
     "base_uri": "https://localhost:8080/",
     "height": 34
    },
    "colab_type": "code",
    "executionInfo": {
     "elapsed": 1902,
     "status": "ok",
     "timestamp": 1591622202594,
     "user": {
      "displayName": "pam S",
      "photoUrl": "",
      "userId": "14096643837279750054"
     },
     "user_tz": -540
    },
    "id": "FvbBFPe5dH4N",
    "outputId": "127c62b2-bf5a-4fce-e9b3-130a44d2490f"
   },
   "outputs": [
    {
     "data": {
      "text/plain": [
       "str"
      ]
     },
     "execution_count": 18,
     "metadata": {},
     "output_type": "execute_result"
    }
   ],
   "source": [
    "type(h)"
   ]
  },
  {
   "cell_type": "code",
   "execution_count": 19,
   "metadata": {
    "colab": {
     "base_uri": "https://localhost:8080/",
     "height": 51
    },
    "colab_type": "code",
    "executionInfo": {
     "elapsed": 1870,
     "status": "ok",
     "timestamp": 1591622202595,
     "user": {
      "displayName": "pam S",
      "photoUrl": "",
      "userId": "14096643837279750054"
     },
     "user_tz": -540
    },
    "id": "6zGWpArKjOsT",
    "outputId": "db1381ea-3771-4dd1-ed2f-ea9b6b2363fe"
   },
   "outputs": [
    {
     "name": "stdout",
     "output_type": "stream",
     "text": [
      "3\n"
     ]
    },
    {
     "data": {
      "text/plain": [
       "str"
      ]
     },
     "execution_count": 19,
     "metadata": {},
     "output_type": "execute_result"
    }
   ],
   "source": [
    "i = str(g)\n",
    "print(i)\n",
    "type(i)"
   ]
  },
  {
   "cell_type": "code",
   "execution_count": 20,
   "metadata": {
    "colab": {
     "base_uri": "https://localhost:8080/",
     "height": 51
    },
    "colab_type": "code",
    "executionInfo": {
     "elapsed": 1838,
     "status": "ok",
     "timestamp": 1591622202596,
     "user": {
      "displayName": "pam S",
      "photoUrl": "",
      "userId": "14096643837279750054"
     },
     "user_tz": -540
    },
    "id": "_VK_Tq5QdcGa",
    "outputId": "5e2ada7f-57ee-4f39-ba4e-63cdb204aecf"
   },
   "outputs": [
    {
     "name": "stdout",
     "output_type": "stream",
     "text": [
      "5\n"
     ]
    },
    {
     "data": {
      "text/plain": [
       "int"
      ]
     },
     "execution_count": 20,
     "metadata": {},
     "output_type": "execute_result"
    }
   ],
   "source": [
    "j = int(h)\n",
    "print(j)\n",
    "type(j)"
   ]
  },
  {
   "cell_type": "markdown",
   "metadata": {
    "colab_type": "text",
    "id": "JrWbYnNIjOsc"
   },
   "source": [
    "### 2-3. str의 연산"
   ]
  },
  {
   "cell_type": "code",
   "execution_count": 21,
   "metadata": {
    "colab": {
     "base_uri": "https://localhost:8080/",
     "height": 34
    },
    "colab_type": "code",
    "executionInfo": {
     "elapsed": 674,
     "status": "ok",
     "timestamp": 1591344060947,
     "user": {
      "displayName": "pam S",
      "photoUrl": "",
      "userId": "14096643837279750054"
     },
     "user_tz": -540
    },
    "id": "xJDTgjrAjOsd",
    "outputId": "b68873c6-a057-479e-ca4e-0b5b5f88834a"
   },
   "outputs": [
    {
     "data": {
      "text/plain": [
       "'문자의 연산'"
      ]
     },
     "execution_count": 21,
     "metadata": {},
     "output_type": "execute_result"
    }
   ],
   "source": [
    "str_1 = '문자'\n",
    "str_2 = '의 연산'\n",
    "result = str_1 + str_2\n",
    "result"
   ]
  },
  {
   "cell_type": "code",
   "execution_count": 22,
   "metadata": {
    "colab": {
     "base_uri": "https://localhost:8080/",
     "height": 34
    },
    "colab_type": "code",
    "executionInfo": {
     "elapsed": 694,
     "status": "ok",
     "timestamp": 1591344062269,
     "user": {
      "displayName": "pam S",
      "photoUrl": "",
      "userId": "14096643837279750054"
     },
     "user_tz": -540
    },
    "id": "8h2-u8ntjOsk",
    "outputId": "f5fc1d07-ed74-4a0f-a9b2-c8222f3a3bf1"
   },
   "outputs": [
    {
     "data": {
      "text/plain": [
       "'문자의 연산더하기'"
      ]
     },
     "execution_count": 22,
     "metadata": {},
     "output_type": "execute_result"
    }
   ],
   "source": [
    "str_3 = '더하기'\n",
    "result += str_3\n",
    "result"
   ]
  },
  {
   "cell_type": "code",
   "execution_count": 23,
   "metadata": {
    "colab": {
     "base_uri": "https://localhost:8080/",
     "height": 34
    },
    "colab_type": "code",
    "executionInfo": {
     "elapsed": 927,
     "status": "ok",
     "timestamp": 1591344064326,
     "user": {
      "displayName": "pam S",
      "photoUrl": "",
      "userId": "14096643837279750054"
     },
     "user_tz": -540
    },
    "id": "AEsIdshtjOsr",
    "outputId": "068a541f-fa0b-4225-ed16-bd8c739d4e35"
   },
   "outputs": [
    {
     "name": "stdout",
     "output_type": "stream",
     "text": [
      "곱하기곱하기곱하기곱하기곱하기\n"
     ]
    }
   ],
   "source": [
    "str_4 = '곱하기'\n",
    "print(str_4 * 5)"
   ]
  },
  {
   "cell_type": "code",
   "execution_count": 24,
   "metadata": {
    "colab": {
     "base_uri": "https://localhost:8080/",
     "height": 34
    },
    "colab_type": "code",
    "executionInfo": {
     "elapsed": 951,
     "status": "ok",
     "timestamp": 1591344217308,
     "user": {
      "displayName": "pam S",
      "photoUrl": "",
      "userId": "14096643837279750054"
     },
     "user_tz": -540
    },
    "id": "ItQXrQdXgSPO",
    "outputId": "239d9ed4-4c19-4c0e-c9b4-bba4e5e1f575"
   },
   "outputs": [
    {
     "name": "stdout",
     "output_type": "stream",
     "text": [
      "곱하기반복곱하기반복\n"
     ]
    }
   ],
   "source": [
    "str_5 = '반복'\n",
    "print((str_4 + str_5)*2)"
   ]
  },
  {
   "cell_type": "code",
   "execution_count": 26,
   "metadata": {
    "colab": {
     "base_uri": "https://localhost:8080/",
     "height": 198
    },
    "colab_type": "code",
    "executionInfo": {
     "elapsed": 1128,
     "status": "error",
     "timestamp": 1591344293937,
     "user": {
      "displayName": "pam S",
      "photoUrl": "",
      "userId": "14096643837279750054"
     },
     "user_tz": -540
    },
    "id": "mooIEcWyjOsx",
    "outputId": "70ed3918-0d3b-45c8-9092-177ceb0998ee"
   },
   "outputs": [
    {
     "ename": "TypeError",
     "evalue": "can only concatenate str (not \"int\") to str",
     "output_type": "error",
     "traceback": [
      "\u001b[0;31m---------------------------------------------------------------------------\u001b[0m",
      "\u001b[0;31mTypeError\u001b[0m                                 Traceback (most recent call last)",
      "\u001b[0;32m/tmp/ipykernel_4073/4201819318.py\u001b[0m in \u001b[0;36m<module>\u001b[0;34m\u001b[0m\n\u001b[1;32m      1\u001b[0m \u001b[0mint_1\u001b[0m \u001b[0;34m=\u001b[0m \u001b[0;36m8\u001b[0m\u001b[0;34m\u001b[0m\u001b[0;34m\u001b[0m\u001b[0m\n\u001b[1;32m      2\u001b[0m \u001b[0mstr_6\u001b[0m \u001b[0;34m=\u001b[0m \u001b[0;34m'문자'\u001b[0m\u001b[0;34m\u001b[0m\u001b[0;34m\u001b[0m\u001b[0m\n\u001b[0;32m----> 3\u001b[0;31m \u001b[0merror\u001b[0m \u001b[0;34m=\u001b[0m \u001b[0mstr_6\u001b[0m \u001b[0;34m+\u001b[0m \u001b[0mint_1\u001b[0m\u001b[0;34m\u001b[0m\u001b[0;34m\u001b[0m\u001b[0m\n\u001b[0m",
      "\u001b[0;31mTypeError\u001b[0m: can only concatenate str (not \"int\") to str"
     ]
    }
   ],
   "source": [
    "int_1 = 8\n",
    "str_6 = '문자'\n",
    "error = str_6 + int_1"
   ]
  },
  {
   "cell_type": "markdown",
   "metadata": {
    "colab_type": "text",
    "id": "bXo_P4NwjOs3"
   },
   "source": [
    "### 2-4. 인덱싱과 슬라이싱"
   ]
  },
  {
   "cell_type": "code",
   "execution_count": 27,
   "metadata": {
    "colab": {
     "base_uri": "https://localhost:8080/",
     "height": 34
    },
    "colab_type": "code",
    "executionInfo": {
     "elapsed": 2377,
     "status": "ok",
     "timestamp": 1591344607761,
     "user": {
      "displayName": "pam S",
      "photoUrl": "",
      "userId": "14096643837279750054"
     },
     "user_tz": -540
    },
    "id": "DVm7IHP2jOs6",
    "outputId": "df1dcd3c-6717-4245-9556-3d8cd929f4ab"
   },
   "outputs": [
    {
     "data": {
      "text/plain": [
       "21"
      ]
     },
     "execution_count": 27,
     "metadata": {},
     "output_type": "execute_result"
    }
   ],
   "source": [
    "str_5 = '인덱싱을 하기 위한 string입니다.'\n",
    "len(str_5)"
   ]
  },
  {
   "cell_type": "code",
   "execution_count": 28,
   "metadata": {
    "colab": {
     "base_uri": "https://localhost:8080/",
     "height": 34
    },
    "colab_type": "code",
    "executionInfo": {
     "elapsed": 3385,
     "status": "ok",
     "timestamp": 1591344608992,
     "user": {
      "displayName": "pam S",
      "photoUrl": "",
      "userId": "14096643837279750054"
     },
     "user_tz": -540
    },
    "id": "--xCpY3ZjOtA",
    "outputId": "2ba57eca-b37d-4e18-96b6-0ed1dc7bf789"
   },
   "outputs": [
    {
     "data": {
      "text/plain": [
       "'싱'"
      ]
     },
     "execution_count": 28,
     "metadata": {},
     "output_type": "execute_result"
    }
   ],
   "source": [
    "str_5[2]"
   ]
  },
  {
   "cell_type": "code",
   "execution_count": 29,
   "metadata": {
    "colab": {
     "base_uri": "https://localhost:8080/",
     "height": 34
    },
    "colab_type": "code",
    "executionInfo": {
     "elapsed": 3140,
     "status": "ok",
     "timestamp": 1591344608994,
     "user": {
      "displayName": "pam S",
      "photoUrl": "",
      "userId": "14096643837279750054"
     },
     "user_tz": -540
    },
    "id": "EQ_cJyLsjOtF",
    "outputId": "2475deee-d5a2-4dd1-b41f-6f2eb3e910e6"
   },
   "outputs": [
    {
     "data": {
      "text/plain": [
       "'싱을 하기'"
      ]
     },
     "execution_count": 29,
     "metadata": {},
     "output_type": "execute_result"
    }
   ],
   "source": [
    "str_5 = '인덱싱을 하기 위한 string입니다.'\n",
    "str_5[2:7]"
   ]
  },
  {
   "cell_type": "code",
   "execution_count": 30,
   "metadata": {
    "colab": {},
    "colab_type": "code",
    "id": "n19NOLlehjYX"
   },
   "outputs": [],
   "source": [
    "str_6 = '안녕하세요. 홍길동 고객님!'"
   ]
  },
  {
   "cell_type": "code",
   "execution_count": 31,
   "metadata": {
    "colab": {
     "base_uri": "https://localhost:8080/",
     "height": 34
    },
    "colab_type": "code",
    "executionInfo": {
     "elapsed": 915,
     "status": "ok",
     "timestamp": 1591344621848,
     "user": {
      "displayName": "pam S",
      "photoUrl": "",
      "userId": "14096643837279750054"
     },
     "user_tz": -540
    },
    "id": "GyaTqIkghznl",
    "outputId": "75992413-5997-49dd-a1ad-83e8c173768b"
   },
   "outputs": [
    {
     "data": {
      "text/plain": [
       "'홍길동'"
      ]
     },
     "execution_count": 31,
     "metadata": {},
     "output_type": "execute_result"
    }
   ],
   "source": [
    "str_6[7:10]"
   ]
  },
  {
   "cell_type": "code",
   "execution_count": 32,
   "metadata": {
    "colab": {
     "base_uri": "https://localhost:8080/",
     "height": 34
    },
    "colab_type": "code",
    "executionInfo": {
     "elapsed": 697,
     "status": "ok",
     "timestamp": 1591346066077,
     "user": {
      "displayName": "pam S",
      "photoUrl": "",
      "userId": "14096643837279750054"
     },
     "user_tz": -540
    },
    "id": "C0f_C9hijOtK",
    "outputId": "151e4546-f7be-4208-bc9b-b3debdcc31c5"
   },
   "outputs": [
    {
     "name": "stdout",
     "output_type": "stream",
     "text": [
      "안녕\n"
     ]
    }
   ],
   "source": [
    "print(str_6[:2])"
   ]
  },
  {
   "cell_type": "code",
   "execution_count": 33,
   "metadata": {
    "colab": {
     "base_uri": "https://localhost:8080/",
     "height": 34
    },
    "colab_type": "code",
    "executionInfo": {
     "elapsed": 1061,
     "status": "ok",
     "timestamp": 1591346106721,
     "user": {
      "displayName": "pam S",
      "photoUrl": "",
      "userId": "14096643837279750054"
     },
     "user_tz": -540
    },
    "id": "KfGKeQ9EjOtO",
    "outputId": "bbb9c4f5-b074-4aa8-8037-256f60836ca4"
   },
   "outputs": [
    {
     "name": "stdout",
     "output_type": "stream",
     "text": [
      "고객님!\n"
     ]
    }
   ],
   "source": [
    "print(str_6[11:])"
   ]
  },
  {
   "cell_type": "code",
   "execution_count": 34,
   "metadata": {
    "colab": {
     "base_uri": "https://localhost:8080/",
     "height": 34
    },
    "colab_type": "code",
    "executionInfo": {
     "elapsed": 735,
     "status": "ok",
     "timestamp": 1591346112090,
     "user": {
      "displayName": "pam S",
      "photoUrl": "",
      "userId": "14096643837279750054"
     },
     "user_tz": -540
    },
    "id": "sZDc-L_gjOtS",
    "outputId": "899d7fc5-26cf-4061-89fa-5a70fa04c291"
   },
   "outputs": [
    {
     "name": "stdout",
     "output_type": "stream",
     "text": [
      "안녕하세요. 홍길동 고객님!\n"
     ]
    }
   ],
   "source": [
    "print(str_6[:])"
   ]
  },
  {
   "cell_type": "markdown",
   "metadata": {
    "colab_type": "text",
    "id": "p-vgYm25pNKq"
   },
   "source": [
    "- 마이너스 인덱싱"
   ]
  },
  {
   "cell_type": "code",
   "execution_count": 35,
   "metadata": {
    "colab": {
     "base_uri": "https://localhost:8080/",
     "height": 34
    },
    "colab_type": "code",
    "executionInfo": {
     "elapsed": 878,
     "status": "ok",
     "timestamp": 1591346120985,
     "user": {
      "displayName": "pam S",
      "photoUrl": "",
      "userId": "14096643837279750054"
     },
     "user_tz": -540
    },
    "id": "U8WqflBojOtX",
    "outputId": "0221ec4c-80a8-4750-cf53-351ce6aae0b1"
   },
   "outputs": [
    {
     "name": "stdout",
     "output_type": "stream",
     "text": [
      "!\n"
     ]
    }
   ],
   "source": [
    "print(str_6[-1])"
   ]
  },
  {
   "cell_type": "code",
   "execution_count": 36,
   "metadata": {
    "colab": {
     "base_uri": "https://localhost:8080/",
     "height": 34
    },
    "colab_type": "code",
    "executionInfo": {
     "elapsed": 820,
     "status": "ok",
     "timestamp": 1591346160712,
     "user": {
      "displayName": "pam S",
      "photoUrl": "",
      "userId": "14096643837279750054"
     },
     "user_tz": -540
    },
    "id": "q9IJ3aM3nxkn",
    "outputId": "0a752cba-58cc-4589-f78f-a64445dcb04f"
   },
   "outputs": [
    {
     "name": "stdout",
     "output_type": "stream",
     "text": [
      "고객님!\n"
     ]
    }
   ],
   "source": [
    "print(str_6[-4:])"
   ]
  },
  {
   "cell_type": "code",
   "execution_count": 37,
   "metadata": {
    "colab": {
     "base_uri": "https://localhost:8080/",
     "height": 34
    },
    "colab_type": "code",
    "executionInfo": {
     "elapsed": 501,
     "status": "ok",
     "timestamp": 1591346160713,
     "user": {
      "displayName": "pam S",
      "photoUrl": "",
      "userId": "14096643837279750054"
     },
     "user_tz": -540
    },
    "id": "3gLCwvk9nrdG",
    "outputId": "54cf406f-23a4-4cf2-b0dc-dcb1868ddaf6"
   },
   "outputs": [
    {
     "name": "stdout",
     "output_type": "stream",
     "text": [
      "안녕하세요. 홍길동 고객\n"
     ]
    }
   ],
   "source": [
    "print(str_6[:-2])"
   ]
  },
  {
   "cell_type": "code",
   "execution_count": 38,
   "metadata": {
    "colab": {
     "base_uri": "https://localhost:8080/",
     "height": 34
    },
    "colab_type": "code",
    "executionInfo": {
     "elapsed": 757,
     "status": "ok",
     "timestamp": 1591346193248,
     "user": {
      "displayName": "pam S",
      "photoUrl": "",
      "userId": "14096643837279750054"
     },
     "user_tz": -540
    },
    "id": "Xy76v34QjOtb",
    "outputId": "61f1f20d-419b-4f6a-d9e1-22c6cc6f0083"
   },
   "outputs": [
    {
     "name": "stdout",
     "output_type": "stream",
     "text": [
      "!님객고 동길홍 .요세하녕안\n"
     ]
    }
   ],
   "source": [
    "print(str_6[::-1])"
   ]
  },
  {
   "cell_type": "markdown",
   "metadata": {
    "colab_type": "text",
    "id": "SsIhRMKDjOtf"
   },
   "source": [
    "### 2-5. string의 method\n",
    "+ 대소문자 변환하기"
   ]
  },
  {
   "cell_type": "code",
   "execution_count": 39,
   "metadata": {
    "colab": {
     "base_uri": "https://localhost:8080/",
     "height": 34
    },
    "colab_type": "code",
    "executionInfo": {
     "elapsed": 894,
     "status": "ok",
     "timestamp": 1591346842974,
     "user": {
      "displayName": "pam S",
      "photoUrl": "",
      "userId": "14096643837279750054"
     },
     "user_tz": -540
    },
    "id": "aRHY29lnjOtg",
    "outputId": "1478c0f3-0bb1-4e6c-c3b9-02a1ea70b845"
   },
   "outputs": [
    {
     "name": "stdout",
     "output_type": "stream",
     "text": [
      "alphabet\n"
     ]
    }
   ],
   "source": [
    "str_7 = 'Alphabet'\n",
    "print(str_7.lower())"
   ]
  },
  {
   "cell_type": "code",
   "execution_count": 40,
   "metadata": {
    "colab": {
     "base_uri": "https://localhost:8080/",
     "height": 34
    },
    "colab_type": "code",
    "executionInfo": {
     "elapsed": 887,
     "status": "ok",
     "timestamp": 1591346847278,
     "user": {
      "displayName": "pam S",
      "photoUrl": "",
      "userId": "14096643837279750054"
     },
     "user_tz": -540
    },
    "id": "eFtbQxPwjOtk",
    "outputId": "93098064-7dba-4ae8-b9c6-2f79bef7be20"
   },
   "outputs": [
    {
     "name": "stdout",
     "output_type": "stream",
     "text": [
      "ALPHABET\n"
     ]
    }
   ],
   "source": [
    "print(str_7.upper())"
   ]
  },
  {
   "cell_type": "markdown",
   "metadata": {
    "colab_type": "text",
    "id": "C3qk9VS9jOtn"
   },
   "source": [
    "+ 문자 갯수 세기"
   ]
  },
  {
   "cell_type": "code",
   "execution_count": 41,
   "metadata": {
    "colab": {
     "base_uri": "https://localhost:8080/",
     "height": 34
    },
    "colab_type": "code",
    "executionInfo": {
     "elapsed": 762,
     "status": "ok",
     "timestamp": 1591346856439,
     "user": {
      "displayName": "pam S",
      "photoUrl": "",
      "userId": "14096643837279750054"
     },
     "user_tz": -540
    },
    "id": "QWgFTvHrjOto",
    "outputId": "dab8199f-b67c-4dcf-ebff-7e9f6e1a02ff"
   },
   "outputs": [
    {
     "data": {
      "text/plain": [
       "1"
      ]
     },
     "execution_count": 41,
     "metadata": {},
     "output_type": "execute_result"
    }
   ],
   "source": [
    "str_7 = 'Alphabet'\n",
    "str_7.count('a')"
   ]
  },
  {
   "cell_type": "code",
   "execution_count": 42,
   "metadata": {
    "colab": {
     "base_uri": "https://localhost:8080/",
     "height": 34
    },
    "colab_type": "code",
    "executionInfo": {
     "elapsed": 478,
     "status": "ok",
     "timestamp": 1591346897126,
     "user": {
      "displayName": "pam S",
      "photoUrl": "",
      "userId": "14096643837279750054"
     },
     "user_tz": -540
    },
    "id": "XSz80Swdqg79",
    "outputId": "8df4bc51-a490-4a27-d3ba-84a4ee01cdb4"
   },
   "outputs": [
    {
     "data": {
      "text/plain": [
       "2"
      ]
     },
     "execution_count": 42,
     "metadata": {},
     "output_type": "execute_result"
    }
   ],
   "source": [
    "str_7.lower().count('a')"
   ]
  },
  {
   "cell_type": "markdown",
   "metadata": {
    "colab_type": "text",
    "id": "GxO5pOrJjOts"
   },
   "source": [
    "+ 문자의 위치 찾기"
   ]
  },
  {
   "cell_type": "code",
   "execution_count": 43,
   "metadata": {
    "colab": {
     "base_uri": "https://localhost:8080/",
     "height": 34
    },
    "colab_type": "code",
    "executionInfo": {
     "elapsed": 740,
     "status": "ok",
     "timestamp": 1591347293271,
     "user": {
      "displayName": "pam S",
      "photoUrl": "",
      "userId": "14096643837279750054"
     },
     "user_tz": -540
    },
    "id": "m-JiZ-DfjOtu",
    "outputId": "0fb452bc-4180-4ab4-b336-c94860aa0daf"
   },
   "outputs": [
    {
     "data": {
      "text/plain": [
       "7"
      ]
     },
     "execution_count": 43,
     "metadata": {},
     "output_type": "execute_result"
    }
   ],
   "source": [
    "str_7 = 'Alphabet'\n",
    "str_7.find('t')"
   ]
  },
  {
   "cell_type": "code",
   "execution_count": 44,
   "metadata": {
    "colab": {
     "base_uri": "https://localhost:8080/",
     "height": 34
    },
    "colab_type": "code",
    "executionInfo": {
     "elapsed": 492,
     "status": "ok",
     "timestamp": 1591347293676,
     "user": {
      "displayName": "pam S",
      "photoUrl": "",
      "userId": "14096643837279750054"
     },
     "user_tz": -540
    },
    "id": "aYlzIEFoncpi",
    "outputId": "156f9640-ac60-4fd9-aded-a7cefb7bd457"
   },
   "outputs": [
    {
     "data": {
      "text/plain": [
       "7"
      ]
     },
     "execution_count": 44,
     "metadata": {},
     "output_type": "execute_result"
    }
   ],
   "source": [
    "str_7.index('t')"
   ]
  },
  {
   "cell_type": "markdown",
   "metadata": {
    "colab_type": "text",
    "id": "ACCybhYPsDhY"
   },
   "source": [
    "find와 index의 차이점"
   ]
  },
  {
   "cell_type": "code",
   "execution_count": 45,
   "metadata": {
    "colab": {
     "base_uri": "https://localhost:8080/",
     "height": 34
    },
    "colab_type": "code",
    "executionInfo": {
     "elapsed": 1000,
     "status": "ok",
     "timestamp": 1591347295983,
     "user": {
      "displayName": "pam S",
      "photoUrl": "",
      "userId": "14096643837279750054"
     },
     "user_tz": -540
    },
    "id": "LwQJlTV5jOty",
    "outputId": "3d4f41b5-5235-41cf-8402-49d3c41e0d08"
   },
   "outputs": [
    {
     "data": {
      "text/plain": [
       "-1"
      ]
     },
     "execution_count": 45,
     "metadata": {},
     "output_type": "execute_result"
    }
   ],
   "source": [
    "str_7 = 'Alphabet'\n",
    "str_7.find('z')"
   ]
  },
  {
   "cell_type": "code",
   "execution_count": 46,
   "metadata": {
    "colab": {
     "base_uri": "https://localhost:8080/",
     "height": 164
    },
    "colab_type": "code",
    "executionInfo": {
     "elapsed": 504,
     "status": "error",
     "timestamp": 1591347295985,
     "user": {
      "displayName": "pam S",
      "photoUrl": "",
      "userId": "14096643837279750054"
     },
     "user_tz": -540
    },
    "id": "ix5gNniGjOt6",
    "outputId": "32eae6fc-d639-40f7-82f3-8af0bb7979f8"
   },
   "outputs": [
    {
     "ename": "ValueError",
     "evalue": "substring not found",
     "output_type": "error",
     "traceback": [
      "\u001b[0;31m---------------------------------------------------------------------------\u001b[0m",
      "\u001b[0;31mValueError\u001b[0m                                Traceback (most recent call last)",
      "\u001b[0;32m/tmp/ipykernel_4073/3480159556.py\u001b[0m in \u001b[0;36m<module>\u001b[0;34m\u001b[0m\n\u001b[0;32m----> 1\u001b[0;31m \u001b[0mstr_7\u001b[0m\u001b[0;34m.\u001b[0m\u001b[0mindex\u001b[0m\u001b[0;34m(\u001b[0m\u001b[0;34m'z'\u001b[0m\u001b[0;34m)\u001b[0m\u001b[0;34m\u001b[0m\u001b[0;34m\u001b[0m\u001b[0m\n\u001b[0m",
      "\u001b[0;31mValueError\u001b[0m: substring not found"
     ]
    }
   ],
   "source": [
    "str_7.index('z')"
   ]
  },
  {
   "cell_type": "markdown",
   "metadata": {
    "colab_type": "text",
    "id": "avr7SHdGjOuC"
   },
   "source": [
    "+ 문자열 바꾸기"
   ]
  },
  {
   "cell_type": "code",
   "execution_count": 47,
   "metadata": {
    "colab": {
     "base_uri": "https://localhost:8080/",
     "height": 34
    },
    "colab_type": "code",
    "executionInfo": {
     "elapsed": 677,
     "status": "ok",
     "timestamp": 1591349997130,
     "user": {
      "displayName": "pam S",
      "photoUrl": "",
      "userId": "14096643837279750054"
     },
     "user_tz": -540
    },
    "id": "f_M3dTu5jOuD",
    "outputId": "15bacec8-1798-46a5-e41b-d04d0cdcbc26"
   },
   "outputs": [
    {
     "data": {
      "text/plain": [
       "'Life is Chicken between B and D'"
      ]
     },
     "execution_count": 47,
     "metadata": {},
     "output_type": "execute_result"
    }
   ],
   "source": [
    "str_8 = 'Life is C between B and D'\n",
    "str_8.replace('C', 'Chicken')"
   ]
  },
  {
   "cell_type": "markdown",
   "metadata": {
    "colab_type": "text",
    "id": "5bFoffbvjOuG"
   },
   "source": [
    "+ 문자열 나누기"
   ]
  },
  {
   "cell_type": "code",
   "execution_count": 48,
   "metadata": {
    "colab": {
     "base_uri": "https://localhost:8080/",
     "height": 34
    },
    "colab_type": "code",
    "executionInfo": {
     "elapsed": 1183,
     "status": "ok",
     "timestamp": 1591349999595,
     "user": {
      "displayName": "pam S",
      "photoUrl": "",
      "userId": "14096643837279750054"
     },
     "user_tz": -540
    },
    "id": "ja3oJ8rdjOuI",
    "outputId": "2f53906b-dec1-43d5-b3e3-12f0eb7db601"
   },
   "outputs": [
    {
     "data": {
      "text/plain": [
       "['Life', 'is', 'C', 'between', 'B', 'and', 'D']"
      ]
     },
     "execution_count": 48,
     "metadata": {},
     "output_type": "execute_result"
    }
   ],
   "source": [
    "str_8.split(' ')"
   ]
  },
  {
   "cell_type": "markdown",
   "metadata": {
    "colab_type": "text",
    "id": "FIAGI_EOjOt9"
   },
   "source": [
    "+ 문자열 삽입하기"
   ]
  },
  {
   "cell_type": "code",
   "execution_count": 49,
   "metadata": {
    "colab": {
     "base_uri": "https://localhost:8080/",
     "height": 34
    },
    "colab_type": "code",
    "executionInfo": {
     "elapsed": 793,
     "status": "ok",
     "timestamp": 1591350003463,
     "user": {
      "displayName": "pam S",
      "photoUrl": "",
      "userId": "14096643837279750054"
     },
     "user_tz": -540
    },
    "id": "dcbtWygyjOt-",
    "outputId": "06905483-56d5-44bd-92c5-893b7cd625d5"
   },
   "outputs": [
    {
     "data": {
      "text/plain": [
       "'a,b,c,d'"
      ]
     },
     "execution_count": 49,
     "metadata": {},
     "output_type": "execute_result"
    }
   ],
   "source": [
    "str_9 = 'abcd'\n",
    "','.join(str_9)"
   ]
  },
  {
   "cell_type": "markdown",
   "metadata": {
    "colab_type": "text",
    "id": "F-ObGj7vwgG4"
   },
   "source": [
    "- 문자열 활용하기"
   ]
  },
  {
   "cell_type": "code",
   "execution_count": 50,
   "metadata": {
    "colab": {},
    "colab_type": "code",
    "id": "rY_Qjv9Aweeb"
   },
   "outputs": [],
   "source": [
    "str_10 = str_8.split()"
   ]
  },
  {
   "cell_type": "code",
   "execution_count": 51,
   "metadata": {
    "colab": {
     "base_uri": "https://localhost:8080/",
     "height": 34
    },
    "colab_type": "code",
    "executionInfo": {
     "elapsed": 372,
     "status": "ok",
     "timestamp": 1591350010317,
     "user": {
      "displayName": "pam S",
      "photoUrl": "",
      "userId": "14096643837279750054"
     },
     "user_tz": -540
    },
    "id": "xpW1MlCAwrqJ",
    "outputId": "ea161972-21d8-492a-e0a6-093c26709bb0"
   },
   "outputs": [
    {
     "data": {
      "text/plain": [
       "'Life is C between B and D'"
      ]
     },
     "execution_count": 51,
     "metadata": {},
     "output_type": "execute_result"
    }
   ],
   "source": [
    "' '.join(str_10)"
   ]
  },
  {
   "cell_type": "code",
   "execution_count": 52,
   "metadata": {
    "colab": {
     "base_uri": "https://localhost:8080/",
     "height": 54
    },
    "colab_type": "code",
    "executionInfo": {
     "elapsed": 653,
     "status": "ok",
     "timestamp": 1591348404281,
     "user": {
      "displayName": "pam S",
      "photoUrl": "",
      "userId": "14096643837279750054"
     },
     "user_tz": -540
    },
    "id": "yjXCadzpjOuL",
    "outputId": "4e19c991-f86e-444a-ac20-932e365a61b0"
   },
   "outputs": [
    {
     "name": "stdout",
     "output_type": "stream",
     "text": [
      "['__add__', '__class__', '__contains__', '__delattr__', '__dir__', '__doc__', '__eq__', '__format__', '__ge__', '__getattribute__', '__getitem__', '__getnewargs__', '__gt__', '__hash__', '__init__', '__init_subclass__', '__iter__', '__le__', '__len__', '__lt__', '__mod__', '__mul__', '__ne__', '__new__', '__reduce__', '__reduce_ex__', '__repr__', '__rmod__', '__rmul__', '__setattr__', '__sizeof__', '__str__', '__subclasshook__', 'capitalize', 'casefold', 'center', 'count', 'encode', 'endswith', 'expandtabs', 'find', 'format', 'format_map', 'index', 'isalnum', 'isalpha', 'isascii', 'isdecimal', 'isdigit', 'isidentifier', 'islower', 'isnumeric', 'isprintable', 'isspace', 'istitle', 'isupper', 'join', 'ljust', 'lower', 'lstrip', 'maketrans', 'partition', 'replace', 'rfind', 'rindex', 'rjust', 'rpartition', 'rsplit', 'rstrip', 'split', 'splitlines', 'startswith', 'strip', 'swapcase', 'title', 'translate', 'upper', 'zfill']\n"
     ]
    }
   ],
   "source": [
    "print(dir(str_9))"
   ]
  },
  {
   "cell_type": "markdown",
   "metadata": {
    "colab_type": "text",
    "id": "OJZF3-bWjOuO"
   },
   "source": [
    "# 3. 리스트\n",
    "### 3-1. list 선언"
   ]
  },
  {
   "cell_type": "code",
   "execution_count": 53,
   "metadata": {
    "colab": {},
    "colab_type": "code",
    "id": "-teZ0uFtjOuQ"
   },
   "outputs": [],
   "source": [
    "list_1 = [3,2,5]\n",
    "list_2 = list()"
   ]
  },
  {
   "cell_type": "code",
   "execution_count": 54,
   "metadata": {
    "colab": {
     "base_uri": "https://localhost:8080/",
     "height": 34
    },
    "colab_type": "code",
    "executionInfo": {
     "elapsed": 1059,
     "status": "ok",
     "timestamp": 1591364263344,
     "user": {
      "displayName": "pam S",
      "photoUrl": "",
      "userId": "14096643837279750054"
     },
     "user_tz": -540
    },
    "id": "KOt5T6OJjOua",
    "outputId": "35225a41-0e31-4477-90bc-50b9a6e3dc9f"
   },
   "outputs": [
    {
     "data": {
      "text/plain": [
       "list"
      ]
     },
     "execution_count": 54,
     "metadata": {},
     "output_type": "execute_result"
    }
   ],
   "source": [
    "type(list_1)"
   ]
  },
  {
   "cell_type": "markdown",
   "metadata": {
    "colab_type": "text",
    "id": "qH_6E0g0MAok"
   },
   "source": [
    "### 3-2. list 인덱싱"
   ]
  },
  {
   "cell_type": "code",
   "execution_count": 55,
   "metadata": {
    "colab": {},
    "colab_type": "code",
    "id": "IW5gJ_wmjOue"
   },
   "outputs": [],
   "source": [
    "list_3 = [1, 2, '문자', ['이중 리스트', '가능'], ('리스트 속', '튜플')]"
   ]
  },
  {
   "cell_type": "code",
   "execution_count": 56,
   "metadata": {
    "colab": {
     "base_uri": "https://localhost:8080/",
     "height": 34
    },
    "colab_type": "code",
    "executionInfo": {
     "elapsed": 2524,
     "status": "ok",
     "timestamp": 1591364221945,
     "user": {
      "displayName": "pam S",
      "photoUrl": "",
      "userId": "14096643837279750054"
     },
     "user_tz": -540
    },
    "id": "hEXbnCSXjOuh",
    "outputId": "34cc0d1a-16f5-47a2-8d0d-801ff6904a5f"
   },
   "outputs": [
    {
     "data": {
      "text/plain": [
       "['이중 리스트', '가능']"
      ]
     },
     "execution_count": 56,
     "metadata": {},
     "output_type": "execute_result"
    }
   ],
   "source": [
    "list_3[3]"
   ]
  },
  {
   "cell_type": "code",
   "execution_count": 57,
   "metadata": {
    "colab": {
     "base_uri": "https://localhost:8080/",
     "height": 34
    },
    "colab_type": "code",
    "executionInfo": {
     "elapsed": 1229,
     "status": "ok",
     "timestamp": 1591364266118,
     "user": {
      "displayName": "pam S",
      "photoUrl": "",
      "userId": "14096643837279750054"
     },
     "user_tz": -540
    },
    "id": "QyO6cUkQjOul",
    "outputId": "d402fffa-0507-4558-ff49-8addeb629486"
   },
   "outputs": [
    {
     "data": {
      "text/plain": [
       "'튜플'"
      ]
     },
     "execution_count": 57,
     "metadata": {},
     "output_type": "execute_result"
    }
   ],
   "source": [
    "list_3[4][1]"
   ]
  },
  {
   "cell_type": "markdown",
   "metadata": {
    "colab_type": "text",
    "id": "S_VMDMbKMVCw"
   },
   "source": [
    "더욱 복잡한 인덱싱을 해볼까요"
   ]
  },
  {
   "cell_type": "code",
   "execution_count": 58,
   "metadata": {
    "colab": {},
    "colab_type": "code",
    "id": "6QbINTeMMXqY"
   },
   "outputs": [],
   "source": [
    "list_4 = [[1,2,3,4],\n",
    "          [2,4,6,8],\n",
    "          [3,6,9,12],\n",
    "          [4,8,12,16],\n",
    "          [5,10,15,20]]"
   ]
  },
  {
   "cell_type": "code",
   "execution_count": 59,
   "metadata": {
    "colab": {
     "base_uri": "https://localhost:8080/",
     "height": 34
    },
    "colab_type": "code",
    "executionInfo": {
     "elapsed": 1382,
     "status": "ok",
     "timestamp": 1591364272244,
     "user": {
      "displayName": "pam S",
      "photoUrl": "",
      "userId": "14096643837279750054"
     },
     "user_tz": -540
    },
    "id": "jQJSkUl4NmwP",
    "outputId": "e4aa8b18-5ddc-428b-e42a-fee980016a66"
   },
   "outputs": [
    {
     "data": {
      "text/plain": [
       "[[1, 2, 3, 4], [2, 4, 6, 8], [3, 6, 9, 12], [4, 8, 12, 16], [5, 10, 15, 20]]"
      ]
     },
     "execution_count": 59,
     "metadata": {},
     "output_type": "execute_result"
    }
   ],
   "source": [
    "list_4"
   ]
  },
  {
   "cell_type": "code",
   "execution_count": 60,
   "metadata": {
    "colab": {
     "base_uri": "https://localhost:8080/",
     "height": 34
    },
    "colab_type": "code",
    "executionInfo": {
     "elapsed": 1007,
     "status": "ok",
     "timestamp": 1591364273402,
     "user": {
      "displayName": "pam S",
      "photoUrl": "",
      "userId": "14096643837279750054"
     },
     "user_tz": -540
    },
    "id": "qGTxeD3mPD41",
    "outputId": "8377f2a6-24e0-4e03-e853-e4ee5f6369c3"
   },
   "outputs": [
    {
     "data": {
      "text/plain": [
       "8"
      ]
     },
     "execution_count": 60,
     "metadata": {},
     "output_type": "execute_result"
    }
   ],
   "source": [
    "list_4[1][3]"
   ]
  },
  {
   "cell_type": "code",
   "execution_count": 61,
   "metadata": {
    "colab": {
     "base_uri": "https://localhost:8080/",
     "height": 34
    },
    "colab_type": "code",
    "executionInfo": {
     "elapsed": 1335,
     "status": "ok",
     "timestamp": 1591364274174,
     "user": {
      "displayName": "pam S",
      "photoUrl": "",
      "userId": "14096643837279750054"
     },
     "user_tz": -540
    },
    "id": "q-yOdow38Iwd",
    "outputId": "f8e1859e-2a89-43cc-b437-ee0b010c48d1"
   },
   "outputs": [
    {
     "data": {
      "text/plain": [
       "[2, 4, 6, 8]"
      ]
     },
     "execution_count": 61,
     "metadata": {},
     "output_type": "execute_result"
    }
   ],
   "source": [
    "list_4[1]"
   ]
  },
  {
   "cell_type": "code",
   "execution_count": 62,
   "metadata": {
    "colab": {},
    "colab_type": "code",
    "id": "Ss5q_vdaPv5D"
   },
   "outputs": [],
   "source": [
    "list_5 = [[[1,2,3],[4],[5,[6,7,8,9]]],\n",
    "          [10,11,[12,13,[14]]]]"
   ]
  },
  {
   "cell_type": "code",
   "execution_count": 63,
   "metadata": {
    "colab": {
     "base_uri": "https://localhost:8080/",
     "height": 34
    },
    "colab_type": "code",
    "executionInfo": {
     "elapsed": 1224,
     "status": "ok",
     "timestamp": 1591364275320,
     "user": {
      "displayName": "pam S",
      "photoUrl": "",
      "userId": "14096643837279750054"
     },
     "user_tz": -540
    },
    "id": "Vhc1a--UP8SU",
    "outputId": "f97d6b54-dc73-4949-9379-713b5f5c6bea"
   },
   "outputs": [
    {
     "data": {
      "text/plain": [
       "[14]"
      ]
     },
     "execution_count": 63,
     "metadata": {},
     "output_type": "execute_result"
    }
   ],
   "source": [
    "list_5[1][2][2]"
   ]
  },
  {
   "cell_type": "markdown",
   "metadata": {
    "colab_type": "text",
    "id": "9dCPa_PzmPOh"
   },
   "source": [
    "복잡한 슬라이싱을 해볼까요"
   ]
  },
  {
   "cell_type": "code",
   "execution_count": 64,
   "metadata": {
    "colab": {
     "base_uri": "https://localhost:8080/",
     "height": 34
    },
    "colab_type": "code",
    "executionInfo": {
     "elapsed": 1218,
     "status": "ok",
     "timestamp": 1591364279631,
     "user": {
      "displayName": "pam S",
      "photoUrl": "",
      "userId": "14096643837279750054"
     },
     "user_tz": -540
    },
    "id": "vHqdFmFZmSEG",
    "outputId": "083ca136-4c3a-43e1-f9c7-438ff5834703"
   },
   "outputs": [
    {
     "data": {
      "text/plain": [
       "[2, 4, 6]"
      ]
     },
     "execution_count": 64,
     "metadata": {},
     "output_type": "execute_result"
    }
   ],
   "source": [
    "list_4[1][:3]"
   ]
  },
  {
   "cell_type": "code",
   "execution_count": 65,
   "metadata": {
    "colab": {
     "base_uri": "https://localhost:8080/",
     "height": 34
    },
    "colab_type": "code",
    "executionInfo": {
     "elapsed": 783,
     "status": "ok",
     "timestamp": 1591364279632,
     "user": {
      "displayName": "pam S",
      "photoUrl": "",
      "userId": "14096643837279750054"
     },
     "user_tz": -540
    },
    "id": "ZmwkfZJLmgAx",
    "outputId": "91e5d57e-2eb0-4e11-ab1d-e3fbbd8ae5fd"
   },
   "outputs": [
    {
     "data": {
      "text/plain": [
       "[2, 4, 6, 8]"
      ]
     },
     "execution_count": 65,
     "metadata": {},
     "output_type": "execute_result"
    }
   ],
   "source": [
    "list_4[:2][1]"
   ]
  },
  {
   "cell_type": "code",
   "execution_count": 66,
   "metadata": {
    "colab": {
     "base_uri": "https://localhost:8080/",
     "height": 34
    },
    "colab_type": "code",
    "executionInfo": {
     "elapsed": 1445,
     "status": "ok",
     "timestamp": 1591364281819,
     "user": {
      "displayName": "pam S",
      "photoUrl": "",
      "userId": "14096643837279750054"
     },
     "user_tz": -540
    },
    "id": "uPtDmkyTm91d",
    "outputId": "425c484e-d995-4e28-f08d-9053cf047421"
   },
   "outputs": [
    {
     "data": {
      "text/plain": [
       "[[1, 2, 3], [4], [5, [6, 7, 8, 9]]]"
      ]
     },
     "execution_count": 66,
     "metadata": {},
     "output_type": "execute_result"
    }
   ],
   "source": [
    "list_5[:2][0]"
   ]
  },
  {
   "cell_type": "code",
   "execution_count": 67,
   "metadata": {
    "colab": {
     "base_uri": "https://localhost:8080/",
     "height": 34
    },
    "colab_type": "code",
    "executionInfo": {
     "elapsed": 683,
     "status": "ok",
     "timestamp": 1591364281820,
     "user": {
      "displayName": "pam S",
      "photoUrl": "",
      "userId": "14096643837279750054"
     },
     "user_tz": -540
    },
    "id": "4iiZdCEMndtZ",
    "outputId": "804f2c80-c44d-4cc6-8f73-e86954707603"
   },
   "outputs": [
    {
     "data": {
      "text/plain": [
       "[[1, 2, 3], [4]]"
      ]
     },
     "execution_count": 67,
     "metadata": {},
     "output_type": "execute_result"
    }
   ],
   "source": [
    "list_5[0][:2]"
   ]
  },
  {
   "cell_type": "markdown",
   "metadata": {
    "colab_type": "text",
    "id": "MIGiH6iqjOut"
   },
   "source": [
    "### 3-3. list의 연산"
   ]
  },
  {
   "cell_type": "code",
   "execution_count": 68,
   "metadata": {
    "colab": {},
    "colab_type": "code",
    "id": "y-jmK-crjOuu"
   },
   "outputs": [],
   "source": [
    "list_6 = ['a', 'b', 'c']"
   ]
  },
  {
   "cell_type": "code",
   "execution_count": 69,
   "metadata": {
    "colab": {},
    "colab_type": "code",
    "id": "_6T4l732jOux"
   },
   "outputs": [],
   "source": [
    "list_7 = ['가', '나', '다']"
   ]
  },
  {
   "cell_type": "code",
   "execution_count": 70,
   "metadata": {
    "colab": {
     "base_uri": "https://localhost:8080/",
     "height": 34
    },
    "colab_type": "code",
    "executionInfo": {
     "elapsed": 928,
     "status": "ok",
     "timestamp": 1591365353401,
     "user": {
      "displayName": "pam S",
      "photoUrl": "",
      "userId": "14096643837279750054"
     },
     "user_tz": -540
    },
    "id": "YmmcqQFtjOu1",
    "outputId": "fa4f2cc7-e466-4bd7-f746-89cfb10773b3"
   },
   "outputs": [
    {
     "data": {
      "text/plain": [
       "['a', 'b', 'c', '가', '나', '다']"
      ]
     },
     "execution_count": 70,
     "metadata": {},
     "output_type": "execute_result"
    }
   ],
   "source": [
    "list_6 + list_7"
   ]
  },
  {
   "cell_type": "code",
   "execution_count": 71,
   "metadata": {
    "colab": {
     "base_uri": "https://localhost:8080/",
     "height": 34
    },
    "colab_type": "code",
    "executionInfo": {
     "elapsed": 679,
     "status": "ok",
     "timestamp": 1591365353970,
     "user": {
      "displayName": "pam S",
      "photoUrl": "",
      "userId": "14096643837279750054"
     },
     "user_tz": -540
    },
    "id": "ELloABksjOu5",
    "outputId": "c6c9e3d3-a0b1-4af0-d9b6-569125a1047c"
   },
   "outputs": [
    {
     "data": {
      "text/plain": [
       "['a', 'b', 'c', 'a', 'b', 'c', 'a', 'b', 'c']"
      ]
     },
     "execution_count": 71,
     "metadata": {},
     "output_type": "execute_result"
    }
   ],
   "source": [
    "list_6 * 3"
   ]
  },
  {
   "cell_type": "markdown",
   "metadata": {
    "colab_type": "text",
    "id": "Pi1dz9YujOu9"
   },
   "source": [
    "### 3-4.list의 메소드\n",
    "+ append"
   ]
  },
  {
   "cell_type": "code",
   "execution_count": 72,
   "metadata": {
    "colab": {},
    "colab_type": "code",
    "id": "_t8uysTrjOu_"
   },
   "outputs": [],
   "source": [
    "list_8 = ['파이썬', 'C', 'java']"
   ]
  },
  {
   "cell_type": "code",
   "execution_count": 73,
   "metadata": {
    "colab": {
     "base_uri": "https://localhost:8080/",
     "height": 34
    },
    "colab_type": "code",
    "executionInfo": {
     "elapsed": 659,
     "status": "ok",
     "timestamp": 1591365533027,
     "user": {
      "displayName": "pam S",
      "photoUrl": "",
      "userId": "14096643837279750054"
     },
     "user_tz": -540
    },
    "id": "a3zXiEyUjOvC",
    "outputId": "3d60676a-5687-47fc-b331-a25475d703b5"
   },
   "outputs": [
    {
     "data": {
      "text/plain": [
       "['파이썬', 'C', 'java', 'R']"
      ]
     },
     "execution_count": 73,
     "metadata": {},
     "output_type": "execute_result"
    }
   ],
   "source": [
    "list_8.append('R')\n",
    "list_8"
   ]
  },
  {
   "cell_type": "markdown",
   "metadata": {
    "colab_type": "text",
    "id": "1m2FjE2wjOvF"
   },
   "source": [
    "+ insert"
   ]
  },
  {
   "cell_type": "code",
   "execution_count": 74,
   "metadata": {
    "colab": {
     "base_uri": "https://localhost:8080/",
     "height": 34
    },
    "colab_type": "code",
    "executionInfo": {
     "elapsed": 1264,
     "status": "ok",
     "timestamp": 1591365558236,
     "user": {
      "displayName": "pam S",
      "photoUrl": "",
      "userId": "14096643837279750054"
     },
     "user_tz": -540
    },
    "id": "Yrpt22ZMjOvG",
    "outputId": "3c90b48a-b1a3-40be-c00c-e191eba0ede0"
   },
   "outputs": [
    {
     "data": {
      "text/plain": [
       "['파이썬', 'C', 'C++', 'java', 'R']"
      ]
     },
     "execution_count": 74,
     "metadata": {},
     "output_type": "execute_result"
    }
   ],
   "source": [
    "list_8.insert(2, 'C++')\n",
    "list_8"
   ]
  },
  {
   "cell_type": "code",
   "execution_count": 75,
   "metadata": {
    "colab": {
     "base_uri": "https://localhost:8080/",
     "height": 34
    },
    "colab_type": "code",
    "executionInfo": {
     "elapsed": 588,
     "status": "ok",
     "timestamp": 1591365558756,
     "user": {
      "displayName": "pam S",
      "photoUrl": "",
      "userId": "14096643837279750054"
     },
     "user_tz": -540
    },
    "id": "2A3cllh4V1F5",
    "outputId": "2d364a6e-2088-4df1-f649-f1a985c1464a"
   },
   "outputs": [
    {
     "data": {
      "text/plain": [
       "['파이썬', 'C', 'C++', 'java', 'R', 'C']"
      ]
     },
     "execution_count": 75,
     "metadata": {},
     "output_type": "execute_result"
    }
   ],
   "source": [
    "list_8.insert(5, 'C')\n",
    "list_8"
   ]
  },
  {
   "cell_type": "markdown",
   "metadata": {
    "colab_type": "text",
    "id": "sD-wQlzJUQoK"
   },
   "source": [
    "- 수정"
   ]
  },
  {
   "cell_type": "code",
   "execution_count": 76,
   "metadata": {
    "colab": {
     "base_uri": "https://localhost:8080/",
     "height": 34
    },
    "colab_type": "code",
    "executionInfo": {
     "elapsed": 1375,
     "status": "ok",
     "timestamp": 1591365715546,
     "user": {
      "displayName": "pam S",
      "photoUrl": "",
      "userId": "14096643837279750054"
     },
     "user_tz": -540
    },
    "id": "jgPtar2bjOvJ",
    "outputId": "c729ad20-7ef0-4997-c014-2845e25a2138"
   },
   "outputs": [
    {
     "data": {
      "text/plain": [
       "['Python', 'C', 'C++', 'java', 'R', 'C']"
      ]
     },
     "execution_count": 76,
     "metadata": {},
     "output_type": "execute_result"
    }
   ],
   "source": [
    "list_8[0] = 'Python'\n",
    "list_8"
   ]
  },
  {
   "cell_type": "markdown",
   "metadata": {
    "colab_type": "text",
    "id": "qA3LUd_pjOva"
   },
   "source": [
    "+ remove"
   ]
  },
  {
   "cell_type": "code",
   "execution_count": 77,
   "metadata": {
    "colab": {
     "base_uri": "https://localhost:8080/",
     "height": 34
    },
    "colab_type": "code",
    "executionInfo": {
     "elapsed": 1080,
     "status": "ok",
     "timestamp": 1591365718590,
     "user": {
      "displayName": "pam S",
      "photoUrl": "",
      "userId": "14096643837279750054"
     },
     "user_tz": -540
    },
    "id": "Y977reIojOvQ",
    "outputId": "e940705a-5400-4f56-aa27-7874ed57271e"
   },
   "outputs": [
    {
     "data": {
      "text/plain": [
       "['Python', 'C', 'C++', 'java', 'R', 'C']"
      ]
     },
     "execution_count": 77,
     "metadata": {},
     "output_type": "execute_result"
    }
   ],
   "source": [
    "list_8"
   ]
  },
  {
   "cell_type": "code",
   "execution_count": 78,
   "metadata": {
    "colab": {
     "base_uri": "https://localhost:8080/",
     "height": 34
    },
    "colab_type": "code",
    "executionInfo": {
     "elapsed": 681,
     "status": "ok",
     "timestamp": 1591365718592,
     "user": {
      "displayName": "pam S",
      "photoUrl": "",
      "userId": "14096643837279750054"
     },
     "user_tz": -540
    },
    "id": "Jqu-TXhFjOvb",
    "outputId": "f0e11fbb-479c-44d0-f69b-23d02bc77b25"
   },
   "outputs": [
    {
     "data": {
      "text/plain": [
       "['Python', 'C++', 'java', 'R', 'C']"
      ]
     },
     "execution_count": 78,
     "metadata": {},
     "output_type": "execute_result"
    }
   ],
   "source": [
    "list_8.remove('C')\n",
    "list_8"
   ]
  },
  {
   "cell_type": "markdown",
   "metadata": {
    "colab_type": "text",
    "id": "kw8YUaAbygI0"
   },
   "source": [
    "- pop"
   ]
  },
  {
   "cell_type": "code",
   "execution_count": 79,
   "metadata": {
    "colab": {
     "base_uri": "https://localhost:8080/",
     "height": 34
    },
    "colab_type": "code",
    "executionInfo": {
     "elapsed": 1097,
     "status": "ok",
     "timestamp": 1591365719469,
     "user": {
      "displayName": "pam S",
      "photoUrl": "",
      "userId": "14096643837279750054"
     },
     "user_tz": -540
    },
    "id": "Watq4oq3jOvf",
    "outputId": "8edc46ee-85ab-410d-91a9-c01b86c20b88"
   },
   "outputs": [
    {
     "data": {
      "text/plain": [
       "'C'"
      ]
     },
     "execution_count": 79,
     "metadata": {},
     "output_type": "execute_result"
    }
   ],
   "source": [
    "list_8.pop()"
   ]
  },
  {
   "cell_type": "code",
   "execution_count": 80,
   "metadata": {
    "colab": {
     "base_uri": "https://localhost:8080/",
     "height": 34
    },
    "colab_type": "code",
    "executionInfo": {
     "elapsed": 1153,
     "status": "ok",
     "timestamp": 1591365777435,
     "user": {
      "displayName": "pam S",
      "photoUrl": "",
      "userId": "14096643837279750054"
     },
     "user_tz": -540
    },
    "id": "TnpQediajOvj",
    "outputId": "1cbd2a83-88dd-49ed-996c-ef1336843af4"
   },
   "outputs": [
    {
     "data": {
      "text/plain": [
       "['Python', 'C++', 'java', 'R']"
      ]
     },
     "execution_count": 80,
     "metadata": {},
     "output_type": "execute_result"
    }
   ],
   "source": [
    "list_8"
   ]
  },
  {
   "cell_type": "markdown",
   "metadata": {
    "colab_type": "text",
    "id": "BUY3lfSTjOvq"
   },
   "source": [
    "+ sort"
   ]
  },
  {
   "cell_type": "code",
   "execution_count": 81,
   "metadata": {
    "colab": {},
    "colab_type": "code",
    "id": "GXIkpXwrjOvr"
   },
   "outputs": [],
   "source": [
    "list_9 = [1,5,7,2,6]"
   ]
  },
  {
   "cell_type": "code",
   "execution_count": 82,
   "metadata": {
    "colab": {
     "base_uri": "https://localhost:8080/",
     "height": 34
    },
    "colab_type": "code",
    "executionInfo": {
     "elapsed": 655,
     "status": "ok",
     "timestamp": 1591366863956,
     "user": {
      "displayName": "pam S",
      "photoUrl": "",
      "userId": "14096643837279750054"
     },
     "user_tz": -540
    },
    "id": "iDLmePlwjOvv",
    "outputId": "1e6710ed-976f-425c-a91f-f1cbf564d52c"
   },
   "outputs": [
    {
     "data": {
      "text/plain": [
       "[1, 2, 5, 6, 7]"
      ]
     },
     "execution_count": 82,
     "metadata": {},
     "output_type": "execute_result"
    }
   ],
   "source": [
    "list_9.sort()\n",
    "list_9"
   ]
  },
  {
   "cell_type": "code",
   "execution_count": 83,
   "metadata": {
    "colab": {
     "base_uri": "https://localhost:8080/",
     "height": 34
    },
    "colab_type": "code",
    "executionInfo": {
     "elapsed": 1657,
     "status": "ok",
     "timestamp": 1591366888103,
     "user": {
      "displayName": "pam S",
      "photoUrl": "",
      "userId": "14096643837279750054"
     },
     "user_tz": -540
    },
    "id": "DaGSLfe42Jwh",
    "outputId": "b3416643-2fa0-42c7-c82d-4cc159d84d41"
   },
   "outputs": [
    {
     "data": {
      "text/plain": [
       "[47, 12, 6, 1]"
      ]
     },
     "execution_count": 83,
     "metadata": {},
     "output_type": "execute_result"
    }
   ],
   "source": [
    "list_10 = [1,47,12,6]\n",
    "list_10.sort(reverse=True)\n",
    "list_10"
   ]
  },
  {
   "cell_type": "markdown",
   "metadata": {
    "colab_type": "text",
    "id": "Ib7iZB8pjOv0"
   },
   "source": [
    "+ reverse"
   ]
  },
  {
   "cell_type": "code",
   "execution_count": 84,
   "metadata": {
    "colab": {
     "base_uri": "https://localhost:8080/",
     "height": 34
    },
    "colab_type": "code",
    "executionInfo": {
     "elapsed": 895,
     "status": "ok",
     "timestamp": 1591366865350,
     "user": {
      "displayName": "pam S",
      "photoUrl": "",
      "userId": "14096643837279750054"
     },
     "user_tz": -540
    },
    "id": "iYiD8wNE2xyv",
    "outputId": "fad73604-162c-4c55-b752-aa511292f139"
   },
   "outputs": [
    {
     "data": {
      "text/plain": [
       "[1, 2, 5, 6, 7]"
      ]
     },
     "execution_count": 84,
     "metadata": {},
     "output_type": "execute_result"
    }
   ],
   "source": [
    "list_9"
   ]
  },
  {
   "cell_type": "code",
   "execution_count": 85,
   "metadata": {
    "colab": {
     "base_uri": "https://localhost:8080/",
     "height": 34
    },
    "colab_type": "code",
    "executionInfo": {
     "elapsed": 806,
     "status": "ok",
     "timestamp": 1591366866061,
     "user": {
      "displayName": "pam S",
      "photoUrl": "",
      "userId": "14096643837279750054"
     },
     "user_tz": -540
    },
    "id": "_suWzRH7jOv1",
    "outputId": "f5e5375d-04bd-40c8-921e-ee2a9bbd0522"
   },
   "outputs": [
    {
     "data": {
      "text/plain": [
       "[7, 6, 5, 2, 1]"
      ]
     },
     "execution_count": 85,
     "metadata": {},
     "output_type": "execute_result"
    }
   ],
   "source": [
    "list_9.reverse()\n",
    "list_9"
   ]
  },
  {
   "cell_type": "code",
   "execution_count": 86,
   "metadata": {
    "colab": {
     "base_uri": "https://localhost:8080/",
     "height": 34
    },
    "colab_type": "code",
    "executionInfo": {
     "elapsed": 1223,
     "status": "ok",
     "timestamp": 1591366889959,
     "user": {
      "displayName": "pam S",
      "photoUrl": "",
      "userId": "14096643837279750054"
     },
     "user_tz": -540
    },
    "id": "m8Fv27kN22DP",
    "outputId": "49d5a351-a6fe-491d-b4c8-2e74c2cf35c8"
   },
   "outputs": [
    {
     "data": {
      "text/plain": [
       "[1, 6, 12, 47]"
      ]
     },
     "execution_count": 86,
     "metadata": {},
     "output_type": "execute_result"
    }
   ],
   "source": [
    "list_10.reverse()\n",
    "list_10"
   ]
  },
  {
   "cell_type": "markdown",
   "metadata": {
    "colab_type": "text",
    "id": "RZOmtbECTBpA"
   },
   "source": [
    "# 연습문제 3"
   ]
  },
  {
   "cell_type": "markdown",
   "metadata": {
    "colab_type": "text",
    "id": "o6S7s4i7VtaH"
   },
   "source": [
    "## 1번\n",
    "다음과 같은 출력값을 만들어보자\n"
   ]
  },
  {
   "cell_type": "code",
   "execution_count": 87,
   "metadata": {
    "colab": {},
    "colab_type": "code",
    "id": "yL_HauO7Yfym"
   },
   "outputs": [],
   "source": [
    "a = '아메리카노를'\n",
    "b = '좋아한다'\n",
    "c = '많이'"
   ]
  },
  {
   "cell_type": "code",
   "execution_count": 88,
   "metadata": {
    "colab": {
     "base_uri": "https://localhost:8080/",
     "height": 37
    },
    "colab_type": "code",
    "executionInfo": {
     "elapsed": 705,
     "status": "ok",
     "timestamp": 1593271184695,
     "user": {
      "displayName": "pam S",
      "photoUrl": "",
      "userId": "14096643837279750054"
     },
     "user_tz": -540
    },
    "id": "CSpJ7OTGWmRo",
    "outputId": "939ced6d-8adf-49c3-b8dd-13206021158a"
   },
   "outputs": [],
   "source": [
    "# 정답을 적어주세요"
   ]
  },
  {
   "cell_type": "markdown",
   "metadata": {},
   "source": [
    "아메리카노를많이많이많이좋아한다"
   ]
  },
  {
   "cell_type": "markdown",
   "metadata": {
    "colab_type": "text",
    "id": "LrNgftN8PW2F"
   },
   "source": [
    "## 2번\n",
    "좋아하는 음식 5개를 food라는 리스트에 담아보자"
   ]
  },
  {
   "cell_type": "code",
   "execution_count": 92,
   "metadata": {
    "colab": {},
    "colab_type": "code",
    "id": "C5DrGz5_TBpJ"
   },
   "outputs": [],
   "source": [
    "# 정답을 적어주세요"
   ]
  },
  {
   "cell_type": "markdown",
   "metadata": {
    "colab_type": "text",
    "id": "uZgrCDSuTBpY"
   },
   "source": [
    "## 3번\n",
    "리스트 food의 가장 앞에 파이썬이, 가장 뒤에는 집이라는 단어가 오도록 수정해보자"
   ]
  },
  {
   "cell_type": "code",
   "execution_count": 93,
   "metadata": {
    "colab": {},
    "colab_type": "code",
    "id": "5h0z3pcLTBpa"
   },
   "outputs": [],
   "source": [
    "# 정답을 적어주세요"
   ]
  },
  {
   "cell_type": "code",
   "execution_count": 94,
   "metadata": {
    "colab": {},
    "colab_type": "code",
    "id": "q-K5tLLaTBpt"
   },
   "outputs": [],
   "source": [
    "# 아래의 주석을 풀고 실행시켜보세요\n",
    "# food"
   ]
  },
  {
   "cell_type": "markdown",
   "metadata": {
    "colab_type": "text",
    "id": "BRzdNA7iTBp1"
   },
   "source": [
    "## 4번\n",
    "pop을 이용하여 파이썬을 삭제해보자"
   ]
  },
  {
   "cell_type": "code",
   "execution_count": 95,
   "metadata": {
    "colab": {},
    "colab_type": "code",
    "id": "dhcYpudxTBp3"
   },
   "outputs": [],
   "source": [
    "# 정답을 적어주세요"
   ]
  },
  {
   "cell_type": "code",
   "execution_count": 96,
   "metadata": {
    "colab": {},
    "colab_type": "code",
    "id": "U9fmb9gUTBp-"
   },
   "outputs": [],
   "source": [
    "# 아래의 주석을 풀고 실행시켜보세요\n",
    "# food"
   ]
  },
  {
   "cell_type": "markdown",
   "metadata": {
    "colab_type": "text",
    "id": "2De_PPpRTBqG"
   },
   "source": [
    "## 5번\n",
    "remove를 이용하여 집을 삭제해보자"
   ]
  },
  {
   "cell_type": "code",
   "execution_count": 97,
   "metadata": {
    "colab": {},
    "colab_type": "code",
    "id": "HblcK_MYTBqJ"
   },
   "outputs": [],
   "source": [
    "# 정답을 적어주세요"
   ]
  },
  {
   "cell_type": "code",
   "execution_count": 98,
   "metadata": {
    "colab": {},
    "colab_type": "code",
    "id": "cYCSHgwyTBqQ"
   },
   "outputs": [],
   "source": [
    "# 아래의 주석을 풀고 실행시켜보세요\n",
    "# food"
   ]
  },
  {
   "cell_type": "markdown",
   "metadata": {
    "colab_type": "text",
    "id": "qmWX2XlDTBqX"
   },
   "source": [
    "## 6번\n",
    "pop과 remove의 차이점을 몸소 느껴보자"
   ]
  },
  {
   "cell_type": "markdown",
   "metadata": {
    "colab_type": "text",
    "id": "ma-IUEEGTBqa"
   },
   "source": [
    "## 7번\n",
    "len( ) 함수를 이용하여 리스트의 길이를 확인해보자"
   ]
  },
  {
   "cell_type": "code",
   "execution_count": 99,
   "metadata": {
    "colab": {
     "base_uri": "https://localhost:8080/",
     "height": 34
    },
    "colab_type": "code",
    "executionInfo": {
     "elapsed": 876,
     "status": "ok",
     "timestamp": 1591596203442,
     "user": {
      "displayName": "pam S",
      "photoUrl": "",
      "userId": "14096643837279750054"
     },
     "user_tz": -540
    },
    "id": "7mx-RMehTBqc",
    "outputId": "cdce0487-0c40-4e95-cdb2-776bfa220204"
   },
   "outputs": [],
   "source": [
    "# 정답을 적어주세요"
   ]
  },
  {
   "cell_type": "markdown",
   "metadata": {
    "colab_type": "text",
    "id": "Ihx2423aTBqi"
   },
   "source": [
    "## 8번\n",
    "len( ) 함수를 이용하여 리스트 첫번째 요소의 길이를 확인해보자"
   ]
  },
  {
   "cell_type": "code",
   "execution_count": 100,
   "metadata": {
    "colab": {
     "base_uri": "https://localhost:8080/",
     "height": 34
    },
    "colab_type": "code",
    "executionInfo": {
     "elapsed": 882,
     "status": "ok",
     "timestamp": 1591596224426,
     "user": {
      "displayName": "pam S",
      "photoUrl": "",
      "userId": "14096643837279750054"
     },
     "user_tz": -540
    },
    "id": "PFGb96a2TBqk",
    "outputId": "06702ab4-58bd-4e46-c618-846b845eb3f0"
   },
   "outputs": [],
   "source": [
    "# 정답을 적어주세요"
   ]
  },
  {
   "cell_type": "markdown",
   "metadata": {
    "colab_type": "text",
    "id": "yJDeU2evjOv4"
   },
   "source": [
    "# 4. 튜플\n",
    "### 4-1. tuple의 선언"
   ]
  },
  {
   "cell_type": "code",
   "execution_count": 101,
   "metadata": {
    "colab": {},
    "colab_type": "code",
    "id": "cYS1qJbVjOv5"
   },
   "outputs": [],
   "source": [
    "tuple_1 = ()\n",
    "tuple_2 = tuple()"
   ]
  },
  {
   "cell_type": "code",
   "execution_count": 102,
   "metadata": {
    "colab": {},
    "colab_type": "code",
    "id": "Z3qg9nNBjOv8"
   },
   "outputs": [],
   "source": [
    "tuple_3 = (1, 2)\n",
    "tuple_4 = (3,)\n",
    "tuple_5 = (4, 5, (6, 7))\n",
    "tuple_6 = 8, 9, 10"
   ]
  },
  {
   "cell_type": "markdown",
   "metadata": {
    "colab_type": "text",
    "id": "wiCUL39qjOv-"
   },
   "source": [
    "\n",
    "+ tuple의 특징 : 삽입/삭제/수정이 불가능"
   ]
  },
  {
   "cell_type": "code",
   "execution_count": 103,
   "metadata": {
    "colab": {
     "base_uri": "https://localhost:8080/",
     "height": 181
    },
    "colab_type": "code",
    "executionInfo": {
     "elapsed": 994,
     "status": "error",
     "timestamp": 1591367088719,
     "user": {
      "displayName": "pam S",
      "photoUrl": "",
      "userId": "14096643837279750054"
     },
     "user_tz": -540
    },
    "id": "1c_aRJYfjOwA",
    "outputId": "80a56c8d-652f-4c4d-8410-0f449cb95ed0"
   },
   "outputs": [
    {
     "ename": "TypeError",
     "evalue": "'tuple' object does not support item assignment",
     "output_type": "error",
     "traceback": [
      "\u001b[0;31m---------------------------------------------------------------------------\u001b[0m",
      "\u001b[0;31mTypeError\u001b[0m                                 Traceback (most recent call last)",
      "\u001b[0;32m/tmp/ipykernel_4073/1799681301.py\u001b[0m in \u001b[0;36m<module>\u001b[0;34m\u001b[0m\n\u001b[1;32m      1\u001b[0m \u001b[0mtuple_3\u001b[0m \u001b[0;34m=\u001b[0m \u001b[0;34m(\u001b[0m\u001b[0;36m1\u001b[0m\u001b[0;34m,\u001b[0m \u001b[0;36m2\u001b[0m\u001b[0;34m)\u001b[0m\u001b[0;34m\u001b[0m\u001b[0;34m\u001b[0m\u001b[0m\n\u001b[0;32m----> 2\u001b[0;31m \u001b[0mtuple_3\u001b[0m\u001b[0;34m[\u001b[0m\u001b[0;36m0\u001b[0m\u001b[0;34m]\u001b[0m \u001b[0;34m=\u001b[0m \u001b[0;36m3\u001b[0m\u001b[0;34m\u001b[0m\u001b[0;34m\u001b[0m\u001b[0m\n\u001b[0m",
      "\u001b[0;31mTypeError\u001b[0m: 'tuple' object does not support item assignment"
     ]
    }
   ],
   "source": [
    "tuple_3 = (1, 2)\n",
    "tuple_3[0] = 3"
   ]
  },
  {
   "cell_type": "markdown",
   "metadata": {
    "colab_type": "text",
    "id": "WhcE_k6ojOwD"
   },
   "source": [
    "### 4-2. tuple의 연산"
   ]
  },
  {
   "cell_type": "code",
   "execution_count": 104,
   "metadata": {
    "colab": {
     "base_uri": "https://localhost:8080/",
     "height": 34
    },
    "colab_type": "code",
    "executionInfo": {
     "elapsed": 1485,
     "status": "ok",
     "timestamp": 1591367092708,
     "user": {
      "displayName": "pam S",
      "photoUrl": "",
      "userId": "14096643837279750054"
     },
     "user_tz": -540
    },
    "id": "a8tjq3QljOwE",
    "outputId": "ff9ae4d7-b084-496e-dccf-48a603c59667"
   },
   "outputs": [
    {
     "data": {
      "text/plain": [
       "(1, 2, 3)"
      ]
     },
     "execution_count": 104,
     "metadata": {},
     "output_type": "execute_result"
    }
   ],
   "source": [
    "tuple_3 = (1, 2)\n",
    "tuple_4 = (3, )\n",
    "tuple_3 + tuple_4"
   ]
  },
  {
   "cell_type": "code",
   "execution_count": 105,
   "metadata": {
    "colab": {
     "base_uri": "https://localhost:8080/",
     "height": 34
    },
    "colab_type": "code",
    "executionInfo": {
     "elapsed": 999,
     "status": "ok",
     "timestamp": 1591367093175,
     "user": {
      "displayName": "pam S",
      "photoUrl": "",
      "userId": "14096643837279750054"
     },
     "user_tz": -540
    },
    "id": "qUyId7GkjOwL",
    "outputId": "853134ae-40b9-4939-926a-2d22f9e5c97e"
   },
   "outputs": [
    {
     "data": {
      "text/plain": [
       "(3, 3)"
      ]
     },
     "execution_count": 105,
     "metadata": {},
     "output_type": "execute_result"
    }
   ],
   "source": [
    "tuple_4 * 2"
   ]
  },
  {
   "cell_type": "markdown",
   "metadata": {
    "colab_type": "text",
    "id": "0ienIxvLjOwQ"
   },
   "source": [
    "# 5. 딕셔너리\n",
    "### 5-1. dictionary의 선언"
   ]
  },
  {
   "cell_type": "code",
   "execution_count": 106,
   "metadata": {
    "colab": {},
    "colab_type": "code",
    "id": "OG0psht_jOwR"
   },
   "outputs": [],
   "source": [
    "dict_1 = {'key' : 'value'}\n",
    "dict_2 = dict()"
   ]
  },
  {
   "cell_type": "markdown",
   "metadata": {
    "colab_type": "text",
    "id": "1U1PlGoYjOwU"
   },
   "source": [
    "### 5-2.  dictionary 삽입, 삭제, 수정"
   ]
  },
  {
   "cell_type": "code",
   "execution_count": 107,
   "metadata": {
    "colab": {},
    "colab_type": "code",
    "id": "6_OfOGpejOwV"
   },
   "outputs": [],
   "source": [
    "dict_3 = {'홍길동' : 100, '홍계월' : 200}"
   ]
  },
  {
   "cell_type": "code",
   "execution_count": 108,
   "metadata": {
    "colab": {
     "base_uri": "https://localhost:8080/",
     "height": 34
    },
    "colab_type": "code",
    "executionInfo": {
     "elapsed": 682,
     "status": "ok",
     "timestamp": 1591367336363,
     "user": {
      "displayName": "pam S",
      "photoUrl": "",
      "userId": "14096643837279750054"
     },
     "user_tz": -540
    },
    "id": "eKVtd3btjOwZ",
    "outputId": "6855e875-7eb3-4d07-e2ef-aa423c1f60bc"
   },
   "outputs": [
    {
     "data": {
      "text/plain": [
       "{'홍길동': 100, '홍계월': 200, '슈퍼맨': 300}"
      ]
     },
     "execution_count": 108,
     "metadata": {},
     "output_type": "execute_result"
    }
   ],
   "source": [
    "dict_3['슈퍼맨'] = 300\n",
    "dict_3"
   ]
  },
  {
   "cell_type": "code",
   "execution_count": 109,
   "metadata": {
    "colab": {
     "base_uri": "https://localhost:8080/",
     "height": 34
    },
    "colab_type": "code",
    "executionInfo": {
     "elapsed": 685,
     "status": "ok",
     "timestamp": 1591367338140,
     "user": {
      "displayName": "pam S",
      "photoUrl": "",
      "userId": "14096643837279750054"
     },
     "user_tz": -540
    },
    "id": "zWHPc5tNjOwg",
    "outputId": "02c8b7f0-e148-458b-e8b4-8ef74bc5ae56"
   },
   "outputs": [
    {
     "data": {
      "text/plain": [
       "{'홍길동': 1, '홍계월': 200, '슈퍼맨': 300}"
      ]
     },
     "execution_count": 109,
     "metadata": {},
     "output_type": "execute_result"
    }
   ],
   "source": [
    "dict_3['홍길동'] = 1\n",
    "dict_3"
   ]
  },
  {
   "cell_type": "code",
   "execution_count": 110,
   "metadata": {
    "colab": {
     "base_uri": "https://localhost:8080/",
     "height": 34
    },
    "colab_type": "code",
    "executionInfo": {
     "elapsed": 924,
     "status": "ok",
     "timestamp": 1591367336940,
     "user": {
      "displayName": "pam S",
      "photoUrl": "",
      "userId": "14096643837279750054"
     },
     "user_tz": -540
    },
    "id": "MZg7PYAljOwd",
    "outputId": "a0bd1a2f-c597-46be-ec0a-dca98736177e"
   },
   "outputs": [
    {
     "data": {
      "text/plain": [
       "{'홍길동': 1, '홍계월': 200}"
      ]
     },
     "execution_count": 110,
     "metadata": {},
     "output_type": "execute_result"
    }
   ],
   "source": [
    "del dict_3['슈퍼맨']\n",
    "dict_3"
   ]
  },
  {
   "cell_type": "markdown",
   "metadata": {
    "colab_type": "text",
    "id": "RAPGEtuojOwk"
   },
   "source": [
    "### 5-3. dictionary에 접근하기"
   ]
  },
  {
   "cell_type": "markdown",
   "metadata": {
    "colab_type": "text",
    "id": "NOqRcczFjOwm"
   },
   "source": [
    "+ key에 접근하기"
   ]
  },
  {
   "cell_type": "code",
   "execution_count": 111,
   "metadata": {
    "colab": {
     "base_uri": "https://localhost:8080/",
     "height": 51
    },
    "colab_type": "code",
    "executionInfo": {
     "elapsed": 1601,
     "status": "ok",
     "timestamp": 1591368238901,
     "user": {
      "displayName": "pam S",
      "photoUrl": "",
      "userId": "14096643837279750054"
     },
     "user_tz": -540
    },
    "id": "u0doh20bjOwn",
    "outputId": "c4592ade-1680-498d-b932-ae61a1dd137c"
   },
   "outputs": [
    {
     "name": "stdout",
     "output_type": "stream",
     "text": [
      "dict_keys(['홍길동', '홍계월', '슈퍼맨', '배트맨'])\n",
      "<class 'dict_keys'>\n"
     ]
    }
   ],
   "source": [
    "dict_3 = {'홍길동' : 100, '홍계월' : 200, '슈퍼맨' : 150, '배트맨' : 250}\n",
    "print(dict_3.keys())\n",
    "print(type(dict_3.keys()))"
   ]
  },
  {
   "cell_type": "markdown",
   "metadata": {
    "colab_type": "text",
    "id": "ZzeIxKXAjOws"
   },
   "source": [
    "+ value에 접근하기"
   ]
  },
  {
   "cell_type": "code",
   "execution_count": 112,
   "metadata": {
    "colab": {
     "base_uri": "https://localhost:8080/",
     "height": 51
    },
    "colab_type": "code",
    "executionInfo": {
     "elapsed": 619,
     "status": "ok",
     "timestamp": 1591368240220,
     "user": {
      "displayName": "pam S",
      "photoUrl": "",
      "userId": "14096643837279750054"
     },
     "user_tz": -540
    },
    "id": "fhZrJZpjjOwt",
    "outputId": "09387e8d-d4b0-4deb-8741-59eb7b1675aa"
   },
   "outputs": [
    {
     "name": "stdout",
     "output_type": "stream",
     "text": [
      "dict_values([100, 200, 150, 250])\n",
      "<class 'dict_values'>\n"
     ]
    }
   ],
   "source": [
    "print(dict_3.values())\n",
    "print(type(dict_3.values()))"
   ]
  },
  {
   "cell_type": "markdown",
   "metadata": {
    "colab_type": "text",
    "id": "Jl_EmC8-jOwy"
   },
   "source": [
    "+ key와 value에 함께 접근하기"
   ]
  },
  {
   "cell_type": "code",
   "execution_count": 113,
   "metadata": {
    "colab": {
     "base_uri": "https://localhost:8080/",
     "height": 51
    },
    "colab_type": "code",
    "executionInfo": {
     "elapsed": 939,
     "status": "ok",
     "timestamp": 1591368244125,
     "user": {
      "displayName": "pam S",
      "photoUrl": "",
      "userId": "14096643837279750054"
     },
     "user_tz": -540
    },
    "id": "eXzjvqZbjOwy",
    "outputId": "902c4a9c-1d18-44dc-c87b-a875541d1973"
   },
   "outputs": [
    {
     "name": "stdout",
     "output_type": "stream",
     "text": [
      "dict_items([('홍길동', 100), ('홍계월', 200), ('슈퍼맨', 150), ('배트맨', 250)])\n",
      "<class 'dict_items'>\n"
     ]
    }
   ],
   "source": [
    "print(dict_3.items())\n",
    "print(type(dict_3.items()))"
   ]
  },
  {
   "cell_type": "code",
   "execution_count": 114,
   "metadata": {
    "colab": {
     "base_uri": "https://localhost:8080/",
     "height": 34
    },
    "colab_type": "code",
    "executionInfo": {
     "elapsed": 821,
     "status": "ok",
     "timestamp": 1591368248707,
     "user": {
      "displayName": "pam S",
      "photoUrl": "",
      "userId": "14096643837279750054"
     },
     "user_tz": -540
    },
    "id": "Xr9agLzWjOw3",
    "outputId": "23b91c9c-c9f2-416c-b351-ac1dda0fd0e1"
   },
   "outputs": [
    {
     "data": {
      "text/plain": [
       "'홍길동'"
      ]
     },
     "execution_count": 114,
     "metadata": {},
     "output_type": "execute_result"
    }
   ],
   "source": [
    "list(dict_3.keys())[0]"
   ]
  },
  {
   "cell_type": "markdown",
   "metadata": {
    "colab_type": "text",
    "id": "bt2afg-EjOw2"
   },
   "source": [
    "+ key를 이용하여 value에 접근하기"
   ]
  },
  {
   "cell_type": "code",
   "execution_count": 115,
   "metadata": {
    "colab": {
     "base_uri": "https://localhost:8080/",
     "height": 34
    },
    "colab_type": "code",
    "executionInfo": {
     "elapsed": 645,
     "status": "ok",
     "timestamp": 1591368249165,
     "user": {
      "displayName": "pam S",
      "photoUrl": "",
      "userId": "14096643837279750054"
     },
     "user_tz": -540
    },
    "id": "4Hga4PuzjOw8",
    "outputId": "2b5525bf-d01a-4621-b041-9656beb9c19a"
   },
   "outputs": [
    {
     "data": {
      "text/plain": [
       "{'홍길동': 100, '홍계월': 200, '슈퍼맨': 150, '배트맨': 250}"
      ]
     },
     "execution_count": 115,
     "metadata": {},
     "output_type": "execute_result"
    }
   ],
   "source": [
    "dict_3"
   ]
  },
  {
   "cell_type": "code",
   "execution_count": 116,
   "metadata": {
    "colab": {
     "base_uri": "https://localhost:8080/",
     "height": 51
    },
    "colab_type": "code",
    "executionInfo": {
     "elapsed": 1121,
     "status": "ok",
     "timestamp": 1591368312838,
     "user": {
      "displayName": "pam S",
      "photoUrl": "",
      "userId": "14096643837279750054"
     },
     "user_tz": -540
    },
    "id": "1iaceWp1jOw_",
    "outputId": "64805633-8077-421d-d69b-487cf3f213f6"
   },
   "outputs": [
    {
     "name": "stdout",
     "output_type": "stream",
     "text": [
      "250\n",
      "250\n"
     ]
    }
   ],
   "source": [
    "print(dict_3['배트맨'])\n",
    "print(dict_3.get('배트맨'))"
   ]
  },
  {
   "cell_type": "code",
   "execution_count": 117,
   "metadata": {
    "colab": {
     "base_uri": "https://localhost:8080/",
     "height": 164
    },
    "colab_type": "code",
    "executionInfo": {
     "elapsed": 1302,
     "status": "error",
     "timestamp": 1591368315254,
     "user": {
      "displayName": "pam S",
      "photoUrl": "",
      "userId": "14096643837279750054"
     },
     "user_tz": -540
    },
    "id": "bHwnry1yjOxE",
    "outputId": "173968a4-11b1-415e-9bb7-8890af9c3fb1"
   },
   "outputs": [
    {
     "ename": "KeyError",
     "evalue": "'펭수'",
     "output_type": "error",
     "traceback": [
      "\u001b[0;31m---------------------------------------------------------------------------\u001b[0m",
      "\u001b[0;31mKeyError\u001b[0m                                  Traceback (most recent call last)",
      "\u001b[0;32m/tmp/ipykernel_4073/3844626380.py\u001b[0m in \u001b[0;36m<module>\u001b[0;34m\u001b[0m\n\u001b[0;32m----> 1\u001b[0;31m \u001b[0mprint\u001b[0m\u001b[0;34m(\u001b[0m\u001b[0mdict_3\u001b[0m\u001b[0;34m[\u001b[0m\u001b[0;34m'펭수'\u001b[0m\u001b[0;34m]\u001b[0m\u001b[0;34m)\u001b[0m\u001b[0;34m\u001b[0m\u001b[0;34m\u001b[0m\u001b[0m\n\u001b[0m",
      "\u001b[0;31mKeyError\u001b[0m: '펭수'"
     ]
    }
   ],
   "source": [
    "print(dict_3['펭수'])"
   ]
  },
  {
   "cell_type": "code",
   "execution_count": 118,
   "metadata": {
    "colab": {
     "base_uri": "https://localhost:8080/",
     "height": 34
    },
    "colab_type": "code",
    "executionInfo": {
     "elapsed": 555,
     "status": "ok",
     "timestamp": 1591368315732,
     "user": {
      "displayName": "pam S",
      "photoUrl": "",
      "userId": "14096643837279750054"
     },
     "user_tz": -540
    },
    "id": "UP3cEke-jOxH",
    "outputId": "af34a72d-e02e-4b4d-b833-b1680c4b1f60"
   },
   "outputs": [
    {
     "name": "stdout",
     "output_type": "stream",
     "text": [
      "None\n"
     ]
    }
   ],
   "source": [
    "print(dict_3.get('펭수'))"
   ]
  },
  {
   "cell_type": "markdown",
   "metadata": {
    "colab_type": "text",
    "id": "V-SgOYCzjOxM"
   },
   "source": [
    "# 6. 셋\n",
    "### 6-1. set의 선언"
   ]
  },
  {
   "cell_type": "code",
   "execution_count": 119,
   "metadata": {
    "colab": {},
    "colab_type": "code",
    "id": "B1jcWCZGjOxN"
   },
   "outputs": [],
   "source": [
    "set_1 = set()\n",
    "set_2 = set('Hello')\n",
    "set_3 = set([1, 2, 3])\n",
    "set_4 = {3,5, 'hi'}"
   ]
  },
  {
   "cell_type": "code",
   "execution_count": 120,
   "metadata": {
    "colab": {
     "base_uri": "https://localhost:8080/",
     "height": 34
    },
    "colab_type": "code",
    "executionInfo": {
     "elapsed": 796,
     "status": "ok",
     "timestamp": 1591368788820,
     "user": {
      "displayName": "pam S",
      "photoUrl": "",
      "userId": "14096643837279750054"
     },
     "user_tz": -540
    },
    "id": "H41CdWhsjOxQ",
    "outputId": "5810c765-4f99-46ab-f02a-0f58a5a974f8"
   },
   "outputs": [
    {
     "data": {
      "text/plain": [
       "{'H', 'e', 'l', 'o'}"
      ]
     },
     "execution_count": 120,
     "metadata": {},
     "output_type": "execute_result"
    }
   ],
   "source": [
    "set_2"
   ]
  },
  {
   "cell_type": "code",
   "execution_count": 121,
   "metadata": {
    "colab": {
     "base_uri": "https://localhost:8080/",
     "height": 34
    },
    "colab_type": "code",
    "executionInfo": {
     "elapsed": 630,
     "status": "ok",
     "timestamp": 1591368789253,
     "user": {
      "displayName": "pam S",
      "photoUrl": "",
      "userId": "14096643837279750054"
     },
     "user_tz": -540
    },
    "id": "M4i68WzJjOxT",
    "outputId": "ba85bd9b-bb5e-4dac-ce8c-15796d1e66a2"
   },
   "outputs": [
    {
     "data": {
      "text/plain": [
       "{1, 2, 3}"
      ]
     },
     "execution_count": 121,
     "metadata": {},
     "output_type": "execute_result"
    }
   ],
   "source": [
    "set_3"
   ]
  },
  {
   "cell_type": "code",
   "execution_count": 122,
   "metadata": {
    "colab": {
     "base_uri": "https://localhost:8080/",
     "height": 34
    },
    "colab_type": "code",
    "executionInfo": {
     "elapsed": 1262,
     "status": "ok",
     "timestamp": 1591368792819,
     "user": {
      "displayName": "pam S",
      "photoUrl": "",
      "userId": "14096643837279750054"
     },
     "user_tz": -540
    },
    "id": "Dfje5M_OjOxb",
    "outputId": "29d1ef2e-65a3-4e28-eb9a-5805d9c253d6"
   },
   "outputs": [
    {
     "data": {
      "text/plain": [
       "{3, 5, 'hi'}"
      ]
     },
     "execution_count": 122,
     "metadata": {},
     "output_type": "execute_result"
    }
   ],
   "source": [
    "set_4"
   ]
  },
  {
   "cell_type": "markdown",
   "metadata": {
    "colab_type": "text",
    "id": "NaSeVsBwjOxe"
   },
   "source": [
    "### 6-2. set의 연산"
   ]
  },
  {
   "cell_type": "code",
   "execution_count": 123,
   "metadata": {
    "colab": {},
    "colab_type": "code",
    "id": "5YYytMozjOxf"
   },
   "outputs": [],
   "source": [
    "set_5 = {1,2,3,4}\n",
    "set_6 = {4,5,6,7}"
   ]
  },
  {
   "cell_type": "code",
   "execution_count": 124,
   "metadata": {
    "colab": {
     "base_uri": "https://localhost:8080/",
     "height": 34
    },
    "colab_type": "code",
    "executionInfo": {
     "elapsed": 845,
     "status": "ok",
     "timestamp": 1591369089021,
     "user": {
      "displayName": "pam S",
      "photoUrl": "",
      "userId": "14096643837279750054"
     },
     "user_tz": -540
    },
    "id": "dSIEeufPjOxj",
    "outputId": "997b363f-cc81-4e96-fae8-e7b9a4513983"
   },
   "outputs": [
    {
     "data": {
      "text/plain": [
       "{4}"
      ]
     },
     "execution_count": 124,
     "metadata": {},
     "output_type": "execute_result"
    }
   ],
   "source": [
    "set_5 & set_6"
   ]
  },
  {
   "cell_type": "code",
   "execution_count": 125,
   "metadata": {
    "colab": {
     "base_uri": "https://localhost:8080/",
     "height": 34
    },
    "colab_type": "code",
    "executionInfo": {
     "elapsed": 1019,
     "status": "ok",
     "timestamp": 1591369089459,
     "user": {
      "displayName": "pam S",
      "photoUrl": "",
      "userId": "14096643837279750054"
     },
     "user_tz": -540
    },
    "id": "xeXg-XkXjOxm",
    "outputId": "cfa3aac5-7dc4-4e2d-f5a3-8b50990592bf"
   },
   "outputs": [
    {
     "data": {
      "text/plain": [
       "{4}"
      ]
     },
     "execution_count": 125,
     "metadata": {},
     "output_type": "execute_result"
    }
   ],
   "source": [
    "set_5.intersection(set_6)"
   ]
  },
  {
   "cell_type": "code",
   "execution_count": 126,
   "metadata": {
    "colab": {
     "base_uri": "https://localhost:8080/",
     "height": 34
    },
    "colab_type": "code",
    "executionInfo": {
     "elapsed": 767,
     "status": "ok",
     "timestamp": 1591369089460,
     "user": {
      "displayName": "pam S",
      "photoUrl": "",
      "userId": "14096643837279750054"
     },
     "user_tz": -540
    },
    "id": "2vngDi7ijOxo",
    "outputId": "5800eecc-4d5b-4b12-b7b8-c6f5a9ff55d6"
   },
   "outputs": [
    {
     "data": {
      "text/plain": [
       "{1, 2, 3, 4, 5, 6, 7}"
      ]
     },
     "execution_count": 126,
     "metadata": {},
     "output_type": "execute_result"
    }
   ],
   "source": [
    "set_5 | set_6"
   ]
  },
  {
   "cell_type": "code",
   "execution_count": 127,
   "metadata": {
    "colab": {
     "base_uri": "https://localhost:8080/",
     "height": 34
    },
    "colab_type": "code",
    "executionInfo": {
     "elapsed": 947,
     "status": "ok",
     "timestamp": 1591369089908,
     "user": {
      "displayName": "pam S",
      "photoUrl": "",
      "userId": "14096643837279750054"
     },
     "user_tz": -540
    },
    "id": "RXdPmhLhjOxr",
    "outputId": "8daec336-e5af-44c2-870e-89c1ff3f1618"
   },
   "outputs": [
    {
     "data": {
      "text/plain": [
       "{1, 2, 3, 4, 5, 6, 7}"
      ]
     },
     "execution_count": 127,
     "metadata": {},
     "output_type": "execute_result"
    }
   ],
   "source": [
    "set_5.union(set_6)"
   ]
  },
  {
   "cell_type": "code",
   "execution_count": 128,
   "metadata": {
    "colab": {
     "base_uri": "https://localhost:8080/",
     "height": 34
    },
    "colab_type": "code",
    "executionInfo": {
     "elapsed": 677,
     "status": "ok",
     "timestamp": 1591369089910,
     "user": {
      "displayName": "pam S",
      "photoUrl": "",
      "userId": "14096643837279750054"
     },
     "user_tz": -540
    },
    "id": "cl-wFTISjOxt",
    "outputId": "1f03dbb1-d855-4f24-b867-1b10e7c02d6f"
   },
   "outputs": [
    {
     "data": {
      "text/plain": [
       "{1, 2, 3}"
      ]
     },
     "execution_count": 128,
     "metadata": {},
     "output_type": "execute_result"
    }
   ],
   "source": [
    "set_5 - set_6"
   ]
  },
  {
   "cell_type": "code",
   "execution_count": 129,
   "metadata": {
    "colab": {
     "base_uri": "https://localhost:8080/",
     "height": 34
    },
    "colab_type": "code",
    "executionInfo": {
     "elapsed": 649,
     "status": "ok",
     "timestamp": 1591369091401,
     "user": {
      "displayName": "pam S",
      "photoUrl": "",
      "userId": "14096643837279750054"
     },
     "user_tz": -540
    },
    "id": "Qta2jy5WjOxw",
    "outputId": "e72c3b21-0258-4eeb-977c-724fe3cc4a08"
   },
   "outputs": [
    {
     "data": {
      "text/plain": [
       "{1, 2, 3}"
      ]
     },
     "execution_count": 129,
     "metadata": {},
     "output_type": "execute_result"
    }
   ],
   "source": [
    "set_5.difference(set_6)"
   ]
  },
  {
   "cell_type": "markdown",
   "metadata": {
    "colab_type": "text",
    "id": "YK3_umP6jOxz"
   },
   "source": [
    "### 6-3. set의 method"
   ]
  },
  {
   "cell_type": "markdown",
   "metadata": {
    "colab_type": "text",
    "id": "BFKIqdV3jOx0"
   },
   "source": [
    "+ add"
   ]
  },
  {
   "cell_type": "code",
   "execution_count": 130,
   "metadata": {
    "colab": {
     "base_uri": "https://localhost:8080/",
     "height": 34
    },
    "colab_type": "code",
    "executionInfo": {
     "elapsed": 1791,
     "status": "ok",
     "timestamp": 1591369297330,
     "user": {
      "displayName": "pam S",
      "photoUrl": "",
      "userId": "14096643837279750054"
     },
     "user_tz": -540
    },
    "id": "7QfVY_isjOx0",
    "outputId": "c5e74484-8b22-4835-e4d7-5bb2d0c46f04"
   },
   "outputs": [
    {
     "data": {
      "text/plain": [
       "{4, 5, 6, 7, 8}"
      ]
     },
     "execution_count": 130,
     "metadata": {},
     "output_type": "execute_result"
    }
   ],
   "source": [
    "set_6 = {4, 5, 6, 7}\n",
    "set_6.add(8)\n",
    "set_6"
   ]
  },
  {
   "cell_type": "markdown",
   "metadata": {
    "colab_type": "text",
    "id": "jYjcaeKojOx6"
   },
   "source": [
    "+ update"
   ]
  },
  {
   "cell_type": "code",
   "execution_count": 131,
   "metadata": {
    "colab": {
     "base_uri": "https://localhost:8080/",
     "height": 34
    },
    "colab_type": "code",
    "executionInfo": {
     "elapsed": 799,
     "status": "ok",
     "timestamp": 1591369298057,
     "user": {
      "displayName": "pam S",
      "photoUrl": "",
      "userId": "14096643837279750054"
     },
     "user_tz": -540
    },
    "id": "fzSSNlyMjOx7",
    "outputId": "122b4eb4-38c7-49d8-d7bc-e225d3ca08b9"
   },
   "outputs": [
    {
     "data": {
      "text/plain": [
       "{1, 2, 3, 4, 5, 6, 7, 8}"
      ]
     },
     "execution_count": 131,
     "metadata": {},
     "output_type": "execute_result"
    }
   ],
   "source": [
    "set_6.update([1,2,3])\n",
    "set_6"
   ]
  },
  {
   "cell_type": "markdown",
   "metadata": {
    "colab_type": "text",
    "id": "Hq2ITNfsjOx9"
   },
   "source": [
    "+ remove"
   ]
  },
  {
   "cell_type": "code",
   "execution_count": 132,
   "metadata": {
    "colab": {
     "base_uri": "https://localhost:8080/",
     "height": 34
    },
    "colab_type": "code",
    "executionInfo": {
     "elapsed": 1349,
     "status": "ok",
     "timestamp": 1591369301847,
     "user": {
      "displayName": "pam S",
      "photoUrl": "",
      "userId": "14096643837279750054"
     },
     "user_tz": -540
    },
    "id": "liiUHE2IjOx9",
    "outputId": "06cf6c3c-a595-4e12-b0a8-e246bbc0b35a"
   },
   "outputs": [
    {
     "data": {
      "text/plain": [
       "{1, 2, 4, 5, 6, 7, 8}"
      ]
     },
     "execution_count": 132,
     "metadata": {},
     "output_type": "execute_result"
    }
   ],
   "source": [
    "set_6.remove(3)\n",
    "set_6"
   ]
  },
  {
   "cell_type": "markdown",
   "metadata": {
    "colab_type": "text",
    "id": "xsJsbNSLjOyA"
   },
   "source": [
    "# 7. bool"
   ]
  },
  {
   "cell_type": "code",
   "execution_count": 133,
   "metadata": {
    "colab": {
     "base_uri": "https://localhost:8080/",
     "height": 34
    },
    "colab_type": "code",
    "executionInfo": {
     "elapsed": 971,
     "status": "ok",
     "timestamp": 1591369485353,
     "user": {
      "displayName": "pam S",
      "photoUrl": "",
      "userId": "14096643837279750054"
     },
     "user_tz": -540
    },
    "id": "ZVB-CmwXjOyB",
    "outputId": "c917c40d-5ac2-4881-f7f8-f0db78f114d4"
   },
   "outputs": [
    {
     "data": {
      "text/plain": [
       "True"
      ]
     },
     "execution_count": 133,
     "metadata": {},
     "output_type": "execute_result"
    }
   ],
   "source": [
    "True"
   ]
  },
  {
   "cell_type": "code",
   "execution_count": 134,
   "metadata": {
    "colab": {
     "base_uri": "https://localhost:8080/",
     "height": 34
    },
    "colab_type": "code",
    "executionInfo": {
     "elapsed": 1177,
     "status": "ok",
     "timestamp": 1591369485757,
     "user": {
      "displayName": "pam S",
      "photoUrl": "",
      "userId": "14096643837279750054"
     },
     "user_tz": -540
    },
    "id": "tp3Y2IVSjOyE",
    "outputId": "a8b5ab4f-7011-441f-8d91-0f933c14bb5a"
   },
   "outputs": [
    {
     "data": {
      "text/plain": [
       "bool"
      ]
     },
     "execution_count": 134,
     "metadata": {},
     "output_type": "execute_result"
    }
   ],
   "source": [
    "type(False)"
   ]
  },
  {
   "cell_type": "code",
   "execution_count": 135,
   "metadata": {
    "colab": {
     "base_uri": "https://localhost:8080/",
     "height": 34
    },
    "colab_type": "code",
    "executionInfo": {
     "elapsed": 1008,
     "status": "ok",
     "timestamp": 1591369485759,
     "user": {
      "displayName": "pam S",
      "photoUrl": "",
      "userId": "14096643837279750054"
     },
     "user_tz": -540
    },
    "id": "ouxjC6I1jOyH",
    "outputId": "3268ccc3-c0d4-4c1e-d937-e0162426361a"
   },
   "outputs": [
    {
     "data": {
      "text/plain": [
       "True"
      ]
     },
     "execution_count": 135,
     "metadata": {},
     "output_type": "execute_result"
    }
   ],
   "source": [
    "1 == 1"
   ]
  },
  {
   "cell_type": "code",
   "execution_count": 136,
   "metadata": {
    "colab": {
     "base_uri": "https://localhost:8080/",
     "height": 34
    },
    "colab_type": "code",
    "executionInfo": {
     "elapsed": 754,
     "status": "ok",
     "timestamp": 1591369486206,
     "user": {
      "displayName": "pam S",
      "photoUrl": "",
      "userId": "14096643837279750054"
     },
     "user_tz": -540
    },
    "id": "pCQmunT6jOyL",
    "outputId": "bfaeece8-f6e1-48e0-923a-5e869738f92f"
   },
   "outputs": [
    {
     "data": {
      "text/plain": [
       "False"
      ]
     },
     "execution_count": 136,
     "metadata": {},
     "output_type": "execute_result"
    }
   ],
   "source": [
    "1 > 2"
   ]
  },
  {
   "cell_type": "code",
   "execution_count": 137,
   "metadata": {
    "colab": {
     "base_uri": "https://localhost:8080/",
     "height": 34
    },
    "colab_type": "code",
    "executionInfo": {
     "elapsed": 1096,
     "status": "ok",
     "timestamp": 1591369976437,
     "user": {
      "displayName": "pam S",
      "photoUrl": "",
      "userId": "14096643837279750054"
     },
     "user_tz": -540
    },
    "id": "Zq9NK1gDjOyS",
    "outputId": "71838def-ae2e-4693-fcf1-0e15011e8e6a"
   },
   "outputs": [
    {
     "data": {
      "text/plain": [
       "True"
      ]
     },
     "execution_count": 137,
     "metadata": {},
     "output_type": "execute_result"
    }
   ],
   "source": [
    "bool(1)"
   ]
  },
  {
   "cell_type": "code",
   "execution_count": 138,
   "metadata": {
    "colab": {
     "base_uri": "https://localhost:8080/",
     "height": 34
    },
    "colab_type": "code",
    "executionInfo": {
     "elapsed": 1374,
     "status": "ok",
     "timestamp": 1591369982948,
     "user": {
      "displayName": "pam S",
      "photoUrl": "",
      "userId": "14096643837279750054"
     },
     "user_tz": -540
    },
    "id": "cMwqxhnkCsQm",
    "outputId": "29b58cc9-33fa-4b92-fcd4-f49696670168"
   },
   "outputs": [
    {
     "data": {
      "text/plain": [
       "True"
      ]
     },
     "execution_count": 138,
     "metadata": {},
     "output_type": "execute_result"
    }
   ],
   "source": [
    "bool(' ')"
   ]
  },
  {
   "cell_type": "code",
   "execution_count": 139,
   "metadata": {
    "colab": {
     "base_uri": "https://localhost:8080/",
     "height": 34
    },
    "colab_type": "code",
    "executionInfo": {
     "elapsed": 2242,
     "status": "ok",
     "timestamp": 1591369993469,
     "user": {
      "displayName": "pam S",
      "photoUrl": "",
      "userId": "14096643837279750054"
     },
     "user_tz": -540
    },
    "id": "JffzuQArCt1t",
    "outputId": "143cdfb2-fc58-47c3-fc37-3f5f12072757"
   },
   "outputs": [
    {
     "data": {
      "text/plain": [
       "False"
      ]
     },
     "execution_count": 139,
     "metadata": {},
     "output_type": "execute_result"
    }
   ],
   "source": [
    "bool('')"
   ]
  },
  {
   "cell_type": "code",
   "execution_count": null,
   "metadata": {
    "colab": {},
    "colab_type": "code",
    "id": "KC66fgVhCwET"
   },
   "outputs": [],
   "source": []
  },
  {
   "cell_type": "markdown",
   "metadata": {
    "colab_type": "text",
    "id": "M24XQnoSVdcb"
   },
   "source": [
    "# 연습문제 4"
   ]
  },
  {
   "cell_type": "markdown",
   "metadata": {
    "colab_type": "text",
    "id": "QDvR3yAPbaH6"
   },
   "source": [
    "## 1번\n",
    "국어, 영어, 수학 점수가 키로 하는 딕셔너리를 만들어보자.  \n",
    "각각의 점수는 다음과 같다.   \n",
    "국어 : 87  \n",
    "영어 : 88  \n",
    "수학 : 92\n"
   ]
  },
  {
   "cell_type": "code",
   "execution_count": 140,
   "metadata": {
    "colab": {},
    "colab_type": "code",
    "executionInfo": {
     "elapsed": 661,
     "status": "ok",
     "timestamp": 1593272323580,
     "user": {
      "displayName": "pam S",
      "photoUrl": "",
      "userId": "14096643837279750054"
     },
     "user_tz": -540
    },
    "id": "1YiSF6DBbaH_"
   },
   "outputs": [],
   "source": [
    "# 정답을 적어주세요"
   ]
  },
  {
   "cell_type": "markdown",
   "metadata": {
    "colab_type": "text",
    "id": "oJpfUVC9Z7TH"
   },
   "source": [
    "## 2번\n",
    "다음 연산들의 값을 예측해보자"
   ]
  },
  {
   "cell_type": "code",
   "execution_count": 141,
   "metadata": {
    "colab": {},
    "colab_type": "code",
    "id": "_YhHZ0RdXOdS"
   },
   "outputs": [
    {
     "data": {
      "text/plain": [
       "False"
      ]
     },
     "execution_count": 141,
     "metadata": {},
     "output_type": "execute_result"
    }
   ],
   "source": [
    "# (1)\n",
    "3 <= 1"
   ]
  },
  {
   "cell_type": "code",
   "execution_count": 142,
   "metadata": {
    "colab": {},
    "colab_type": "code",
    "id": "H5vOR5ifaJdQ"
   },
   "outputs": [
    {
     "data": {
      "text/plain": [
       "True"
      ]
     },
     "execution_count": 142,
     "metadata": {},
     "output_type": "execute_result"
    }
   ],
   "source": [
    "# (2)\n",
    "6 % 3 == 0"
   ]
  },
  {
   "cell_type": "code",
   "execution_count": 143,
   "metadata": {
    "colab": {},
    "colab_type": "code",
    "id": "QxbxeNUPaOVE"
   },
   "outputs": [
    {
     "data": {
      "text/plain": [
       "False"
      ]
     },
     "execution_count": 143,
     "metadata": {},
     "output_type": "execute_result"
    }
   ],
   "source": [
    "s1 = {'a', 'b', 'c'}\n",
    "s2 = {'b', 'e', 'f', 'g'}\n",
    "\n",
    "# (3)\n",
    "s1 & s2 == 'b'"
   ]
  },
  {
   "cell_type": "code",
   "execution_count": 144,
   "metadata": {
    "colab": {},
    "colab_type": "code",
    "id": "G24iwEgLa9vM"
   },
   "outputs": [
    {
     "data": {
      "text/plain": [
       "True"
      ]
     },
     "execution_count": 144,
     "metadata": {},
     "output_type": "execute_result"
    }
   ],
   "source": [
    "# (4)\n",
    "s1 & s2 == {'b'}"
   ]
  }
 ],
 "metadata": {
  "colab": {
   "collapsed_sections": [],
   "name": "102_type.ipynb",
   "provenance": [
    {
     "file_id": "1Z2guIs2njXadL5obnDr88dj80JihL8LW",
     "timestamp": 1593269200645
    },
    {
     "file_id": "1ibsv1X8E7I4vjgStP1uhrLjivrvUZXxY",
     "timestamp": 1584361087890
    }
   ],
   "toc_visible": true
  },
  "kernelspec": {
   "display_name": "Python 3 (ipykernel)",
   "language": "python",
   "name": "python3"
  },
  "language_info": {
   "codemirror_mode": {
    "name": "ipython",
    "version": 3
   },
   "file_extension": ".py",
   "mimetype": "text/x-python",
   "name": "python",
   "nbconvert_exporter": "python",
   "pygments_lexer": "ipython3",
   "version": "3.8.8"
  }
 },
 "nbformat": 4,
 "nbformat_minor": 1
}
