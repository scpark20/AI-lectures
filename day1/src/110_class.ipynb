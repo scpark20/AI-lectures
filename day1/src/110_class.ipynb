{
 "cells": [
  {
   "cell_type": "markdown",
   "id": "78306f50",
   "metadata": {},
   "source": [
    "### Cafe Class 구현"
   ]
  },
  {
   "cell_type": "code",
   "execution_count": 88,
   "id": "93be02ce",
   "metadata": {},
   "outputs": [],
   "source": [
    "# class name\n",
    "class Cafe:\n",
    "    # class initializer\n",
    "    def __init__(self, name, location, drinks):\n",
    "        # class properties\n",
    "        self.name = name\n",
    "        self.location = location\n",
    "        self.drinks = drinks\n",
    "        \n",
    "    # class method\n",
    "    def order(self, drink_name):\n",
    "        for drink in self.drinks:\n",
    "            if drink.name == drink_name:\n",
    "                print('주문하신 ' + drink_name + '(이/가) 나왔습니다.')\n",
    "                print('가격은 ' + str(drink.price) + '원 입니다.')\n",
    "                return\n",
    "        \n",
    "        print('주문하신 ' + drink_name + '(은/는) 메뉴에 없습니다.')\n",
    "        return\n",
    "        \n",
    "    def get_info(self):\n",
    "        info = '이름 :' + self.name +\\\n",
    "               '\\n위치 :' + self.location +\\\n",
    "               '\\n===메뉴===\\n'\n",
    "        for drink in self.drinks:\n",
    "            info += drink.get_info() + '\\n'\n",
    "            \n",
    "        return info\n",
    "        "
   ]
  },
  {
   "cell_type": "markdown",
   "id": "3aabaeb3",
   "metadata": {},
   "source": [
    "### Drink Class 구현"
   ]
  },
  {
   "cell_type": "code",
   "execution_count": 89,
   "id": "0069314e",
   "metadata": {},
   "outputs": [],
   "source": [
    "class Drink:\n",
    "    def __init__(self, name, price):\n",
    "        self.name = name\n",
    "        self.price = price\n",
    "        \n",
    "    def get_info(self):\n",
    "        info = self.name + ', ' + str(self.price) + '원'\n",
    "        return info\n",
    "        "
   ]
  },
  {
   "cell_type": "code",
   "execution_count": 90,
   "id": "d8e20a7e",
   "metadata": {},
   "outputs": [],
   "source": [
    "drinks = [Drink('에스프레소', 3000),\n",
    "          Drink('아메리카노', 4000),\n",
    "          Drink('카페라떼', 5000),\n",
    "          Drink('카푸치노', 5500),\n",
    "          Drink('카라멜 마끼아또', 6000),\n",
    "         ]\n",
    "\n",
    "cafe = Cafe(name='Python 카페', location='압구정 n번 출구', drinks=drinks)"
   ]
  },
  {
   "cell_type": "code",
   "execution_count": 91,
   "id": "e3bd7b53",
   "metadata": {},
   "outputs": [
    {
     "name": "stdout",
     "output_type": "stream",
     "text": [
      "이름 :Python 카페\n",
      "위치 :압구정 n번 출구\n",
      "===메뉴===\n",
      "에스프레소, 3000원\n",
      "아메리카노, 4000원\n",
      "카페라떼, 5000원\n",
      "카푸치노, 5500원\n",
      "카라멜 마끼아또, 6000원\n",
      "\n"
     ]
    }
   ],
   "source": [
    "info = cafe.get_info()\n",
    "print(info)"
   ]
  },
  {
   "cell_type": "code",
   "execution_count": 92,
   "id": "83fe2da7",
   "metadata": {},
   "outputs": [
    {
     "name": "stdout",
     "output_type": "stream",
     "text": [
      "주문하신 카라멜 마끼아또(이/가) 나왔습니다.\n",
      "가격은 6000원 입니다.\n"
     ]
    }
   ],
   "source": [
    "cafe.order('카라멜 마끼아또')"
   ]
  },
  {
   "cell_type": "code",
   "execution_count": 93,
   "id": "3a79df65",
   "metadata": {},
   "outputs": [
    {
     "name": "stdout",
     "output_type": "stream",
     "text": [
      "주문하신 콜라(은/는) 메뉴에 없습니다.\n"
     ]
    }
   ],
   "source": [
    "cafe.order('콜라')"
   ]
  },
  {
   "cell_type": "markdown",
   "id": "1b2861a1",
   "metadata": {},
   "source": [
    "### 사람을 나타내는 class Person을 만들어주세요.\n",
    "properties는 name, age, job 등을 넣고,\n",
    "method는 인사를 표현하는 hello(), 누구인지 물어보는 who_are_you(), 선물을 주는 give(present)를 만들어봅시다.\n",
    "who_are_you()를 call하면 name과 age, job을 알려주도록 합니다."
   ]
  },
  {
   "cell_type": "code",
   "execution_count": null,
   "id": "e3753bab",
   "metadata": {},
   "outputs": [],
   "source": []
  },
  {
   "cell_type": "markdown",
   "id": "6731baa9",
   "metadata": {},
   "source": [
    "### 상속 (Inheritance)"
   ]
  },
  {
   "cell_type": "code",
   "execution_count": 171,
   "id": "fdca31f3",
   "metadata": {},
   "outputs": [],
   "source": [
    "class Food(Drink):\n",
    "    def __init__(self, name, price):\n",
    "        super().__init__(name, price)\n",
    "        \n",
    "class Restaurant(Cafe):\n",
    "    def __init__(self, name, location, foods):\n",
    "        super().__init__(name, location, foods)\n",
    "        self.reservations = []\n",
    "        \n",
    "    # Overriding\n",
    "    def get_info(self):\n",
    "        info = super().get_info()\n",
    "        info += '\\n신선한 재료와 친절한 서비스로 고객만족을 위해 최선을 다하고 있습니다. 감사합니다!'\n",
    "        \n",
    "        return info\n",
    "        \n",
    "    def _get_reservation_info(self, reservation):\n",
    "        return '날짜 :' + reservation[0] +\\\n",
    "               ' 시간 :' + reservation[1]\n",
    "                \n",
    "    def make_reservation(self, day, time):\n",
    "        reservation = (day, time)\n",
    "        self.reservations.append(reservation)\n",
    "        print(self._get_reservation_info(reservation) + ' 예약되었습니다. 감사합니다.')\n",
    "        \n",
    "    def get_reservations(self):\n",
    "        if len(self.reservations) == 0:\n",
    "            print('예약건이 없습니다.')\n",
    "        for i, reservation in enumerate(self.reservations):\n",
    "            print(i+1, self._get_reservation_info(reservation))\n",
    "            \n",
    "    def clear_reservations(self):\n",
    "        self.reservations = []\n",
    "        "
   ]
  },
  {
   "cell_type": "code",
   "execution_count": 172,
   "id": "5d03fd74",
   "metadata": {},
   "outputs": [],
   "source": [
    "foods = [Food('스테이크', 35000),\n",
    "         Food('피자', 23000),\n",
    "         Food('햄버거', 9500),\n",
    "         Food('샐러드', 12000),\n",
    "         Food('파스타', 17000),\n",
    "        ]\n",
    "\n",
    "rest = Restaurant('Python 레스토랑', '남산타워 부근', foods)"
   ]
  },
  {
   "cell_type": "code",
   "execution_count": 173,
   "id": "d8d66667",
   "metadata": {},
   "outputs": [
    {
     "name": "stdout",
     "output_type": "stream",
     "text": [
      "이름 :Python 레스토랑\n",
      "위치 :남산타워 부근\n",
      "===메뉴===\n",
      "스테이크, 35000원\n",
      "피자, 23000원\n",
      "햄버거, 9500원\n",
      "샐러드, 12000원\n",
      "파스타, 17000원\n",
      "\n",
      "신선한 재료와 친절한 서비스로 고객만족을 위해 최선을 다하고 있습니다. 감사합니다!\n"
     ]
    }
   ],
   "source": [
    "info = rest.get_info()\n",
    "print(info)"
   ]
  },
  {
   "cell_type": "code",
   "execution_count": 174,
   "id": "8b14d9b6",
   "metadata": {},
   "outputs": [
    {
     "name": "stdout",
     "output_type": "stream",
     "text": [
      "주문하신 샐러드(이/가) 나왔습니다.\n",
      "가격은 12000원 입니다.\n"
     ]
    }
   ],
   "source": [
    "rest.order('샐러드')"
   ]
  },
  {
   "cell_type": "code",
   "execution_count": 175,
   "id": "94d1be31",
   "metadata": {},
   "outputs": [
    {
     "name": "stdout",
     "output_type": "stream",
     "text": [
      "날짜 :9월 8일 시간 :12시 30분 예약되었습니다. 감사합니다.\n"
     ]
    }
   ],
   "source": [
    "rest.make_reservation('9월 8일', '12시 30분')"
   ]
  },
  {
   "cell_type": "code",
   "execution_count": 176,
   "id": "c04f58b7",
   "metadata": {},
   "outputs": [
    {
     "name": "stdout",
     "output_type": "stream",
     "text": [
      "날짜 :9월 6일 시간 :15시 30분 예약되었습니다. 감사합니다.\n"
     ]
    }
   ],
   "source": [
    "rest.make_reservation('9월 6일', '15시 30분')"
   ]
  },
  {
   "cell_type": "code",
   "execution_count": 177,
   "id": "d718ba01",
   "metadata": {},
   "outputs": [
    {
     "name": "stdout",
     "output_type": "stream",
     "text": [
      "1 날짜 :9월 8일 시간 :12시 30분\n",
      "2 날짜 :9월 6일 시간 :15시 30분\n"
     ]
    }
   ],
   "source": [
    "rest.get_reservations()"
   ]
  },
  {
   "cell_type": "code",
   "execution_count": 178,
   "id": "173044f1",
   "metadata": {},
   "outputs": [
    {
     "name": "stdout",
     "output_type": "stream",
     "text": [
      "예약건이 없습니다.\n"
     ]
    }
   ],
   "source": [
    "rest.clear_reservations()\n",
    "rest.get_reservations()"
   ]
  },
  {
   "cell_type": "markdown",
   "id": "03295bea",
   "metadata": {},
   "source": [
    "### 프로그래머를 나타내는 class Programmer를 앞에서 만든 Person을 상속하여 만들어주세요.\n",
    "property를 추가하여 list 자료형의 language를 만들고 'C', 'C++', 'Java', 'Python'을 담습니다.\n",
    "누구인지 물어보는 who_are_you()를 override하여 language list 안에 있는 언어들을 다룰줄 안다고 말하게 해봅시다.\n",
    "add_language(language) method를 추가해 language list에 새로운 language를 담을 수 있도록 해봅시다."
   ]
  },
  {
   "cell_type": "code",
   "execution_count": null,
   "id": "efaafda1",
   "metadata": {},
   "outputs": [],
   "source": []
  },
  {
   "cell_type": "markdown",
   "id": "039ab496",
   "metadata": {},
   "source": [
    "### 가수를 나타내는 class Singer를 앞에서 만든 Person을 상속하여 만들어주세요.\n",
    "property를 추가하여 list 자료형의 songs를 만들고 '가을아침', '나만 몰랐던 이야기', '마쉬멜로우'를 담습니다.\n",
    "누구인지 물어보는 who_are_you()를 override하여 songs 안에 있는 노래를 부른다고 출력해봅시다.\n",
    "sing(song) method를 추가하여, argument인 song이 songs안에 있으면 노래를 부르고, songs안에 없으면 부를줄 모르는 노래라고 출력해봅시다."
   ]
  },
  {
   "cell_type": "code",
   "execution_count": null,
   "id": "1ead8c9f",
   "metadata": {},
   "outputs": [],
   "source": []
  }
 ],
 "metadata": {
  "kernelspec": {
   "display_name": "Python 3 (ipykernel)",
   "language": "python",
   "name": "python3"
  },
  "language_info": {
   "codemirror_mode": {
    "name": "ipython",
    "version": 3
   },
   "file_extension": ".py",
   "mimetype": "text/x-python",
   "name": "python",
   "nbconvert_exporter": "python",
   "pygments_lexer": "ipython3",
   "version": "3.8.8"
  }
 },
 "nbformat": 4,
 "nbformat_minor": 5
}
