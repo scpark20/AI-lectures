{
 "cells": [
  {
   "cell_type": "code",
   "execution_count": null,
   "metadata": {},
   "outputs": [],
   "source": [
    "import tensorflow as tf\n",
    "\n",
    "## data 선언\n",
    "x_data = [[0.,0.], [0.,1.], [1.,0.],[1.,1.]]\n",
    "y_data = [[0.], [1.], [1.], [1.]]\n",
    "test_data=[[0.8, 0.8]]\n",
    "\n",
    "## tf.keras를 활용한 perceptron 모델 구현.\n",
    "model =\n",
    "model.add()\n",
    "model.summary() ## 설계한 모델 프린트\n",
    "\n",
    "# 모델 loss, 학습 방법 결정하기\n",
    "optimizer=  ### 경사 하강법으로 global min 에 찾아가는 최적화 방법 선언.\n",
    "loss=  ## 예측값 과 정답의 오차값 정의. mse는 mean squre error로 (예측값 - 정답)^2 를 의미\n",
    "metrics= ### 학습하면서 평가할 메트릭스 선언\n",
    "\n",
    "# 모델 컴파일하기\n",
    "model.compile(loss=loss, optimizer=optimizer, metrics=[metrics])\n",
    "\n",
    "# 모델 동작하기\n",
    "model.fit( )\n",
    "\n",
    "# 결과를 출력합니다.\n",
    "print(model.weights)\n",
    "print(\" test data [0.3, 0.3] 예측 값 : \", model.predict(test_data))\n",
    "if model.predict(test_data)>0.5:\n",
    "    print(\" 합격 \" )\n",
    "else:\n",
    "    print(\" 불합격 \")"
   ]
  }
 ],
 "metadata": {
  "kernelspec": {
   "display_name": "Python 3",
   "language": "python",
   "name": "python3"
  },
  "language_info": {
   "codemirror_mode": {
    "name": "ipython",
    "version": 3
   },
   "file_extension": ".py",
   "mimetype": "text/x-python",
   "name": "python",
   "nbconvert_exporter": "python",
   "pygments_lexer": "ipython3",
   "version": "3.7.7"
  }
 },
 "nbformat": 4,
 "nbformat_minor": 4
}
