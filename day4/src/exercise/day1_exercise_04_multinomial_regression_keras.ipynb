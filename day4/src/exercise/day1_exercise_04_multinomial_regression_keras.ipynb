{
 "cells": [
  {
   "cell_type": "code",
   "execution_count": null,
   "metadata": {},
   "outputs": [],
   "source": [
    "import tensorflow as tf\n",
    "\n",
    "## data 선언\n",
    "x_data = [[2.,0.,7.], [6.,4.,2.], [5.,2.,4.],[8.,4.,1]]\n",
    "y_data = [[75], [95], [91], [97]]\n",
    "test_data=[[5.,5.,5.]]\n",
    "print(len(x_data),len(x_data[1]))  # 행크기 , 열크기\n",
    "\n",
    "## tf.keras를 활용한 perceptron 모델 구현.\n",
    "model = 작성   ## 모델 만들기 위해 sequential 매서드를 선언. 이를 통해 모델을 만들 수 있다.\n",
    "model.add(    작성   ) # 선언된 모델에 add를 통해 쌓아감. , 현재는 입력 변수 갯수 3, perceptron 1개.\n",
    "model.summary() ## 설계한 모델 프린트\n",
    "\n",
    "# 모델 loss, 학습 방법 결정하기\n",
    "optimizer=       ### 경사 하강법으로 global min 에 찾아가는 최적화 방법 선언.\n",
    "loss=            ## 예측값 과 정답의 오차값 정의. mse는 mean squre error로 (예측값 - 정답)^2 를 의미\n",
    "metrics=         ### 학습하면서 평가할 메트릭스 선언 mse는 mean_absolute_error |예측값 - 정답| 를 의미\n",
    "\n",
    "# 모델 컴파일하기\n",
    "model.compile()\n",
    "\n",
    "# 모델 동작하기\n",
    "model.fit(작성, 작성,   epochs=작성,   batch_size=4)\n",
    "\n",
    "# 결과를 출력합니다.\n",
    "print(model.weights)\n",
    "print(\" test data [5.,5.,5.] 예측 값 : \", model.predict(test_data))"
   ]
  }
 ],
 "metadata": {
  "kernelspec": {
   "display_name": "Python 3",
   "language": "python",
   "name": "python3"
  },
  "language_info": {
   "codemirror_mode": {
    "name": "ipython",
    "version": 3
   },
   "file_extension": ".py",
   "mimetype": "text/x-python",
   "name": "python",
   "nbconvert_exporter": "python",
   "pygments_lexer": "ipython3",
   "version": "3.7.7"
  }
 },
 "nbformat": 4,
 "nbformat_minor": 4
}
