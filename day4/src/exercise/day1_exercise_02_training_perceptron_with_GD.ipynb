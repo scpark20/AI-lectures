{
 "cells": [
  {
   "cell_type": "code",
   "execution_count": null,
   "metadata": {},
   "outputs": [],
   "source": [
    "import tensorflow as tf\n",
    "\n",
    "## data 선언\n",
    "x_data =[[1.],[2.],[3.],[4.]]\n",
    "y_data =[[1.],[3.],[5.],[7.]]\n",
    "\n",
    "\n",
    "## 평균 0, 분산 1의 파라미터의 정규분포로 부터 값을 가져옴.\n",
    "# 학습을 통해 업데이트가 되어 변화되는 모델의 파라미터인 w,b를 의미한다.\n",
    "W=tf.Variable(tf.random.normal((1,1),mean=0, stddev=1.0))\n",
    "b=tf.Variable(tf.random.normal((1,1),mean=0, stddev=1.0))\n",
    "lr=tf.constant(0.0001)\n",
    "\n",
    "for i in range(2000):  ## 에폭\n",
    "    total_error = 0\n",
    "\n",
    "    for j in range(len(x_data)): ## 배치 1\n",
    "        ## data * weight\n",
    "        WX =\n",
    "\n",
    "        ## bias add\n",
    "        y_hat =\n",
    "\n",
    "        ## 정답인 Y와 출력값의 error 계산\n",
    "        error =\n",
    "\n",
    "        ## 경사하강법으로 W와 b 업데이트.\n",
    "        ## 도함수 구하기\n",
    "        diff_W =\n",
    "        diff_b =\n",
    "\n",
    "        ##  업데이트할 만큼 러닝레이트 곱\n",
    "        diff_W =\n",
    "        diff_b =\n",
    "\n",
    "        ## w, b 업데이트\n",
    "        W =\n",
    "        b =\n",
    "        #######\n",
    "\n",
    "        ## 토탈 에러.\n",
    "        total_error =\n",
    "\n",
    "    ## 모든 데이터에 따른 error 값\n",
    "    print(\"epoch: \", i, \"error : \", total_error/len(x_data))\n",
    "\n",
    "## 학습끝난 후 W와 b로 예측 하기\n",
    "print(\"W : \", W)\n",
    "print(\"b : \", b)\n",
    "print(\"input 3 : \", tf.add(tf.multiply(3, W), b))\n",
    "print(\"input 5 : \", tf.add(tf.multiply(5, W), b))"
   ]
  },
  {
   "cell_type": "code",
   "execution_count": null,
   "metadata": {},
   "outputs": [],
   "source": []
  },
  {
   "cell_type": "code",
   "execution_count": null,
   "metadata": {},
   "outputs": [],
   "source": []
  },
  {
   "cell_type": "code",
   "execution_count": null,
   "metadata": {},
   "outputs": [],
   "source": []
  },
  {
   "cell_type": "code",
   "execution_count": null,
   "metadata": {},
   "outputs": [],
   "source": []
  }
 ],
 "metadata": {
  "kernelspec": {
   "display_name": "Python 3",
   "language": "python",
   "name": "python3"
  },
  "language_info": {
   "codemirror_mode": {
    "name": "ipython",
    "version": 3
   },
   "file_extension": ".py",
   "mimetype": "text/x-python",
   "name": "python",
   "nbconvert_exporter": "python",
   "pygments_lexer": "ipython3",
   "version": "3.7.7"
  }
 },
 "nbformat": 4,
 "nbformat_minor": 4
}
