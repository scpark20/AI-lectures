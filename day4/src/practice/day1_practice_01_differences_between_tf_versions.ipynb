{
 "cells": [
  {
   "cell_type": "code",
   "execution_count": 1,
   "metadata": {},
   "outputs": [
    {
     "name": "stdout",
     "output_type": "stream",
     "text": [
      "Tensorflow version:  2.4.0\n",
      "result = 1\n"
     ]
    }
   ],
   "source": [
    "import tensorflow as tf\n",
    "print(\"Tensorflow version: \", tf.__version__)\n",
    "\n",
    "### 상수 선언하기.\n",
    "a = tf.constant(5)\n",
    "b = tf.constant(2)\n",
    "c = tf.constant(3)\n",
    "\n",
    "##  연산\n",
    "d = tf.add(a, b)\n",
    "e = tf.multiply(b, c)\n",
    "f = tf.subtract(d, e)\n",
    "result = f\n",
    "\n",
    "print(\"result = {}\".format(result))"
   ]
  },
  {
   "cell_type": "code",
   "execution_count": 2,
   "metadata": {},
   "outputs": [
    {
     "name": "stdout",
     "output_type": "stream",
     "text": [
      "result = Tensor(\"Sub:0\", shape=(), dtype=int32)\n"
     ]
    }
   ],
   "source": [
    "import tensorflow as tf\n",
    "tf.compat.v1.logging.set_verbosity(tf.compat.v1.logging.ERROR)\n",
    "tf.compat.v1.disable_v2_behavior()\n",
    "\n",
    "### 상수 선언하기.\n",
    "a = tf.constant(5)\n",
    "b = tf.constant(2)\n",
    "c = tf.constant(3)\n",
    "\n",
    "##  연산\n",
    "d = tf.add(a, b)\n",
    "e = tf.multiply(b, c)\n",
    "f = tf.subtract(d, e)\n",
    "result = f\n",
    "\n",
    "print(\"result = {}\".format(result))"
   ]
  },
  {
   "cell_type": "code",
   "execution_count": 3,
   "metadata": {},
   "outputs": [
    {
     "name": "stdout",
     "output_type": "stream",
     "text": [
      "Session이 실행되기 전 result = Tensor(\"Sub_1:0\", shape=(), dtype=int32)\n",
      "Session이 실행된 후 result = 1\n"
     ]
    }
   ],
   "source": [
    "import tensorflow as tf\n",
    "tf.compat.v1.disable_v2_behavior()\n",
    "\n",
    "### 상수 선언하기.\n",
    "a = tf.constant(5)\n",
    "b = tf.constant(2)\n",
    "c = tf.constant(3)\n",
    "\n",
    "##  연산\n",
    "d = tf.add(a, b)\n",
    "e = tf.multiply(b, c)\n",
    "f = tf.subtract(d, e)\n",
    "result = f\n",
    "\n",
    "print(\"Session이 실행되기 전 result = {}\".format(result))\n",
    "\n",
    "sess = tf.compat.v1.Session()\n",
    "result = sess.run(f)\n",
    "\n",
    "print(\"Session이 실행된 후 result = {}\".format(result))"
   ]
  },
  {
   "cell_type": "code",
   "execution_count": null,
   "metadata": {},
   "outputs": [],
   "source": []
  },
  {
   "cell_type": "code",
   "execution_count": null,
   "metadata": {},
   "outputs": [],
   "source": []
  }
 ],
 "metadata": {
  "kernelspec": {
   "display_name": "Python 3.7.5 64-bit ('shseo_venv_tf2': conda)",
   "language": "python",
   "name": "python37564bitshseovenvtf2condacf12a6144e1748d090a427a73945cd89"
  },
  "language_info": {
   "codemirror_mode": {
    "name": "ipython",
    "version": 3
   },
   "file_extension": ".py",
   "mimetype": "text/x-python",
   "name": "python",
   "nbconvert_exporter": "python",
   "pygments_lexer": "ipython3",
   "version": "3.7.7"
  }
 },
 "nbformat": 4,
 "nbformat_minor": 4
}
