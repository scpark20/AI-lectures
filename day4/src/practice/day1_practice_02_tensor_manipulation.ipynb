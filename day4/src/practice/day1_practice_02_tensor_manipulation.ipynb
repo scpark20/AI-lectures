{
 "cells": [
  {
   "cell_type": "markdown",
   "metadata": {
    "id": "qFdPvlXBOdUN"
   },
   "source": [
    "# Introduction to Tensors\n",
    "*   Reference: tensorflow tutorial\n",
    "* <table class=\"tfo-notebook-buttons\" align=\"left\">\n",
    "  <td>\n",
    "    <a target=\"_blank\" href=\"https://www.tensorflow.org/guide/tensor\"><img src=\"https://www.tensorflow.org/images/tf_logo_32px.png\" />View on TensorFlow.org</a>\n",
    "  </td>\n"
   ]
  },
  {
   "cell_type": "code",
   "execution_count": 1,
   "metadata": {},
   "outputs": [
    {
     "name": "stdout",
     "output_type": "stream",
     "text": [
      " tensorflow: 2.4.0 \n",
      " numpy: 1.19.5\n",
      " Num GPUs Available:  2\n",
      "\n"
     ]
    },
    {
     "data": {
      "text/plain": [
       "[name: \"/device:CPU:0\"\n",
       " device_type: \"CPU\"\n",
       " memory_limit: 268435456\n",
       " locality {\n",
       " }\n",
       " incarnation: 8459232737213484782,\n",
       " name: \"/device:GPU:0\"\n",
       " device_type: \"GPU\"\n",
       " memory_limit: 184090624\n",
       " locality {\n",
       "   bus_id: 1\n",
       "   links {\n",
       "     link {\n",
       "       device_id: 1\n",
       "       type: \"StreamExecutor\"\n",
       "       strength: 1\n",
       "     }\n",
       "   }\n",
       " }\n",
       " incarnation: 2194577803282974441\n",
       " physical_device_desc: \"device: 0, name: NVIDIA GeForce GTX 1080 Ti, pci bus id: 0000:01:00.0, compute capability: 6.1\",\n",
       " name: \"/device:GPU:1\"\n",
       " device_type: \"GPU\"\n",
       " memory_limit: 10523229568\n",
       " locality {\n",
       "   bus_id: 1\n",
       "   links {\n",
       "     link {\n",
       "       type: \"StreamExecutor\"\n",
       "       strength: 1\n",
       "     }\n",
       "   }\n",
       " }\n",
       " incarnation: 2834997162226069030\n",
       " physical_device_desc: \"device: 1, name: NVIDIA GeForce GTX 1080 Ti, pci bus id: 0000:03:00.0, compute capability: 6.1\"]"
      ]
     },
     "execution_count": 1,
     "metadata": {},
     "output_type": "execute_result"
    }
   ],
   "source": [
    "import tensorflow as tf\n",
    "from tensorflow.python.client import device_lib\n",
    "import numpy as np\n",
    "import matplotlib.pyplot as plt\n",
    "\n",
    "print(\" tensorflow: {} \\n numpy: {}\".format(tf.__version__, np.__version__))\n",
    "print(\" Num GPUs Available: \", len(tf.config.experimental.list_physical_devices('GPU')))\n",
    "print()\n",
    "device_lib.list_local_devices()"
   ]
  },
  {
   "cell_type": "markdown",
   "metadata": {
    "id": "TOA11-tQTJpl"
   },
   "source": [
    "# 텐서(Tensor)"
   ]
  },
  {
   "cell_type": "markdown",
   "metadata": {
    "id": "VQ3s2J8Vgowq"
   },
   "source": [
    "Tensors are multi-dimensional arrays with a uniform type (called a `dtype`).  You can see all supported `dtypes` at `tf.dtypes.DType`.\n",
    "\n",
    "If you're familiar with [NumPy](https://numpy.org/devdocs/user/quickstart.html), tensors are (kind of) like `np.arrays`.\n",
    "\n",
    "All tensors are immutable like Python numbers and strings: you can never update the contents of a tensor, only create a new one.\n"
   ]
  },
  {
   "cell_type": "markdown",
   "metadata": {
    "id": "DRK5-9EpYbzG"
   },
   "source": [
    "## 기초(Basics)\n",
    "#### 텐서의 자료형\n",
    "The following DType objects are defined:\n",
    "* <table class=\"tfo-notebook-buttons\" align=\"left\">\n",
    "  <td>\n",
    "* `tf.float16`: 16-bit half-precision floating-point.\n",
    "* `tf.float32`: 32-bit single-precision floating-point.\n",
    "* `tf.float64`: 64-bit double-precision floating-point.\n",
    "* `tf.bfloat16`: 16-bit truncated floating-point.\n",
    "* `tf.complex64`: 64-bit single-precision complex.\n",
    "* `tf.complex128`: 128-bit double-precision complex.\n",
    "* `tf.int8`: 8-bit signed integer.\n",
    "* `tf.uint8`: 8-bit unsigned integer.\n",
    "* `tf.uint16`: 16-bit unsigned integer.\n",
    "* `tf.uint32`: 32-bit unsigned integer.\n",
    "* `tf.uint64`: 64-bit unsigned integer.\n",
    "  </td>\n",
    "  <td>\n",
    "* `tf.int16`: 16-bit signed integer.\n",
    "* `tf.int32`: 32-bit signed integer.\n",
    "* `tf.int64`: 64-bit signed integer.\n",
    "* `tf.bool`: Boolean.\n",
    "* `tf.string`: String.\n",
    "* `tf.qint8`: Quantized 8-bit signed integer.\n",
    "* `tf.quint8`: Quantized 8-bit unsigned integer.\n",
    "* `tf.qint16`: Quantized 16-bit signed integer.\n",
    "* `tf.quint16`: Quantized 16-bit unsigned integer.\n",
    "* `tf.qint32`: Quantized 32-bit signed integer.\n",
    "* `tf.resource`: Handle to a mutable resource.\n",
    "* `tf.variant`: Values of arbitrary types.\n",
    "  </td>\n",
    "\n"
   ]
  },
  {
   "cell_type": "markdown",
   "metadata": {
    "id": "w47FnA3Gm9At"
   },
   "source": [
    "### 텐서 생성"
   ]
  },
  {
   "cell_type": "code",
   "execution_count": 2,
   "metadata": {
    "id": "7aZrzNDp9DRB"
   },
   "outputs": [],
   "source": [
    "m1 = [[1.0, 2.0], \n",
    "      [3.0, 4.0]]\n",
    "m2 = np.array([[1.0, 2.0],\n",
    "              [3.0, 4.0]], dtype=np.float32)\n",
    "m3 = tf.constant([[1.0, 2.0],\n",
    "                 [3.0, 4.0]])"
   ]
  },
  {
   "cell_type": "code",
   "execution_count": 3,
   "metadata": {
    "colab": {
     "base_uri": "https://localhost:8080/",
     "height": 73
    },
    "executionInfo": {
     "elapsed": 7068,
     "status": "ok",
     "timestamp": 1603733598614,
     "user": {
      "displayName": "Sanghyun Seo",
      "photoUrl": "https://lh3.googleusercontent.com/a-/AOh14GiyjIj6kA6151_HBrCZmfFqMIMsXmdFXFLAzkj8=s64",
      "userId": "05995424227728546557"
     },
     "user_tz": -540
    },
    "id": "5ixGzxgb9DN2",
    "outputId": "8ca18e8b-1f6c-4e55-e402-719bc2dbf46a"
   },
   "outputs": [
    {
     "name": "stdout",
     "output_type": "stream",
     "text": [
      "<class 'list'>\n",
      "<class 'numpy.ndarray'>\n",
      "<class 'tensorflow.python.framework.ops.EagerTensor'>\n"
     ]
    }
   ],
   "source": [
    "print(type(m1))\n",
    "print(type(m2))\n",
    "print(type(m3))"
   ]
  },
  {
   "cell_type": "code",
   "execution_count": 4,
   "metadata": {
    "id": "NPqozd309DLf"
   },
   "outputs": [],
   "source": [
    "t1 = tf.convert_to_tensor(m1, dtype=tf.float32)\n",
    "t2 = tf.convert_to_tensor(m2, dtype=tf.float32)\n",
    "t3 = tf.convert_to_tensor(m3, dtype=tf.float32)"
   ]
  },
  {
   "cell_type": "code",
   "execution_count": 5,
   "metadata": {
    "colab": {
     "base_uri": "https://localhost:8080/",
     "height": 73
    },
    "executionInfo": {
     "elapsed": 7053,
     "status": "ok",
     "timestamp": 1603733598620,
     "user": {
      "displayName": "Sanghyun Seo",
      "photoUrl": "https://lh3.googleusercontent.com/a-/AOh14GiyjIj6kA6151_HBrCZmfFqMIMsXmdFXFLAzkj8=s64",
      "userId": "05995424227728546557"
     },
     "user_tz": -540
    },
    "id": "5pnDp1jo9DIT",
    "outputId": "f97418e5-4523-4624-ef79-29922262d87c"
   },
   "outputs": [
    {
     "name": "stdout",
     "output_type": "stream",
     "text": [
      "<class 'tensorflow.python.framework.ops.EagerTensor'>\n",
      "<class 'tensorflow.python.framework.ops.EagerTensor'>\n",
      "<class 'tensorflow.python.framework.ops.EagerTensor'>\n"
     ]
    }
   ],
   "source": [
    "print(type(t1))\n",
    "print(type(t2))\n",
    "print(type(t3))"
   ]
  },
  {
   "cell_type": "markdown",
   "metadata": {
    "id": "8ZnYYHMS9UGz"
   },
   "source": [
    "### Numpy Compatibility"
   ]
  },
  {
   "cell_type": "code",
   "execution_count": 6,
   "metadata": {
    "colab": {
     "base_uri": "https://localhost:8080/",
     "height": 314
    },
    "executionInfo": {
     "elapsed": 7050,
     "status": "ok",
     "timestamp": 1603733598621,
     "user": {
      "displayName": "Sanghyun Seo",
      "photoUrl": "https://lh3.googleusercontent.com/a-/AOh14GiyjIj6kA6151_HBrCZmfFqMIMsXmdFXFLAzkj8=s64",
      "userId": "05995424227728546557"
     },
     "user_tz": -540
    },
    "id": "yLbLfOvM9b4f",
    "outputId": "deb787ab-6492-46e8-cc4d-653db0459f77"
   },
   "outputs": [
    {
     "name": "stdout",
     "output_type": "stream",
     "text": [
      "TensorFlow operations convert numpy arrays to Tensors automatically\n",
      "tf.Tensor(\n",
      "[[42. 42. 42.]\n",
      " [42. 42. 42.]\n",
      " [42. 42. 42.]], shape=(3, 3), dtype=float64)\n",
      "And NumPy operations convert Tensors to numpy arrays automatically\n",
      "[[43. 43. 43.]\n",
      " [43. 43. 43.]\n",
      " [43. 43. 43.]]\n",
      "The .numpy() method explicitly converts a Tensor to a numpy array\n",
      "[[42. 42. 42.]\n",
      " [42. 42. 42.]\n",
      " [42. 42. 42.]]\n"
     ]
    },
    {
     "data": {
      "text/plain": [
       "array([[1., 1., 1.],\n",
       "       [1., 1., 1.],\n",
       "       [1., 1., 1.]])"
      ]
     },
     "execution_count": 6,
     "metadata": {},
     "output_type": "execute_result"
    }
   ],
   "source": [
    "ndarray = np.ones([3, 3])\n",
    "\n",
    "print(\"TensorFlow operations convert numpy arrays to Tensors automatically\")\n",
    "tensor = tf.multiply(ndarray, 42)\n",
    "print(tensor)\n",
    "\n",
    "\n",
    "print(\"And NumPy operations convert Tensors to numpy arrays automatically\")\n",
    "print(np.add(tensor, 1))\n",
    "\n",
    "print(\"The .numpy() method explicitly converts a Tensor to a numpy array\")\n",
    "print(tensor.numpy())\n",
    "ndarray"
   ]
  },
  {
   "cell_type": "markdown",
   "metadata": {
    "id": "rCH2s_A-9fyV"
   },
   "source": [
    "### Constants"
   ]
  },
  {
   "cell_type": "code",
   "execution_count": 7,
   "metadata": {
    "colab": {
     "base_uri": "https://localhost:8080/",
     "height": 36
    },
    "executionInfo": {
     "elapsed": 7048,
     "status": "ok",
     "timestamp": 1603733598622,
     "user": {
      "displayName": "Sanghyun Seo",
      "photoUrl": "https://lh3.googleusercontent.com/a-/AOh14GiyjIj6kA6151_HBrCZmfFqMIMsXmdFXFLAzkj8=s64",
      "userId": "05995424227728546557"
     },
     "user_tz": -540
    },
    "id": "X2rRJS_I9jMs",
    "outputId": "c31c259e-23cd-48b0-ab82-7d638692dcdd"
   },
   "outputs": [
    {
     "name": "stdout",
     "output_type": "stream",
     "text": [
      "tf.Tensor(b'Hello World!', shape=(), dtype=string)\n"
     ]
    }
   ],
   "source": [
    "hello = tf.constant(\"Hello World!\")\n",
    "print(hello)"
   ]
  },
  {
   "cell_type": "code",
   "execution_count": 8,
   "metadata": {
    "colab": {
     "base_uri": "https://localhost:8080/",
     "height": 54
    },
    "executionInfo": {
     "elapsed": 7045,
     "status": "ok",
     "timestamp": 1603733598623,
     "user": {
      "displayName": "Sanghyun Seo",
      "photoUrl": "https://lh3.googleusercontent.com/a-/AOh14GiyjIj6kA6151_HBrCZmfFqMIMsXmdFXFLAzkj8=s64",
      "userId": "05995424227728546557"
     },
     "user_tz": -540
    },
    "id": "v2a8itEI9kiA",
    "outputId": "34b092d9-0d91-4c04-f2ec-d4f28dd3ce0c"
   },
   "outputs": [
    {
     "name": "stdout",
     "output_type": "stream",
     "text": [
      "1.5\n",
      "tf.Tensor(2.5, shape=(), dtype=float32)\n"
     ]
    }
   ],
   "source": [
    "a = tf.constant(1.5)\n",
    "b = tf.constant(2.5)\n",
    "print(a.numpy())\n",
    "print(b)"
   ]
  },
  {
   "cell_type": "markdown",
   "metadata": {
    "id": "bQ9MDZY29uj7"
   },
   "source": [
    "### Variables"
   ]
  },
  {
   "cell_type": "code",
   "execution_count": 9,
   "metadata": {
    "colab": {
     "base_uri": "https://localhost:8080/",
     "height": 128
    },
    "executionInfo": {
     "elapsed": 7043,
     "status": "ok",
     "timestamp": 1603733598624,
     "user": {
      "displayName": "Sanghyun Seo",
      "photoUrl": "https://lh3.googleusercontent.com/a-/AOh14GiyjIj6kA6151_HBrCZmfFqMIMsXmdFXFLAzkj8=s64",
      "userId": "05995424227728546557"
     },
     "user_tz": -540
    },
    "id": "C6B24-qV9lrN",
    "outputId": "c6f3a472-6987-404e-fb68-e82f44944148"
   },
   "outputs": [
    {
     "name": "stdout",
     "output_type": "stream",
     "text": [
      "<tf.Variable 'Variable:0' shape=(5, 2) dtype=float32, numpy=\n",
      "array([[ 0.00792881, -0.04499583],\n",
      "       [-0.16934025, -0.00650953],\n",
      "       [-0.12351459, -0.08210347],\n",
      "       [ 0.03231116,  0.06656463],\n",
      "       [-0.0175769 ,  0.0299921 ]], dtype=float32)>\n"
     ]
    }
   ],
   "source": [
    "weight = tf.Variable(tf.random_normal_initializer(stddev=0.1)([5, 2]))\n",
    "print(weight)"
   ]
  },
  {
   "cell_type": "markdown",
   "metadata": {
    "id": "7i8iQgXj9y3p"
   },
   "source": [
    "### Tensor Shape\n"
   ]
  },
  {
   "cell_type": "markdown",
   "metadata": {
    "id": "uSHRFT6LJbxq"
   },
   "source": [
    "Here is a \"scalar\" or \"rank-0\" tensor . A scalar contains a single value, and no \"axes\"."
   ]
  },
  {
   "cell_type": "code",
   "execution_count": 10,
   "metadata": {
    "colab": {
     "base_uri": "https://localhost:8080/",
     "height": 36
    },
    "executionInfo": {
     "elapsed": 7030,
     "status": "ok",
     "timestamp": 1603733598626,
     "user": {
      "displayName": "Sanghyun Seo",
      "photoUrl": "https://lh3.googleusercontent.com/a-/AOh14GiyjIj6kA6151_HBrCZmfFqMIMsXmdFXFLAzkj8=s64",
      "userId": "05995424227728546557"
     },
     "user_tz": -540
    },
    "id": "d5JcgLFR6gHv",
    "outputId": "3fba57b6-d484-4b5a-ee5c-e42137b0d976"
   },
   "outputs": [
    {
     "name": "stdout",
     "output_type": "stream",
     "text": [
      "tf.Tensor(4, shape=(), dtype=int32)\n"
     ]
    }
   ],
   "source": [
    "# This will be an int32 tensor by default; see \"dtypes\" below.\n",
    "rank_0_tensor = tf.constant(4)\n",
    "print(rank_0_tensor)"
   ]
  },
  {
   "cell_type": "markdown",
   "metadata": {
    "id": "tdmPAn9fWYs5"
   },
   "source": [
    "A \"vector\" or \"rank-1\" tensor is like a list of values. A vector has 1-axis:"
   ]
  },
  {
   "cell_type": "code",
   "execution_count": 11,
   "metadata": {
    "colab": {
     "base_uri": "https://localhost:8080/",
     "height": 36
    },
    "executionInfo": {
     "elapsed": 7014,
     "status": "ok",
     "timestamp": 1603733598627,
     "user": {
      "displayName": "Sanghyun Seo",
      "photoUrl": "https://lh3.googleusercontent.com/a-/AOh14GiyjIj6kA6151_HBrCZmfFqMIMsXmdFXFLAzkj8=s64",
      "userId": "05995424227728546557"
     },
     "user_tz": -540
    },
    "id": "oZos8o_R6oE7",
    "outputId": "34107103-2f92-404f-bd82-3b8c3f64f599"
   },
   "outputs": [
    {
     "name": "stdout",
     "output_type": "stream",
     "text": [
      "tf.Tensor([2. 3. 4.], shape=(3,), dtype=float32)\n"
     ]
    }
   ],
   "source": [
    "# Let's make this a float tensor.\n",
    "rank_1_tensor = tf.constant([2.0, 3.0, 4.0])\n",
    "print(rank_1_tensor)"
   ]
  },
  {
   "cell_type": "markdown",
   "metadata": {
    "id": "G3IJG-ug_H4u"
   },
   "source": [
    "A \"matrix\" or \"rank-2\" tensor has 2-axes:"
   ]
  },
  {
   "cell_type": "code",
   "execution_count": 12,
   "metadata": {
    "colab": {
     "base_uri": "https://localhost:8080/",
     "height": 91
    },
    "executionInfo": {
     "elapsed": 7001,
     "status": "ok",
     "timestamp": 1603733598628,
     "user": {
      "displayName": "Sanghyun Seo",
      "photoUrl": "https://lh3.googleusercontent.com/a-/AOh14GiyjIj6kA6151_HBrCZmfFqMIMsXmdFXFLAzkj8=s64",
      "userId": "05995424227728546557"
     },
     "user_tz": -540
    },
    "id": "cnOIA_xb6u0M",
    "outputId": "e83d72d8-e44c-47e9-dd91-e3ec11ee771d"
   },
   "outputs": [
    {
     "name": "stdout",
     "output_type": "stream",
     "text": [
      "tf.Tensor(\n",
      "[[1. 2.]\n",
      " [3. 4.]\n",
      " [5. 6.]], shape=(3, 2), dtype=float16)\n"
     ]
    }
   ],
   "source": [
    "# If you want to be specific, you can set the dtype (see below) at creation time\n",
    "rank_2_tensor = tf.constant([[1, 2],\n",
    "                             [3, 4],\n",
    "                             [5, 6]], dtype=tf.float16)\n",
    "print(rank_2_tensor)"
   ]
  },
  {
   "cell_type": "markdown",
   "metadata": {
    "id": "19m72qEPkfxi"
   },
   "source": [
    "<table>\n",
    "<tr>\n",
    "  <th>A scalar, shape: <code>[]</code></th>\n",
    "  <th>A vector, shape: <code>[3]</code></th>\n",
    "  <th>A matrix, shape: <code>[3, 2]</code></th>\n",
    "</tr>\n",
    "<tr>\n",
    "  <td>\n",
    "   <img src=\"https://github.com/tensorflow/docs/blob/master/site/en/guide/images/tensor/scalar.png?raw=1\" alt=\"A scalar, the number 4\" />\n",
    "  </td>\n",
    "\n",
    "  <td>\n",
    "   <img src=\"https://github.com/tensorflow/docs/blob/master/site/en/guide/images/tensor/vector.png?raw=1\" alt=\"The line with 3 sections, each one containing a number.\"/>\n",
    "  </td>\n",
    "  <td>\n",
    "   <img src=\"https://github.com/tensorflow/docs/blob/master/site/en/guide/images/tensor/matrix.png?raw=1\" alt=\"A 3x2 grid, with each cell containing a number.\">\n",
    "  </td>\n",
    "</tr>\n",
    "</table>\n"
   ]
  },
  {
   "cell_type": "markdown",
   "metadata": {
    "id": "fjFvzcn4_ehD"
   },
   "source": [
    "### 텐서의 축(axis)\n",
    "Tensors may have more axes, here is a tensor with 3-axes:"
   ]
  },
  {
   "cell_type": "code",
   "execution_count": 13,
   "metadata": {
    "colab": {
     "base_uri": "https://localhost:8080/",
     "height": 184
    },
    "executionInfo": {
     "elapsed": 6989,
     "status": "ok",
     "timestamp": 1603733598629,
     "user": {
      "displayName": "Sanghyun Seo",
      "photoUrl": "https://lh3.googleusercontent.com/a-/AOh14GiyjIj6kA6151_HBrCZmfFqMIMsXmdFXFLAzkj8=s64",
      "userId": "05995424227728546557"
     },
     "user_tz": -540
    },
    "id": "sesW7gw6JkXy",
    "outputId": "fed1d86a-dcbc-4506-f0d2-48262b6db101"
   },
   "outputs": [
    {
     "name": "stdout",
     "output_type": "stream",
     "text": [
      "tf.Tensor(\n",
      "[[[ 0  1  2  3  4]\n",
      "  [ 5  6  7  8  9]]\n",
      "\n",
      " [[10 11 12 13 14]\n",
      "  [15 16 17 18 19]]\n",
      "\n",
      " [[20 21 22 23 24]\n",
      "  [25 26 27 28 29]]], shape=(3, 2, 5), dtype=int32)\n"
     ]
    }
   ],
   "source": [
    "# There can be an arbitrary number of\n",
    "# axes (sometimes called \"dimensions\")\n",
    "rank_3_tensor = tf.constant([\n",
    "  [[0, 1, 2, 3, 4],\n",
    "   [5, 6, 7, 8, 9]],\n",
    "  [[10, 11, 12, 13, 14],\n",
    "   [15, 16, 17, 18, 19]],\n",
    "  [[20, 21, 22, 23, 24],\n",
    "   [25, 26, 27, 28, 29]],])\n",
    "\n",
    "print(rank_3_tensor)"
   ]
  },
  {
   "cell_type": "markdown",
   "metadata": {
    "id": "rM2sTGIkoE3S"
   },
   "source": [
    "There are many ways you might visualize a tensor with more than 2-axes."
   ]
  },
  {
   "cell_type": "markdown",
   "metadata": {
    "id": "NFiYfNMMhDgL"
   },
   "source": [
    "<table>\n",
    "<tr>\n",
    "  <th colspan=3>A 3-axis tensor, shape: <code>[3, 2, 5]</code></th>\n",
    "<tr>\n",
    "<tr>\n",
    "  <td>\n",
    "   <img src=\"https://github.com/tensorflow/docs/blob/master/site/en/guide/images/tensor/3-axis_numpy.png?raw=1\"/>\n",
    "  </td>\n",
    "  <td>\n",
    "   <img src=\"https://github.com/tensorflow/docs/blob/master/site/en/guide/images/tensor/3-axis_front.png?raw=1\"/>\n",
    "  </td>\n",
    "\n",
    "  <td>\n",
    "   <img src=\"https://github.com/tensorflow/docs/blob/master/site/en/guide/images/tensor/3-axis_block.png?raw=1\"/>\n",
    "  </td>\n",
    "</tr>\n",
    "\n",
    "</table>"
   ]
  },
  {
   "cell_type": "markdown",
   "metadata": {
    "id": "oWAc0U8OZwNb"
   },
   "source": [
    "### 원 자료형태로 복귀\n",
    "You can convert a tensor to a NumPy array either using `np.array` or the `tensor.numpy` method:"
   ]
  },
  {
   "cell_type": "code",
   "execution_count": 14,
   "metadata": {
    "colab": {
     "base_uri": "https://localhost:8080/",
     "height": 73
    },
    "executionInfo": {
     "elapsed": 6976,
     "status": "ok",
     "timestamp": 1603733598630,
     "user": {
      "displayName": "Sanghyun Seo",
      "photoUrl": "https://lh3.googleusercontent.com/a-/AOh14GiyjIj6kA6151_HBrCZmfFqMIMsXmdFXFLAzkj8=s64",
      "userId": "05995424227728546557"
     },
     "user_tz": -540
    },
    "id": "J5u6_6ZYaS7B",
    "outputId": "da8a82f6-cae1-490c-a2d8-e2bbb9a845d2"
   },
   "outputs": [
    {
     "data": {
      "text/plain": [
       "array([[1., 2.],\n",
       "       [3., 4.],\n",
       "       [5., 6.]], dtype=float16)"
      ]
     },
     "execution_count": 14,
     "metadata": {},
     "output_type": "execute_result"
    }
   ],
   "source": [
    "np.array(rank_2_tensor)"
   ]
  },
  {
   "cell_type": "code",
   "execution_count": 15,
   "metadata": {
    "colab": {
     "base_uri": "https://localhost:8080/",
     "height": 73
    },
    "executionInfo": {
     "elapsed": 6964,
     "status": "ok",
     "timestamp": 1603733598631,
     "user": {
      "displayName": "Sanghyun Seo",
      "photoUrl": "https://lh3.googleusercontent.com/a-/AOh14GiyjIj6kA6151_HBrCZmfFqMIMsXmdFXFLAzkj8=s64",
      "userId": "05995424227728546557"
     },
     "user_tz": -540
    },
    "id": "c6Taz2gIaZeo",
    "outputId": "e9996d34-cecb-4e10-dc3e-1f6bcb2c48d1"
   },
   "outputs": [
    {
     "data": {
      "text/plain": [
       "array([[1., 2.],\n",
       "       [3., 4.],\n",
       "       [5., 6.]], dtype=float16)"
      ]
     },
     "execution_count": 15,
     "metadata": {},
     "output_type": "execute_result"
    }
   ],
   "source": [
    "rank_2_tensor.numpy()"
   ]
  },
  {
   "cell_type": "markdown",
   "metadata": {
    "id": "qvPWhOmjVvmH"
   },
   "source": [
    "### 랜덤 텐서 생성하기\n",
    "\n",
    "\n",
    "\n",
    "*   `tf.random.set_seed`: 동일한 결과를 만들도록 seed 고정\n",
    "*   `tf.random.normal`: 정규분포로부터 랜덤 텐서 생성\n",
    "*   `tf.random.uniform`: 균일분포로부터 랜덤 텐서 생성\n",
    "\n",
    "\n",
    "\n",
    "\n",
    "\n"
   ]
  },
  {
   "cell_type": "code",
   "execution_count": 16,
   "metadata": {
    "colab": {
     "base_uri": "https://localhost:8080/",
     "height": 73
    },
    "executionInfo": {
     "elapsed": 6952,
     "status": "ok",
     "timestamp": 1603733598632,
     "user": {
      "displayName": "Sanghyun Seo",
      "photoUrl": "https://lh3.googleusercontent.com/a-/AOh14GiyjIj6kA6151_HBrCZmfFqMIMsXmdFXFLAzkj8=s64",
      "userId": "05995424227728546557"
     },
     "user_tz": -540
    },
    "id": "gH1WncYFVx5e",
    "outputId": "4274dd31-d227-4690-b6e0-e89d5d817630"
   },
   "outputs": [
    {
     "data": {
      "text/plain": [
       "<tf.Tensor: shape=(2, 3), dtype=float32, numpy=\n",
       "array([[-0.18030666, -0.95028627, -0.03964049],\n",
       "       [-0.7425406 ,  1.3231523 , -0.61854804]], dtype=float32)>"
      ]
     },
     "execution_count": 16,
     "metadata": {},
     "output_type": "execute_result"
    }
   ],
   "source": [
    "tf.random.set_seed(5)\n",
    "tf.random.normal(shape=[2,3],mean=0.0, stddev=1.0)"
   ]
  },
  {
   "cell_type": "code",
   "execution_count": 17,
   "metadata": {
    "colab": {
     "base_uri": "https://localhost:8080/",
     "height": 73
    },
    "executionInfo": {
     "elapsed": 6940,
     "status": "ok",
     "timestamp": 1603733598632,
     "user": {
      "displayName": "Sanghyun Seo",
      "photoUrl": "https://lh3.googleusercontent.com/a-/AOh14GiyjIj6kA6151_HBrCZmfFqMIMsXmdFXFLAzkj8=s64",
      "userId": "05995424227728546557"
     },
     "user_tz": -540
    },
    "id": "-qJjiAgbXPL-",
    "outputId": "2ef5cd59-5659-4077-e08b-57473f7ef6f5"
   },
   "outputs": [
    {
     "data": {
      "text/plain": [
       "<tf.Tensor: shape=(2, 3), dtype=float32, numpy=\n",
       "array([[7.0170746 , 0.43367863, 5.6045723 ],\n",
       "       [1.2203383 , 2.7995849 , 0.75006604]], dtype=float32)>"
      ]
     },
     "execution_count": 17,
     "metadata": {},
     "output_type": "execute_result"
    }
   ],
   "source": [
    "tf.random.uniform(shape=[2,3], minval=0, maxval=10)"
   ]
  },
  {
   "cell_type": "code",
   "execution_count": 18,
   "metadata": {
    "colab": {
     "base_uri": "https://localhost:8080/",
     "height": 73
    },
    "executionInfo": {
     "elapsed": 6927,
     "status": "ok",
     "timestamp": 1603733598633,
     "user": {
      "displayName": "Sanghyun Seo",
      "photoUrl": "https://lh3.googleusercontent.com/a-/AOh14GiyjIj6kA6151_HBrCZmfFqMIMsXmdFXFLAzkj8=s64",
      "userId": "05995424227728546557"
     },
     "user_tz": -540
    },
    "id": "IoP7BJXcVx9S",
    "outputId": "185d77be-cfb6-4ea8-c16c-dd5ad275f5bc"
   },
   "outputs": [
    {
     "data": {
      "text/plain": [
       "<tf.Tensor: shape=(2, 3), dtype=int32, numpy=\n",
       "array([[9, 6, 5],\n",
       "       [8, 1, 4]], dtype=int32)>"
      ]
     },
     "execution_count": 18,
     "metadata": {},
     "output_type": "execute_result"
    }
   ],
   "source": [
    "tf.random.uniform(shape=[2,3], minval=0, maxval=10, dtype=tf.int32)"
   ]
  },
  {
   "cell_type": "markdown",
   "metadata": {
    "id": "lWPQI9aib0S0"
   },
   "source": [
    "### 기존의 텐서크기와 같은 0 혹은 1 텐서 생성\n",
    "* `tf.zeros`: 값이 0으로 채워진 텐서 생성\n",
    "* `tf.ones`: 값이 1로 채워진 텐서 생성\n",
    "* `tf.zeros_like`: 입력 텐서와 같은 크기, 타입의 값이 0으로 채워진 텐서 생성\n",
    "* `tf.ones_like`: 입력 텐서와 같은 크기, 타입의 값이 1로 채워진 텐서 생성\n",
    "* `tf.fill`: 특정 값으로 채워진 텐서 생성\n"
   ]
  },
  {
   "cell_type": "code",
   "execution_count": 19,
   "metadata": {
    "colab": {
     "base_uri": "https://localhost:8080/",
     "height": 73
    },
    "executionInfo": {
     "elapsed": 6914,
     "status": "ok",
     "timestamp": 1603733598634,
     "user": {
      "displayName": "Sanghyun Seo",
      "photoUrl": "https://lh3.googleusercontent.com/a-/AOh14GiyjIj6kA6151_HBrCZmfFqMIMsXmdFXFLAzkj8=s64",
      "userId": "05995424227728546557"
     },
     "user_tz": -540
    },
    "id": "eQUc5xaFb3x-",
    "outputId": "cc97fbbc-a44e-4192-efe1-a526c39849da"
   },
   "outputs": [
    {
     "data": {
      "text/plain": [
       "<tf.Tensor: shape=(2, 3), dtype=float32, numpy=\n",
       "array([[0., 0., 0.],\n",
       "       [0., 0., 0.]], dtype=float32)>"
      ]
     },
     "execution_count": 19,
     "metadata": {},
     "output_type": "execute_result"
    }
   ],
   "source": [
    "tf.zeros(shape=[2,3])"
   ]
  },
  {
   "cell_type": "code",
   "execution_count": 20,
   "metadata": {
    "colab": {
     "base_uri": "https://localhost:8080/",
     "height": 73
    },
    "executionInfo": {
     "elapsed": 6901,
     "status": "ok",
     "timestamp": 1603733598635,
     "user": {
      "displayName": "Sanghyun Seo",
      "photoUrl": "https://lh3.googleusercontent.com/a-/AOh14GiyjIj6kA6151_HBrCZmfFqMIMsXmdFXFLAzkj8=s64",
      "userId": "05995424227728546557"
     },
     "user_tz": -540
    },
    "id": "pku7ZZf2b31B",
    "outputId": "48447573-9896-417d-ec80-340827e28218"
   },
   "outputs": [
    {
     "data": {
      "text/plain": [
       "<tf.Tensor: shape=(2, 3), dtype=float32, numpy=\n",
       "array([[1., 1., 1.],\n",
       "       [1., 1., 1.]], dtype=float32)>"
      ]
     },
     "execution_count": 20,
     "metadata": {},
     "output_type": "execute_result"
    }
   ],
   "source": [
    "tf.ones(shape=[2,3])"
   ]
  },
  {
   "cell_type": "code",
   "execution_count": 21,
   "metadata": {
    "colab": {
     "base_uri": "https://localhost:8080/",
     "height": 184
    },
    "executionInfo": {
     "elapsed": 6883,
     "status": "ok",
     "timestamp": 1603733598635,
     "user": {
      "displayName": "Sanghyun Seo",
      "photoUrl": "https://lh3.googleusercontent.com/a-/AOh14GiyjIj6kA6151_HBrCZmfFqMIMsXmdFXFLAzkj8=s64",
      "userId": "05995424227728546557"
     },
     "user_tz": -540
    },
    "id": "jk8RqEJeb34P",
    "outputId": "18776d60-fa46-4ff2-dec7-3f0307aeb186"
   },
   "outputs": [
    {
     "name": "stdout",
     "output_type": "stream",
     "text": [
      "tf.Tensor(\n",
      "[[0 0 0 0]\n",
      " [0 0 0 0]\n",
      " [0 0 0 0]], shape=(3, 4), dtype=int32)\n",
      "\n"
     ]
    },
    {
     "data": {
      "text/plain": [
       "<tf.Tensor: shape=(3, 4), dtype=int32, numpy=\n",
       "array([[0, 0, 0, 0],\n",
       "       [0, 0, 0, 0],\n",
       "       [0, 0, 0, 0]], dtype=int32)>"
      ]
     },
     "execution_count": 21,
     "metadata": {},
     "output_type": "execute_result"
    }
   ],
   "source": [
    "target_tensor = tf.zeros(shape=[3,4], dtype=tf.int32)\n",
    "print(target_tensor)\n",
    "print()\n",
    "tf.zeros_like(input=target_tensor)"
   ]
  },
  {
   "cell_type": "code",
   "execution_count": 22,
   "metadata": {
    "colab": {
     "base_uri": "https://localhost:8080/",
     "height": 184
    },
    "executionInfo": {
     "elapsed": 6864,
     "status": "ok",
     "timestamp": 1603733598636,
     "user": {
      "displayName": "Sanghyun Seo",
      "photoUrl": "https://lh3.googleusercontent.com/a-/AOh14GiyjIj6kA6151_HBrCZmfFqMIMsXmdFXFLAzkj8=s64",
      "userId": "05995424227728546557"
     },
     "user_tz": -540
    },
    "id": "mnCa-QpQb36h",
    "outputId": "c8f5bf11-afc0-49b4-bda7-b6006093d353"
   },
   "outputs": [
    {
     "name": "stdout",
     "output_type": "stream",
     "text": [
      "tf.Tensor(\n",
      "[[0. 0. 0. 0.]\n",
      " [0. 0. 0. 0.]\n",
      " [0. 0. 0. 0.]], shape=(3, 4), dtype=float32)\n",
      "\n"
     ]
    },
    {
     "data": {
      "text/plain": [
       "<tf.Tensor: shape=(3, 4), dtype=float32, numpy=\n",
       "array([[1., 1., 1., 1.],\n",
       "       [1., 1., 1., 1.],\n",
       "       [1., 1., 1., 1.]], dtype=float32)>"
      ]
     },
     "execution_count": 22,
     "metadata": {},
     "output_type": "execute_result"
    }
   ],
   "source": [
    "target_tensor = tf.zeros(shape=[3,4])\n",
    "print(target_tensor)\n",
    "print()\n",
    "tf.ones_like(input=target_tensor)"
   ]
  },
  {
   "cell_type": "markdown",
   "metadata": {
    "id": "hnz19F0ocEKD"
   },
   "source": [
    "### 텐서의 사칙연산\n",
    "\n",
    "Tensors often contain floats and ints, but have many other types, including:\n",
    "\n",
    "* complex numbers\n",
    "* strings\n",
    "\n",
    "The base `tf.Tensor` class requires tensors to be \"rectangular\"---that is, along each axis, every element is the same size.  However, there are specialized types of tensors that can handle different shapes:\n",
    "\n",
    "* Ragged tensors (see [RaggedTensor](#ragged_tensors) below)\n",
    "* Sparse tensors (see [SparseTensor](#sparse_tensors) below)"
   ]
  },
  {
   "cell_type": "markdown",
   "metadata": {
    "id": "SDC7OGeAIJr8"
   },
   "source": [
    "You can do basic math on tensors, including addition, element-wise multiplication, and matrix multiplication."
   ]
  },
  {
   "cell_type": "code",
   "execution_count": 23,
   "metadata": {
    "colab": {
     "base_uri": "https://localhost:8080/",
     "height": 240
    },
    "executionInfo": {
     "elapsed": 6846,
     "status": "ok",
     "timestamp": 1603733598638,
     "user": {
      "displayName": "Sanghyun Seo",
      "photoUrl": "https://lh3.googleusercontent.com/a-/AOh14GiyjIj6kA6151_HBrCZmfFqMIMsXmdFXFLAzkj8=s64",
      "userId": "05995424227728546557"
     },
     "user_tz": -540
    },
    "id": "-DTkjwDOIIDa",
    "outputId": "49b161b3-2aa1-408a-b7f9-d116f42a9af1"
   },
   "outputs": [
    {
     "name": "stdout",
     "output_type": "stream",
     "text": [
      "tf.Tensor(\n",
      "[[2 3]\n",
      " [4 5]], shape=(2, 2), dtype=int32) \n",
      "\n",
      "tf.Tensor(\n",
      "[[1 2]\n",
      " [3 4]], shape=(2, 2), dtype=int32) \n",
      "\n",
      "tf.Tensor(\n",
      "[[3 3]\n",
      " [7 7]], shape=(2, 2), dtype=int32) \n",
      "\n"
     ]
    }
   ],
   "source": [
    "a = tf.constant([[1, 2],\n",
    "                 [3, 4]])\n",
    "b = tf.constant([[1, 1],\n",
    "                 [1, 1]]) # Could have also said `tf.ones([2,2])`\n",
    "\n",
    "print(tf.add(a, b), \"\\n\")\n",
    "print(tf.multiply(a, b), \"\\n\")\n",
    "print(tf.matmul(a, b), \"\\n\")"
   ]
  },
  {
   "cell_type": "code",
   "execution_count": 24,
   "metadata": {
    "colab": {
     "base_uri": "https://localhost:8080/",
     "height": 240
    },
    "executionInfo": {
     "elapsed": 6830,
     "status": "ok",
     "timestamp": 1603733598639,
     "user": {
      "displayName": "Sanghyun Seo",
      "photoUrl": "https://lh3.googleusercontent.com/a-/AOh14GiyjIj6kA6151_HBrCZmfFqMIMsXmdFXFLAzkj8=s64",
      "userId": "05995424227728546557"
     },
     "user_tz": -540
    },
    "id": "2smoWeUz-N2q",
    "outputId": "dece954c-fd63-4964-f50b-b1e73dbc1160"
   },
   "outputs": [
    {
     "name": "stdout",
     "output_type": "stream",
     "text": [
      "tf.Tensor(\n",
      "[[2 3]\n",
      " [4 5]], shape=(2, 2), dtype=int32) \n",
      "\n",
      "tf.Tensor(\n",
      "[[1 2]\n",
      " [3 4]], shape=(2, 2), dtype=int32) \n",
      "\n",
      "tf.Tensor(\n",
      "[[3 3]\n",
      " [7 7]], shape=(2, 2), dtype=int32) \n",
      "\n"
     ]
    }
   ],
   "source": [
    "print(a + b, \"\\n\") # element-wise addition\n",
    "print(a * b, \"\\n\") # element-wise multiplication\n",
    "print(a @ b, \"\\n\") # matrix multiplication"
   ]
  },
  {
   "cell_type": "markdown",
   "metadata": {
    "id": "S3_vIAl2JPVc"
   },
   "source": [
    "Tensors are used in all kinds of operations (ops)."
   ]
  },
  {
   "cell_type": "code",
   "execution_count": 25,
   "metadata": {
    "colab": {
     "base_uri": "https://localhost:8080/",
     "height": 110
    },
    "executionInfo": {
     "elapsed": 6812,
     "status": "ok",
     "timestamp": 1603733598640,
     "user": {
      "displayName": "Sanghyun Seo",
      "photoUrl": "https://lh3.googleusercontent.com/a-/AOh14GiyjIj6kA6151_HBrCZmfFqMIMsXmdFXFLAzkj8=s64",
      "userId": "05995424227728546557"
     },
     "user_tz": -540
    },
    "id": "Gp4WUYzGIbnv",
    "outputId": "5085092a-9988-4431-d366-ed91da308317"
   },
   "outputs": [
    {
     "name": "stdout",
     "output_type": "stream",
     "text": [
      "tf.Tensor(10.0, shape=(), dtype=float32)\n",
      "tf.Tensor([1 0], shape=(2,), dtype=int64)\n",
      "tf.Tensor(\n",
      "[[2.6894143e-01 7.3105854e-01]\n",
      " [9.9987662e-01 1.2339458e-04]], shape=(2, 2), dtype=float32)\n"
     ]
    }
   ],
   "source": [
    "c = tf.constant([[4.0, 5.0], [10.0, 1.0]])\n",
    "\n",
    "# Find the largest value\n",
    "print(tf.reduce_max(c))\n",
    "# Find the index of the largest value\n",
    "print(tf.argmax(c))\n",
    "# Compute the softmax\n",
    "print(tf.nn.softmax(c))"
   ]
  },
  {
   "cell_type": "markdown",
   "metadata": {
    "id": "NvSAbowVVuRr"
   },
   "source": [
    "## 텐서의 차원(shape)"
   ]
  },
  {
   "cell_type": "markdown",
   "metadata": {
    "id": "hkaBIqkTCcGY"
   },
   "source": [
    "Tensors have shapes.  Some vocabulary:\n",
    "\n",
    "* **Shape**: The length (number of elements) of each of the dimensions of a tensor.\n",
    "* **Rank**: Number of tensor dimensions.  A scalar has rank 0, a vector has rank 1, a matrix is rank 2.\n",
    "* **Axis** or **Dimension**: A particular dimension of a tensor.\n",
    "* **Size**: The total number of items in the tensor, the product shape vector\n"
   ]
  },
  {
   "cell_type": "markdown",
   "metadata": {
    "id": "E9L3-kCQq2f6"
   },
   "source": [
    "Note: Although you may see reference to a \"tensor of two dimensions\", a rank-2 tensor does not usually describe a 2D space."
   ]
  },
  {
   "cell_type": "markdown",
   "metadata": {
    "id": "VFOyG2tn8LhW"
   },
   "source": [
    "Tensors and `tf.TensorShape` objects have convenient properties for accessing these:"
   ]
  },
  {
   "cell_type": "code",
   "execution_count": 26,
   "metadata": {
    "id": "RyD3yewUKdnK"
   },
   "outputs": [],
   "source": [
    "rank_4_tensor = tf.zeros([3, 2, 4, 5])"
   ]
  },
  {
   "cell_type": "markdown",
   "metadata": {
    "id": "oTZZW9ziq4og"
   },
   "source": [
    "<table>\n",
    "<tr>\n",
    "  <th colspan=2>A rank-4 tensor, shape: <code>[3, 2, 4, 5]</code></th>\n",
    "</tr>\n",
    "<tr>\n",
    "  <td>\n",
    "<img src=\"https://github.com/tensorflow/docs/blob/master/site/en/guide/images/tensor/shape.png?raw=1\" alt=\"A tensor shape is like a vector.\">\n",
    "    <td>\n",
    "<img src=\"https://github.com/tensorflow/docs/blob/master/site/en/guide/images/tensor/4-axis_block.png?raw=1\" alt=\"A 4-axis tensor\">\n",
    "  </td>\n",
    "  </tr>\n",
    "</table>\n"
   ]
  },
  {
   "cell_type": "code",
   "execution_count": 27,
   "metadata": {
    "colab": {
     "base_uri": "https://localhost:8080/",
     "height": 128
    },
    "executionInfo": {
     "elapsed": 6787,
     "status": "ok",
     "timestamp": 1603733598642,
     "user": {
      "displayName": "Sanghyun Seo",
      "photoUrl": "https://lh3.googleusercontent.com/a-/AOh14GiyjIj6kA6151_HBrCZmfFqMIMsXmdFXFLAzkj8=s64",
      "userId": "05995424227728546557"
     },
     "user_tz": -540
    },
    "id": "MHm9vSqogsBk",
    "outputId": "60234e7c-f73a-4757-a744-cbc7646d181c"
   },
   "outputs": [
    {
     "name": "stdout",
     "output_type": "stream",
     "text": [
      "Type of every element: <dtype: 'float32'>\n",
      "Number of dimensions: 4\n",
      "Shape of tensor: (3, 2, 4, 5)\n",
      "Elements along axis 0 of tensor: 3\n",
      "Elements along the last axis of tensor: 5\n",
      "Total number of elements (3*2*4*5):  120\n"
     ]
    }
   ],
   "source": [
    "print(\"Type of every element:\", rank_4_tensor.dtype)\n",
    "print(\"Number of dimensions:\", rank_4_tensor.ndim)\n",
    "print(\"Shape of tensor:\", rank_4_tensor.shape)\n",
    "print(\"Elements along axis 0 of tensor:\", rank_4_tensor.shape[0])\n",
    "print(\"Elements along the last axis of tensor:\", rank_4_tensor.shape[-1])\n",
    "print(\"Total number of elements (3*2*4*5): \", tf.size(rank_4_tensor).numpy())"
   ]
  },
  {
   "cell_type": "markdown",
   "metadata": {
    "id": "bQmE_Vx5JilS"
   },
   "source": [
    "While axes are often referred to by their indices, you should always keep track of the meaning of each. Often axes are ordered from global to local: The batch axis first, followed by spatial dimensions, and features for each location last. This way feature vectors are contiguous regions of memory.\n",
    "\n",
    "<table>\n",
    "<tr>\n",
    "<th>Typical axis order</th>\n",
    "</tr>\n",
    "<tr>\n",
    "    <td>\n",
    "<img src=\"https://github.com/tensorflow/docs/blob/master/site/en/guide/images/tensor/shape2.png?raw=1\" alt=\"Keep track of what each axis is. A 4-axis tensor might be: Batch, Width, Height, Freatures\">\n",
    "  </td>\n",
    "</tr>\n",
    "</table>"
   ]
  },
  {
   "cell_type": "markdown",
   "metadata": {
    "id": "FlPoVvJS75Bb"
   },
   "source": [
    "### 인덱싱(Indexing)"
   ]
  },
  {
   "cell_type": "markdown",
   "metadata": {
    "id": "apOkCKqCZIZu"
   },
   "source": [
    "### Single-axis indexing\n",
    "\n",
    "TensorFlow follows standard Python indexing rules, similar to [indexing a list or a string in Python](https://docs.python.org/3/tutorial/introduction.html#strings), and the basic rules for NumPy indexing.\n",
    "\n",
    "* indexes start at `0`\n",
    "* negative indices count backwards from the end\n",
    "* colons, `:`, are used for slices: `start:stop:step`\n"
   ]
  },
  {
   "cell_type": "code",
   "execution_count": 28,
   "metadata": {
    "colab": {
     "base_uri": "https://localhost:8080/",
     "height": 36
    },
    "executionInfo": {
     "elapsed": 6773,
     "status": "ok",
     "timestamp": 1603733598645,
     "user": {
      "displayName": "Sanghyun Seo",
      "photoUrl": "https://lh3.googleusercontent.com/a-/AOh14GiyjIj6kA6151_HBrCZmfFqMIMsXmdFXFLAzkj8=s64",
      "userId": "05995424227728546557"
     },
     "user_tz": -540
    },
    "id": "SQ-CrJxLXTIM",
    "outputId": "10b7a349-6181-47d4-b81d-99f1d841eb48"
   },
   "outputs": [
    {
     "name": "stdout",
     "output_type": "stream",
     "text": [
      "[ 0  1  1  2  3  5  8 13 21 34]\n"
     ]
    }
   ],
   "source": [
    "rank_1_tensor = tf.constant([0, 1, 1, 2, 3, 5, 8, 13, 21, 34])\n",
    "print(rank_1_tensor.numpy())"
   ]
  },
  {
   "cell_type": "markdown",
   "metadata": {
    "id": "mQYYL56PXSak"
   },
   "source": [
    "Indexing with a scalar removes the dimension:"
   ]
  },
  {
   "cell_type": "code",
   "execution_count": 29,
   "metadata": {
    "colab": {
     "base_uri": "https://localhost:8080/",
     "height": 73
    },
    "executionInfo": {
     "elapsed": 6756,
     "status": "ok",
     "timestamp": 1603733598646,
     "user": {
      "displayName": "Sanghyun Seo",
      "photoUrl": "https://lh3.googleusercontent.com/a-/AOh14GiyjIj6kA6151_HBrCZmfFqMIMsXmdFXFLAzkj8=s64",
      "userId": "05995424227728546557"
     },
     "user_tz": -540
    },
    "id": "n6tqHciOWMt5",
    "outputId": "e768b635-e3e3-4aaf-e761-aa1381bcd9b8"
   },
   "outputs": [
    {
     "name": "stdout",
     "output_type": "stream",
     "text": [
      "First: 0\n",
      "Second: 1\n",
      "Last: 34\n"
     ]
    }
   ],
   "source": [
    "print(\"First:\", rank_1_tensor[0].numpy())\n",
    "print(\"Second:\", rank_1_tensor[1].numpy())\n",
    "print(\"Last:\", rank_1_tensor[-1].numpy())"
   ]
  },
  {
   "cell_type": "markdown",
   "metadata": {
    "id": "qJLHU_a2XwpG"
   },
   "source": [
    "Indexing with a `:` slice keeps the dimension:"
   ]
  },
  {
   "cell_type": "code",
   "execution_count": 30,
   "metadata": {
    "colab": {
     "base_uri": "https://localhost:8080/",
     "height": 128
    },
    "executionInfo": {
     "elapsed": 6739,
     "status": "ok",
     "timestamp": 1603733598648,
     "user": {
      "displayName": "Sanghyun Seo",
      "photoUrl": "https://lh3.googleusercontent.com/a-/AOh14GiyjIj6kA6151_HBrCZmfFqMIMsXmdFXFLAzkj8=s64",
      "userId": "05995424227728546557"
     },
     "user_tz": -540
    },
    "id": "giVPPcfQX-cu",
    "outputId": "4171eb00-87a2-4084-8d3e-7b0ea7e5aa49"
   },
   "outputs": [
    {
     "name": "stdout",
     "output_type": "stream",
     "text": [
      "Everything: [ 0  1  1  2  3  5  8 13 21 34]\n",
      "Before 4: [0 1 1 2]\n",
      "From 4 to the end: [ 3  5  8 13 21 34]\n",
      "From 2, before 7: [1 2 3 5 8]\n",
      "Every other item: [ 0  1  3  8 21]\n",
      "Reversed: [34 21 13  8  5  3  2  1  1  0]\n"
     ]
    }
   ],
   "source": [
    "print(\"Everything:\", rank_1_tensor[:].numpy())\n",
    "print(\"Before 4:\", rank_1_tensor[:4].numpy())\n",
    "print(\"From 4 to the end:\", rank_1_tensor[4:].numpy())\n",
    "print(\"From 2, before 7:\", rank_1_tensor[2:7].numpy())\n",
    "print(\"Every other item:\", rank_1_tensor[::2].numpy())\n",
    "print(\"Reversed:\", rank_1_tensor[::-1].numpy())"
   ]
  },
  {
   "cell_type": "markdown",
   "metadata": {
    "id": "elDSxXi7X-Bh"
   },
   "source": [
    "### Multi-axis indexing"
   ]
  },
  {
   "cell_type": "markdown",
   "metadata": {
    "id": "Cgk0uRUYZiai"
   },
   "source": [
    "Higher rank tensors are indexed by passing multiple indices.\n",
    "\n",
    "The single-axis exact same rules as in  the single-axis case apply to each axis independently."
   ]
  },
  {
   "cell_type": "markdown",
   "metadata": {
    "id": "w07U9vq5ipQk"
   },
   "source": [
    "Passing an integer for each index the result is a scalar."
   ]
  },
  {
   "cell_type": "code",
   "execution_count": 31,
   "metadata": {
    "colab": {
     "base_uri": "https://localhost:8080/",
     "height": 91
    },
    "executionInfo": {
     "elapsed": 6718,
     "status": "ok",
     "timestamp": 1603733598649,
     "user": {
      "displayName": "Sanghyun Seo",
      "photoUrl": "https://lh3.googleusercontent.com/a-/AOh14GiyjIj6kA6151_HBrCZmfFqMIMsXmdFXFLAzkj8=s64",
      "userId": "05995424227728546557"
     },
     "user_tz": -540
    },
    "id": "jCqki5IluYVe",
    "outputId": "842bce02-d154-4105-91e4-55f882ae614a"
   },
   "outputs": [
    {
     "name": "stdout",
     "output_type": "stream",
     "text": [
      "tf.Tensor(\n",
      "[[1. 2.]\n",
      " [3. 4.]\n",
      " [5. 6.]], shape=(3, 2), dtype=float16)\n"
     ]
    }
   ],
   "source": [
    "rank_2_tensor = tf.constant([[1, 2],\n",
    "                             [3, 4],\n",
    "                             [5, 6]], dtype=tf.float16)\n",
    "print(rank_2_tensor)"
   ]
  },
  {
   "cell_type": "code",
   "execution_count": 32,
   "metadata": {
    "colab": {
     "base_uri": "https://localhost:8080/",
     "height": 36
    },
    "executionInfo": {
     "elapsed": 6697,
     "status": "ok",
     "timestamp": 1603733598650,
     "user": {
      "displayName": "Sanghyun Seo",
      "photoUrl": "https://lh3.googleusercontent.com/a-/AOh14GiyjIj6kA6151_HBrCZmfFqMIMsXmdFXFLAzkj8=s64",
      "userId": "05995424227728546557"
     },
     "user_tz": -540
    },
    "id": "PvILXc1PjqTM",
    "outputId": "44d0af03-e84e-4ec9-a56e-0d69e4fe60d2"
   },
   "outputs": [
    {
     "name": "stdout",
     "output_type": "stream",
     "text": [
      "4.0\n"
     ]
    }
   ],
   "source": [
    "# Pull out a single value from a 2-rank tensor\n",
    "print(rank_2_tensor[1, 1].numpy())"
   ]
  },
  {
   "cell_type": "markdown",
   "metadata": {
    "id": "3RLCzAOHjfEH"
   },
   "source": [
    "You can index using any combination of integers and slices:"
   ]
  },
  {
   "cell_type": "code",
   "execution_count": 33,
   "metadata": {
    "colab": {
     "base_uri": "https://localhost:8080/",
     "height": 166
    },
    "executionInfo": {
     "elapsed": 6674,
     "status": "ok",
     "timestamp": 1603733598652,
     "user": {
      "displayName": "Sanghyun Seo",
      "photoUrl": "https://lh3.googleusercontent.com/a-/AOh14GiyjIj6kA6151_HBrCZmfFqMIMsXmdFXFLAzkj8=s64",
      "userId": "05995424227728546557"
     },
     "user_tz": -540
    },
    "id": "YTqNqsfJkJP_",
    "outputId": "7e81db27-e160-40a1-8924-37ceded66135"
   },
   "outputs": [
    {
     "name": "stdout",
     "output_type": "stream",
     "text": [
      "Second row: [3. 4.]\n",
      "Second column: [2. 4. 6.]\n",
      "Last row: [5. 6.]\n",
      "First item in last column: 2.0\n",
      "Skip the first row:\n",
      "[[3. 4.]\n",
      " [5. 6.]] \n",
      "\n"
     ]
    }
   ],
   "source": [
    "# Get row and column tensors\n",
    "print(\"Second row:\", rank_2_tensor[1, :].numpy())\n",
    "print(\"Second column:\", rank_2_tensor[:, 1].numpy())\n",
    "print(\"Last row:\", rank_2_tensor[-1, :].numpy())\n",
    "print(\"First item in last column:\", rank_2_tensor[0, -1].numpy())\n",
    "print(\"Skip the first row:\")\n",
    "print(rank_2_tensor[1:, :].numpy(), \"\\n\")"
   ]
  },
  {
   "cell_type": "markdown",
   "metadata": {
    "id": "P45TwSUVSK6G"
   },
   "source": [
    "Here is an example with a 3-axis tensor:"
   ]
  },
  {
   "cell_type": "code",
   "execution_count": 34,
   "metadata": {
    "colab": {
     "base_uri": "https://localhost:8080/",
     "height": 91
    },
    "executionInfo": {
     "elapsed": 6651,
     "status": "ok",
     "timestamp": 1603733598653,
     "user": {
      "displayName": "Sanghyun Seo",
      "photoUrl": "https://lh3.googleusercontent.com/a-/AOh14GiyjIj6kA6151_HBrCZmfFqMIMsXmdFXFLAzkj8=s64",
      "userId": "05995424227728546557"
     },
     "user_tz": -540
    },
    "id": "GuLoMoCVSLxK",
    "outputId": "c2ee3355-8568-4782-cf5b-96cb1ddfb8fd"
   },
   "outputs": [
    {
     "name": "stdout",
     "output_type": "stream",
     "text": [
      "tf.Tensor(\n",
      "[[ 4  9]\n",
      " [14 19]\n",
      " [24 29]], shape=(3, 2), dtype=int32)\n"
     ]
    }
   ],
   "source": [
    "print(rank_3_tensor[:, :, 4])"
   ]
  },
  {
   "cell_type": "markdown",
   "metadata": {
    "id": "9NgmHq27TJOE"
   },
   "source": [
    "<table>\n",
    "<tr>\n",
    "<th colspan=2>Selecting the last feature across all locations in each example in the batch </th>\n",
    "</tr>\n",
    "<tr>\n",
    "    <td>\n",
    "<img src=\"https://github.com/tensorflow/docs/blob/master/site/en/guide/images/tensor/index1.png?raw=1\" alt=\"A 3x2x5 tensor with all the values at the index-4 of the last axis selected.\">\n",
    "  </td>\n",
    "      <td>\n",
    "<img src=\"https://github.com/tensorflow/docs/blob/master/site/en/guide/images/tensor/index2.png?raw=1\" alt=\"The selected values packed into a 2-axis tensor.\">\n",
    "  </td>\n",
    "</tr>\n",
    "</table>"
   ]
  },
  {
   "cell_type": "markdown",
   "metadata": {
    "id": "Ku7m2D2IgAOZ"
   },
   "source": [
    "Helper Function"
   ]
  },
  {
   "cell_type": "code",
   "execution_count": 35,
   "metadata": {
    "id": "SvYoEyDlgEMF"
   },
   "outputs": [],
   "source": [
    "def draw_tensor(tensor, x):\n",
    "    \"\"\"tensor drawing\"\"\"\n",
    "    tensor_length = tensor.shape[0]\n",
    "    fig, axes = plt.subplots(tensor_length, 1, figsize=(5, 5))\n",
    "    for k in range(tensor_length):\n",
    "        print(k)\n",
    "        print(tensor.numpy()[k])\n",
    "        axes[k].matshow(tensor.numpy()[k], vmin=0, vmax=1, cmap='summer', alpha=0.5)\n",
    "        for (i, j), z in np.ndenumerate(x.numpy()[k]):\n",
    "            axes[k].text(j, i, '{:d}'.format(z), ha='center', va='center')\n",
    "    plt.tight_layout()\n",
    "    plt.show()"
   ]
  },
  {
   "cell_type": "code",
   "execution_count": 36,
   "metadata": {
    "colab": {
     "base_uri": "https://localhost:8080/",
     "height": 166
    },
    "executionInfo": {
     "elapsed": 6619,
     "status": "ok",
     "timestamp": 1603733598654,
     "user": {
      "displayName": "Sanghyun Seo",
      "photoUrl": "https://lh3.googleusercontent.com/a-/AOh14GiyjIj6kA6151_HBrCZmfFqMIMsXmdFXFLAzkj8=s64",
      "userId": "05995424227728546557"
     },
     "user_tz": -540
    },
    "id": "pXXWftHhjjxg",
    "outputId": "6a949c99-8eef-44f6-efc4-c466f73b5c56"
   },
   "outputs": [
    {
     "data": {
      "text/plain": [
       "<tf.Tensor: shape=(2, 3, 4), dtype=int32, numpy=\n",
       "array([[[5, 0, 6, 7],\n",
       "        [4, 6, 3, 4],\n",
       "        [9, 9, 8, 8]],\n",
       "\n",
       "       [[6, 0, 9, 8],\n",
       "        [3, 7, 2, 5],\n",
       "        [5, 6, 7, 5]]], dtype=int32)>"
      ]
     },
     "execution_count": 36,
     "metadata": {},
     "output_type": "execute_result"
    }
   ],
   "source": [
    "tf.random.set_seed(777)\n",
    "x = tf.random.uniform(shape=[2,3,4], minval=0, maxval=10, dtype=tf.int32)\n",
    "x"
   ]
  },
  {
   "cell_type": "code",
   "execution_count": 37,
   "metadata": {
    "colab": {
     "base_uri": "https://localhost:8080/",
     "height": 166
    },
    "executionInfo": {
     "elapsed": 6598,
     "status": "ok",
     "timestamp": 1603733598655,
     "user": {
      "displayName": "Sanghyun Seo",
      "photoUrl": "https://lh3.googleusercontent.com/a-/AOh14GiyjIj6kA6151_HBrCZmfFqMIMsXmdFXFLAzkj8=s64",
      "userId": "05995424227728546557"
     },
     "user_tz": -540
    },
    "id": "3qOQwc0Kl4pw",
    "outputId": "c6d2234c-3d36-4ed2-89bf-324a34ea8aee"
   },
   "outputs": [
    {
     "data": {
      "text/plain": [
       "<tf.Tensor: shape=(2, 3, 4), dtype=int32, numpy=\n",
       "array([[[1, 1, 1, 1],\n",
       "        [1, 1, 1, 1],\n",
       "        [1, 1, 1, 1]],\n",
       "\n",
       "       [[1, 1, 1, 1],\n",
       "        [1, 1, 1, 1],\n",
       "        [1, 1, 1, 1]]], dtype=int32)>"
      ]
     },
     "execution_count": 37,
     "metadata": {},
     "output_type": "execute_result"
    }
   ],
   "source": [
    "mask = tf.ones_like(x)\n",
    "mask"
   ]
  },
  {
   "cell_type": "markdown",
   "metadata": {
    "id": "PTZxMzN7pNLf"
   },
   "source": [
    "assign function"
   ]
  },
  {
   "cell_type": "code",
   "execution_count": 38,
   "metadata": {
    "colab": {
     "base_uri": "https://localhost:8080/",
     "height": 36
    },
    "executionInfo": {
     "elapsed": 6577,
     "status": "ok",
     "timestamp": 1603733598656,
     "user": {
      "displayName": "Sanghyun Seo",
      "photoUrl": "https://lh3.googleusercontent.com/a-/AOh14GiyjIj6kA6151_HBrCZmfFqMIMsXmdFXFLAzkj8=s64",
      "userId": "05995424227728546557"
     },
     "user_tz": -540
    },
    "id": "UreeA9sJjkVl",
    "outputId": "894fabbe-faf7-4f22-9a89-bdfd70f5bade"
   },
   "outputs": [
    {
     "name": "stdout",
     "output_type": "stream",
     "text": [
      "Error Message:  'tensorflow.python.framework.ops.EagerTensor' object has no attribute 'assign'\n"
     ]
    }
   ],
   "source": [
    "try:\n",
    "    mask[0,2,3].assign(0)\n",
    "    print(mask)\n",
    "except AttributeError as error_message:\n",
    "    print(\"Error Message: \", error_message)"
   ]
  },
  {
   "cell_type": "code",
   "execution_count": 39,
   "metadata": {
    "colab": {
     "base_uri": "https://localhost:8080/",
     "height": 166
    },
    "executionInfo": {
     "elapsed": 6551,
     "status": "ok",
     "timestamp": 1603733598657,
     "user": {
      "displayName": "Sanghyun Seo",
      "photoUrl": "https://lh3.googleusercontent.com/a-/AOh14GiyjIj6kA6151_HBrCZmfFqMIMsXmdFXFLAzkj8=s64",
      "userId": "05995424227728546557"
     },
     "user_tz": -540
    },
    "id": "PNqu30OEmuiN",
    "outputId": "3850b4d5-fb42-417b-d7b8-2203076a59a7"
   },
   "outputs": [
    {
     "name": "stdout",
     "output_type": "stream",
     "text": [
      "<tf.Variable 'Variable:0' shape=(2, 3, 4) dtype=int32, numpy=\n",
      "array([[[1, 1, 1, 1],\n",
      "        [1, 1, 1, 1],\n",
      "        [1, 1, 1, 0]],\n",
      "\n",
      "       [[1, 1, 1, 1],\n",
      "        [1, 1, 1, 1],\n",
      "        [1, 1, 1, 1]]], dtype=int32)>\n"
     ]
    }
   ],
   "source": [
    "mask = tf.Variable(mask)\n",
    "mask[0,2,3].assign(0)\n",
    "print(mask)"
   ]
  },
  {
   "cell_type": "code",
   "execution_count": 40,
   "metadata": {
    "colab": {
     "base_uri": "https://localhost:8080/",
     "height": 518
    },
    "executionInfo": {
     "elapsed": 6526,
     "status": "ok",
     "timestamp": 1603733598657,
     "user": {
      "displayName": "Sanghyun Seo",
      "photoUrl": "https://lh3.googleusercontent.com/a-/AOh14GiyjIj6kA6151_HBrCZmfFqMIMsXmdFXFLAzkj8=s64",
      "userId": "05995424227728546557"
     },
     "user_tz": -540
    },
    "id": "Z1Ujihs9nsoF",
    "outputId": "ba485e5b-2a8d-4a24-b1ec-c2a8f889d656"
   },
   "outputs": [
    {
     "name": "stdout",
     "output_type": "stream",
     "text": [
      "0\n",
      "[[1 1 1 1]\n",
      " [1 1 1 1]\n",
      " [1 1 1 0]]\n",
      "1\n",
      "[[1 1 1 1]\n",
      " [1 1 1 1]\n",
      " [1 1 1 1]]\n"
     ]
    },
    {
     "data": {
      "image/png": "[encoded data removed]",
      "text/plain": [
       "<Figure size 360x360 with 2 Axes>"
      ]
     },
     "metadata": {
      "needs_background": "light"
     },
     "output_type": "display_data"
    }
   ],
   "source": [
    "draw_tensor(mask, x)"
   ]
  },
  {
   "cell_type": "markdown",
   "metadata": {
    "id": "fpr7R0t4SVb0"
   },
   "source": [
    "## 텐서 차원 조작(Manipulating Shapes)\n",
    "\n",
    "Reshaping a tensor is of great utility. \n"
   ]
  },
  {
   "cell_type": "code",
   "execution_count": 41,
   "metadata": {
    "colab": {
     "base_uri": "https://localhost:8080/",
     "height": 36
    },
    "executionInfo": {
     "elapsed": 6504,
     "status": "ok",
     "timestamp": 1603733598658,
     "user": {
      "displayName": "Sanghyun Seo",
      "photoUrl": "https://lh3.googleusercontent.com/a-/AOh14GiyjIj6kA6151_HBrCZmfFqMIMsXmdFXFLAzkj8=s64",
      "userId": "05995424227728546557"
     },
     "user_tz": -540
    },
    "id": "EMeTtga5Wq8j",
    "outputId": "09e9e12a-7dbc-4382-8952-dda00fd49a1d"
   },
   "outputs": [
    {
     "name": "stdout",
     "output_type": "stream",
     "text": [
      "(3, 1)\n"
     ]
    }
   ],
   "source": [
    "# Shape returns a `TensorShape` object that shows the size on each dimension\n",
    "x = tf.constant([[1], [2], [3]])\n",
    "print(x.shape)"
   ]
  },
  {
   "cell_type": "code",
   "execution_count": 42,
   "metadata": {
    "colab": {
     "base_uri": "https://localhost:8080/",
     "height": 36
    },
    "executionInfo": {
     "elapsed": 6481,
     "status": "ok",
     "timestamp": 1603733598660,
     "user": {
      "displayName": "Sanghyun Seo",
      "photoUrl": "https://lh3.googleusercontent.com/a-/AOh14GiyjIj6kA6151_HBrCZmfFqMIMsXmdFXFLAzkj8=s64",
      "userId": "05995424227728546557"
     },
     "user_tz": -540
    },
    "id": "38jc2RXziT3W",
    "outputId": "320bac99-204e-462a-942f-d6188f713ca9"
   },
   "outputs": [
    {
     "name": "stdout",
     "output_type": "stream",
     "text": [
      "[3, 1]\n"
     ]
    }
   ],
   "source": [
    "# You can convert this object into a Python list, too\n",
    "print(x.shape.as_list())"
   ]
  },
  {
   "cell_type": "markdown",
   "metadata": {
    "id": "J_xRlHZMKYnF"
   },
   "source": [
    "You can reshape a tensor into a new shape. The `tf.reshape` operation is fast and cheap as the underlying data does not need to be duplicated."
   ]
  },
  {
   "cell_type": "code",
   "execution_count": 43,
   "metadata": {
    "id": "pa9JCgMLWy87"
   },
   "outputs": [],
   "source": [
    "# You can reshape a tensor to a new shape.\n",
    "# Note that you're passing in a list\n",
    "reshaped = tf.reshape(x, [1, 3])"
   ]
  },
  {
   "cell_type": "code",
   "execution_count": 44,
   "metadata": {
    "colab": {
     "base_uri": "https://localhost:8080/",
     "height": 54
    },
    "executionInfo": {
     "elapsed": 6449,
     "status": "ok",
     "timestamp": 1603733598662,
     "user": {
      "displayName": "Sanghyun Seo",
      "photoUrl": "https://lh3.googleusercontent.com/a-/AOh14GiyjIj6kA6151_HBrCZmfFqMIMsXmdFXFLAzkj8=s64",
      "userId": "05995424227728546557"
     },
     "user_tz": -540
    },
    "id": "Mcq7iXOkW3LK",
    "outputId": "00f54ff2-6371-4daa-8dc8-c2516786e398"
   },
   "outputs": [
    {
     "name": "stdout",
     "output_type": "stream",
     "text": [
      "(3, 1)\n",
      "(1, 3)\n"
     ]
    }
   ],
   "source": [
    "print(x.shape)\n",
    "print(reshaped.shape)"
   ]
  },
  {
   "cell_type": "markdown",
   "metadata": {
    "id": "gIB2tOkoVr6E"
   },
   "source": [
    "The data maintains its layout in memory and a new tensor is created, with the requested shape, pointing to the same data. TensorFlow uses C-style \"row-major\" memory ordering, where incrementing the rightmost index corresponds to a single step in memory."
   ]
  },
  {
   "cell_type": "code",
   "execution_count": 45,
   "metadata": {
    "colab": {
     "base_uri": "https://localhost:8080/",
     "height": 184
    },
    "executionInfo": {
     "elapsed": 6426,
     "status": "ok",
     "timestamp": 1603733598663,
     "user": {
      "displayName": "Sanghyun Seo",
      "photoUrl": "https://lh3.googleusercontent.com/a-/AOh14GiyjIj6kA6151_HBrCZmfFqMIMsXmdFXFLAzkj8=s64",
      "userId": "05995424227728546557"
     },
     "user_tz": -540
    },
    "id": "C6yoWzdCvoXq",
    "outputId": "23d5d007-14df-4397-ca05-3d4792e78b64"
   },
   "outputs": [
    {
     "name": "stdout",
     "output_type": "stream",
     "text": [
      "tf.Tensor(\n",
      "[[[ 0  1  2  3  4]\n",
      "  [ 5  6  7  8  9]]\n",
      "\n",
      " [[10 11 12 13 14]\n",
      "  [15 16 17 18 19]]\n",
      "\n",
      " [[20 21 22 23 24]\n",
      "  [25 26 27 28 29]]], shape=(3, 2, 5), dtype=int32)\n"
     ]
    }
   ],
   "source": [
    "# There can be an arbitrary number of\n",
    "# axes (sometimes called \"dimensions\")\n",
    "rank_3_tensor = tf.constant([\n",
    "  [[0, 1, 2, 3, 4],\n",
    "   [5, 6, 7, 8, 9]],\n",
    "  [[10, 11, 12, 13, 14],\n",
    "   [15, 16, 17, 18, 19]],\n",
    "  [[20, 21, 22, 23, 24],\n",
    "   [25, 26, 27, 28, 29]],])\n",
    "\n",
    "print(rank_3_tensor)"
   ]
  },
  {
   "cell_type": "code",
   "execution_count": 46,
   "metadata": {
    "colab": {
     "base_uri": "https://localhost:8080/",
     "height": 184
    },
    "executionInfo": {
     "elapsed": 6402,
     "status": "ok",
     "timestamp": 1603733598664,
     "user": {
      "displayName": "Sanghyun Seo",
      "photoUrl": "https://lh3.googleusercontent.com/a-/AOh14GiyjIj6kA6151_HBrCZmfFqMIMsXmdFXFLAzkj8=s64",
      "userId": "05995424227728546557"
     },
     "user_tz": -540
    },
    "id": "7kMfM0RpUgI8",
    "outputId": "3fe70aa8-b445-4fb3-e552-dd5b1f811350"
   },
   "outputs": [
    {
     "name": "stdout",
     "output_type": "stream",
     "text": [
      "tf.Tensor(\n",
      "[[[ 0  1  2  3  4]\n",
      "  [ 5  6  7  8  9]]\n",
      "\n",
      " [[10 11 12 13 14]\n",
      "  [15 16 17 18 19]]\n",
      "\n",
      " [[20 21 22 23 24]\n",
      "  [25 26 27 28 29]]], shape=(3, 2, 5), dtype=int32)\n"
     ]
    }
   ],
   "source": [
    "print(rank_3_tensor)"
   ]
  },
  {
   "cell_type": "markdown",
   "metadata": {
    "id": "TcDtfQkJWzIx"
   },
   "source": [
    "If you flatten a tensor you can see what order it is laid out in memory."
   ]
  },
  {
   "cell_type": "code",
   "execution_count": 47,
   "metadata": {
    "colab": {
     "base_uri": "https://localhost:8080/",
     "height": 73
    },
    "executionInfo": {
     "elapsed": 6376,
     "status": "ok",
     "timestamp": 1603733598665,
     "user": {
      "displayName": "Sanghyun Seo",
      "photoUrl": "https://lh3.googleusercontent.com/a-/AOh14GiyjIj6kA6151_HBrCZmfFqMIMsXmdFXFLAzkj8=s64",
      "userId": "05995424227728546557"
     },
     "user_tz": -540
    },
    "id": "COnHEPuaWDQp",
    "outputId": "8190804a-30ff-4bc1-97bd-0b635ee02c6a"
   },
   "outputs": [
    {
     "name": "stdout",
     "output_type": "stream",
     "text": [
      "tf.Tensor(\n",
      "[ 0  1  2  3  4  5  6  7  8  9 10 11 12 13 14 15 16 17 18 19 20 21 22 23\n",
      " 24 25 26 27 28 29], shape=(30,), dtype=int32)\n"
     ]
    }
   ],
   "source": [
    "# A `-1` passed in the `shape` argument says \"Whatever fits\".\n",
    "print(tf.reshape(rank_3_tensor, [-1]))"
   ]
  },
  {
   "cell_type": "markdown",
   "metadata": {
    "id": "jJZRira2W--c"
   },
   "source": [
    "Typically the only reasonable uses of `tf.reshape` are to combine or split adjacent axes (or add/remove `1`s).\n",
    "\n",
    "For this 3x2x5 tensor, reshaping to (3x2)x5 or 3x(2x5) are both reasonable things to do, as the slices do not mix:"
   ]
  },
  {
   "cell_type": "code",
   "execution_count": 48,
   "metadata": {
    "colab": {
     "base_uri": "https://localhost:8080/",
     "height": 240
    },
    "executionInfo": {
     "elapsed": 7511,
     "status": "ok",
     "timestamp": 1603733599828,
     "user": {
      "displayName": "Sanghyun Seo",
      "photoUrl": "https://lh3.googleusercontent.com/a-/AOh14GiyjIj6kA6151_HBrCZmfFqMIMsXmdFXFLAzkj8=s64",
      "userId": "05995424227728546557"
     },
     "user_tz": -540
    },
    "id": "zP2Iqc7zWu_J",
    "outputId": "2769ba79-e05d-48eb-e792-59d8a34c7a08"
   },
   "outputs": [
    {
     "name": "stdout",
     "output_type": "stream",
     "text": [
      "tf.Tensor(\n",
      "[[ 0  1  2  3  4]\n",
      " [ 5  6  7  8  9]\n",
      " [10 11 12 13 14]\n",
      " [15 16 17 18 19]\n",
      " [20 21 22 23 24]\n",
      " [25 26 27 28 29]], shape=(6, 5), dtype=int32) \n",
      "\n",
      "tf.Tensor(\n",
      "[[ 0  1  2  3  4  5  6  7  8  9]\n",
      " [10 11 12 13 14 15 16 17 18 19]\n",
      " [20 21 22 23 24 25 26 27 28 29]], shape=(3, 10), dtype=int32)\n"
     ]
    }
   ],
   "source": [
    "print(tf.reshape(rank_3_tensor, [3*2, 5]), \"\\n\")\n",
    "print(tf.reshape(rank_3_tensor, [3, -1]))"
   ]
  },
  {
   "cell_type": "markdown",
   "metadata": {
    "id": "6ZsZRUhihlDB"
   },
   "source": [
    "<table>\n",
    "<th colspan=3>\n",
    "Some good reshapes.\n",
    "</th>\n",
    "<tr>\n",
    "  <td>\n",
    "<img src=\"https://github.com/tensorflow/docs/blob/master/site/en/guide/images/tensor/reshape-before.png?raw=1\" alt=\"A 3x2x5 tensor\">\n",
    "  </td>\n",
    "  <td>\n",
    "  <img src=\"https://github.com/tensorflow/docs/blob/master/site/en/guide/images/tensor/reshape-good1.png?raw=1\" alt=\"The same data reshaped to (3x2)x5\">\n",
    "  </td>\n",
    "  <td>\n",
    "<img src=\"https://github.com/tensorflow/docs/blob/master/site/en/guide/images/tensor/reshape-good2.png?raw=1\" alt=\"The same data reshaped to 3x(2x5)\">\n",
    "  </td>\n",
    "</tr>\n",
    "</table>\n"
   ]
  },
  {
   "cell_type": "markdown",
   "metadata": {
    "id": "nOcRxDC3jNIU"
   },
   "source": [
    "Reshaping will \"work\" for any new shape with the same total number of elements, but it will not do anything useful if you do not respect the order of the axes.\n",
    "\n",
    "Swapping axes in `tf.reshape` does not work, you need `tf.transpose` for that. \n"
   ]
  },
  {
   "cell_type": "code",
   "execution_count": 49,
   "metadata": {
    "colab": {
     "base_uri": "https://localhost:8080/",
     "height": 333
    },
    "executionInfo": {
     "elapsed": 7490,
     "status": "ok",
     "timestamp": 1603733599828,
     "user": {
      "displayName": "Sanghyun Seo",
      "photoUrl": "https://lh3.googleusercontent.com/a-/AOh14GiyjIj6kA6151_HBrCZmfFqMIMsXmdFXFLAzkj8=s64",
      "userId": "05995424227728546557"
     },
     "user_tz": -540
    },
    "id": "I9qDL_8u7cBH",
    "outputId": "6531ca74-cf1c-4233-a326-f44ea2c7780e"
   },
   "outputs": [
    {
     "name": "stdout",
     "output_type": "stream",
     "text": [
      "tf.Tensor(\n",
      "[[[ 0  1  2  3  4]\n",
      "  [ 5  6  7  8  9]\n",
      "  [10 11 12 13 14]]\n",
      "\n",
      " [[15 16 17 18 19]\n",
      "  [20 21 22 23 24]\n",
      "  [25 26 27 28 29]]], shape=(2, 3, 5), dtype=int32) \n",
      "\n",
      "tf.Tensor(\n",
      "[[ 0  1  2  3  4  5]\n",
      " [ 6  7  8  9 10 11]\n",
      " [12 13 14 15 16 17]\n",
      " [18 19 20 21 22 23]\n",
      " [24 25 26 27 28 29]], shape=(5, 6), dtype=int32) \n",
      "\n",
      "InvalidArgumentError: Input to reshape is a tensor with 30 values, but the requested shape requires a multiple of 7 [Op:Reshape]\n"
     ]
    }
   ],
   "source": [
    "# Bad examples: don't do this\n",
    "\n",
    "# You can't reorder axes with reshape.\n",
    "print(tf.reshape(rank_3_tensor, [2, 3, 5]), \"\\n\") \n",
    "\n",
    "# This is a mess\n",
    "print(tf.reshape(rank_3_tensor, [5, 6]), \"\\n\")\n",
    "\n",
    "# This doesn't work at all\n",
    "try:\n",
    "    tf.reshape(rank_3_tensor, [7, -1])\n",
    "except Exception as e:\n",
    "    print(f\"{type(e).__name__}: {e}\")"
   ]
  },
  {
   "cell_type": "markdown",
   "metadata": {
    "id": "qTM9-5eh68oo"
   },
   "source": [
    "<table>\n",
    "<th colspan=3>\n",
    "Some bad reshapes.\n",
    "</th>\n",
    "<tr>\n",
    "  <td>\n",
    "<img src=\"https://github.com/tensorflow/docs/blob/master/site/en/guide/images/tensor/reshape-bad.png?raw=1\" alt=\"You can't reorder axes, use tf.transpose for that\">\n",
    "  </td>\n",
    "  <td>\n",
    "<img src=\"https://github.com/tensorflow/docs/blob/master/site/en/guide/images/tensor/reshape-bad4.png?raw=1\" alt=\"Anything that mixes the slices of data together is probably wrong.\">\n",
    "  </td>\n",
    "  <td>\n",
    "<img src=\"https://github.com/tensorflow/docs/blob/master/site/en/guide/images/tensor/reshape-bad2.png?raw=1\" alt=\"The new shape must fit exactly.\">\n",
    "  </td>\n",
    "</tr>\n",
    "</table>"
   ]
  },
  {
   "cell_type": "markdown",
   "metadata": {
    "id": "N9r90BvHCbTt"
   },
   "source": [
    "You may run across not-fully-specified shapes. Either the shape contains a `None` (a dimension's length is unknown) or the shape is `None` (the rank of the tensor is unknown).\n",
    "\n",
    "Except for [tf.RaggedTensor](#ragged_tensors), such shapes will only occur in the context of TensorFlow's symbolic, graph-building  APIs:\n",
    "\n",
    "* [tf.function](function.ipynb) \n",
    "* The [keras functional API](keras/functional.ipynb).\n"
   ]
  },
  {
   "cell_type": "markdown",
   "metadata": {
    "id": "fDmFtFM7k0R2"
   },
   "source": [
    "## More on `DTypes`\n",
    "\n",
    "To inspect a `tf.Tensor`'s data type use the `Tensor.dtype` property.\n",
    "\n",
    "When creating a `tf.Tensor` from a Python object you may optionally specify the datatype.\n",
    "\n",
    "If you don't, TensorFlow chooses a datatype that can represent your data. TensorFlow converts Python integers to `tf.int32` and Python floating point numbers to `tf.float32`. Otherwise TensorFlow uses the same rules NumPy uses when converting to arrays.\n",
    "\n",
    "You can cast from type to type."
   ]
  },
  {
   "cell_type": "code",
   "execution_count": 50,
   "metadata": {
    "colab": {
     "base_uri": "https://localhost:8080/",
     "height": 36
    },
    "executionInfo": {
     "elapsed": 7462,
     "status": "ok",
     "timestamp": 1603733599829,
     "user": {
      "displayName": "Sanghyun Seo",
      "photoUrl": "https://lh3.googleusercontent.com/a-/AOh14GiyjIj6kA6151_HBrCZmfFqMIMsXmdFXFLAzkj8=s64",
      "userId": "05995424227728546557"
     },
     "user_tz": -540
    },
    "id": "5mSTDWbelUvu",
    "outputId": "239daf0c-def0-48fa-c6b5-9cfbeb82a05b"
   },
   "outputs": [
    {
     "name": "stdout",
     "output_type": "stream",
     "text": [
      "tf.Tensor([2 3 4], shape=(3,), dtype=uint8)\n"
     ]
    }
   ],
   "source": [
    "the_f64_tensor = tf.constant([2.2, 3.3, 4.4], dtype=tf.float64)\n",
    "the_f16_tensor = tf.cast(the_f64_tensor, dtype=tf.float16)\n",
    "# Now, cast to an uint8 and lose the decimal precision\n",
    "the_u8_tensor = tf.cast(the_f16_tensor, dtype=tf.uint8)\n",
    "print(the_u8_tensor)"
   ]
  },
  {
   "cell_type": "markdown",
   "metadata": {
    "id": "s1yBlJsVlFSu"
   },
   "source": [
    "## 브로드캐스팅(Broadcasting)\n",
    "\n",
    "Broadcasting is a concept borrowed from the [equivalent feature in NumPy](https://numpy.org/doc/stable/user/basics.html).  In short, under certain conditions, smaller tensors are \"stretched\" automatically to fit larger tensors when running combined operations on them.\n",
    "\n",
    "The simplest and most common case is when you attempt to multiply or add a tensor to a scalar.  In that case, the scalar is broadcast to be the same shape as the other argument. "
   ]
  },
  {
   "cell_type": "code",
   "execution_count": 51,
   "metadata": {
    "colab": {
     "base_uri": "https://localhost:8080/",
     "height": 73
    },
    "executionInfo": {
     "elapsed": 7442,
     "status": "ok",
     "timestamp": 1603733599830,
     "user": {
      "displayName": "Sanghyun Seo",
      "photoUrl": "https://lh3.googleusercontent.com/a-/AOh14GiyjIj6kA6151_HBrCZmfFqMIMsXmdFXFLAzkj8=s64",
      "userId": "05995424227728546557"
     },
     "user_tz": -540
    },
    "id": "P8sypqmagHQN",
    "outputId": "5fdaaf32-c95d-4cdb-bbda-e7b364357bb9"
   },
   "outputs": [
    {
     "name": "stdout",
     "output_type": "stream",
     "text": [
      "tf.Tensor([2 4 6], shape=(3,), dtype=int32)\n",
      "tf.Tensor([2 4 6], shape=(3,), dtype=int32)\n",
      "tf.Tensor([2 4 6], shape=(3,), dtype=int32)\n"
     ]
    }
   ],
   "source": [
    "x = tf.constant([1, 2, 3])\n",
    "\n",
    "y = tf.constant(2)\n",
    "z = tf.constant([2, 2, 2])\n",
    "# All of these are the same computation\n",
    "print(tf.multiply(x, 2))\n",
    "print(x * y)\n",
    "print(x * z)"
   ]
  },
  {
   "cell_type": "markdown",
   "metadata": {
    "id": "o0SBoR6voWcb"
   },
   "source": [
    "Likewise, 1-sized dimensions can be stretched out to match the other arguments.  Both arguments can be stretched in the same computation.\n",
    "\n",
    "In this case a 3x1 matrix is element-wise multiplied by a 1x4 matrix to produce a 3x4 matrix. Note how the leading 1 is optional: The shape of y is `[4]`."
   ]
  },
  {
   "cell_type": "code",
   "execution_count": 52,
   "metadata": {
    "colab": {
     "base_uri": "https://localhost:8080/",
     "height": 221
    },
    "executionInfo": {
     "elapsed": 7418,
     "status": "ok",
     "timestamp": 1603733599830,
     "user": {
      "displayName": "Sanghyun Seo",
      "photoUrl": "https://lh3.googleusercontent.com/a-/AOh14GiyjIj6kA6151_HBrCZmfFqMIMsXmdFXFLAzkj8=s64",
      "userId": "05995424227728546557"
     },
     "user_tz": -540
    },
    "id": "6sGmkPg3XANr",
    "outputId": "23e5546d-6b4f-4f84-f971-49f2aac13e1f"
   },
   "outputs": [
    {
     "name": "stdout",
     "output_type": "stream",
     "text": [
      "tf.Tensor(\n",
      "[[1]\n",
      " [2]\n",
      " [3]], shape=(3, 1), dtype=int32) \n",
      "\n",
      "tf.Tensor([1 2 3 4], shape=(4,), dtype=int32) \n",
      "\n",
      "tf.Tensor(\n",
      "[[ 1  2  3  4]\n",
      " [ 2  4  6  8]\n",
      " [ 3  6  9 12]], shape=(3, 4), dtype=int32)\n"
     ]
    }
   ],
   "source": [
    "# These are the same computations\n",
    "x = tf.reshape(x,[3,1])\n",
    "y = tf.range(1, 5)\n",
    "print(x, \"\\n\")\n",
    "print(y, \"\\n\")\n",
    "print(tf.multiply(x, y))"
   ]
  },
  {
   "cell_type": "markdown",
   "metadata": {
    "id": "t_7sh-EUYLrE"
   },
   "source": [
    "<table>\n",
    "<tr>\n",
    "  <th>A broadcasted add: a <code>[3, 1]</code> times a <code>[1, 4]</code> gives a <code>[3,4]</code> </th>\n",
    "</tr>\n",
    "<tr>\n",
    "  <td>\n",
    "<img src=\"https://github.com/tensorflow/docs/blob/master/site/en/guide/images/tensor/broadcasting.png?raw=1\" alt=\"Adding a 3x1 matrix to a 4x1 matrix results in a 3x4 matrix\">\n",
    "  </td>\n",
    "</tr>\n",
    "</table>\n"
   ]
  },
  {
   "cell_type": "markdown",
   "metadata": {
    "id": "9V3KgSJcKDRz"
   },
   "source": [
    "Here is the same operation without broadcasting:"
   ]
  },
  {
   "cell_type": "code",
   "execution_count": 53,
   "metadata": {
    "colab": {
     "base_uri": "https://localhost:8080/",
     "height": 91
    },
    "executionInfo": {
     "elapsed": 7392,
     "status": "ok",
     "timestamp": 1603733599831,
     "user": {
      "displayName": "Sanghyun Seo",
      "photoUrl": "https://lh3.googleusercontent.com/a-/AOh14GiyjIj6kA6151_HBrCZmfFqMIMsXmdFXFLAzkj8=s64",
      "userId": "05995424227728546557"
     },
     "user_tz": -540
    },
    "id": "elrF6v63igY8",
    "outputId": "18f0210a-de15-4f89-f73c-21fb37dad870"
   },
   "outputs": [
    {
     "name": "stdout",
     "output_type": "stream",
     "text": [
      "tf.Tensor(\n",
      "[[ 1  2  3  4]\n",
      " [ 2  4  6  8]\n",
      " [ 3  6  9 12]], shape=(3, 4), dtype=int32)\n"
     ]
    }
   ],
   "source": [
    "x_stretch = tf.constant([[1, 1, 1, 1],\n",
    "                         [2, 2, 2, 2],\n",
    "                         [3, 3, 3, 3]])\n",
    "\n",
    "y_stretch = tf.constant([[1, 2, 3, 4],\n",
    "                         [1, 2, 3, 4],\n",
    "                         [1, 2, 3, 4]])\n",
    "\n",
    "print(x_stretch * y_stretch)  # Again, operator overloading"
   ]
  },
  {
   "cell_type": "markdown",
   "metadata": {
    "id": "14KobqYu85gi"
   },
   "source": [
    "Most of the time, broadcasting is both time and space efficient, as the broadcast operation never materializes the expanded tensors in memory.  \n",
    "\n",
    "You see what broadcasting looks like using `tf.broadcast_to`."
   ]
  },
  {
   "cell_type": "code",
   "execution_count": 54,
   "metadata": {
    "colab": {
     "base_uri": "https://localhost:8080/",
     "height": 91
    },
    "executionInfo": {
     "elapsed": 7368,
     "status": "ok",
     "timestamp": 1603733599832,
     "user": {
      "displayName": "Sanghyun Seo",
      "photoUrl": "https://lh3.googleusercontent.com/a-/AOh14GiyjIj6kA6151_HBrCZmfFqMIMsXmdFXFLAzkj8=s64",
      "userId": "05995424227728546557"
     },
     "user_tz": -540
    },
    "id": "GW2Q59_r8hZ6",
    "outputId": "9fa4ca10-e47e-4d10-c204-2b33a5dc522c"
   },
   "outputs": [
    {
     "name": "stdout",
     "output_type": "stream",
     "text": [
      "tf.Tensor(\n",
      "[[1 2 3]\n",
      " [1 2 3]\n",
      " [1 2 3]], shape=(3, 3), dtype=int32)\n"
     ]
    }
   ],
   "source": [
    "print(tf.broadcast_to(tf.constant([1, 2, 3]), [3, 3]))"
   ]
  },
  {
   "cell_type": "markdown",
   "metadata": {
    "id": "Z2bAMMQY-jpP"
   },
   "source": [
    "Unlike a mathematical op, for example, `broadcast_to` does nothing special to save memory.  Here, you are materializing the tensor.\n",
    "\n",
    "It can get even more complicated.  [This section](https://jakevdp.github.io/PythonDataScienceHandbook/02.05-computation-on-arrays-broadcasting.html) of Jake VanderPlas's book _Python Data Science Handbook_ shows more broadcasting tricks (again in NumPy)."
   ]
  },
  {
   "cell_type": "markdown",
   "metadata": {
    "id": "o4Rpz0xAsKSI"
   },
   "source": [
    "## tf.convert_to_tensor\n",
    "\n",
    "Most ops, like `tf.matmul` and `tf.reshape` take arguments of class `tf.Tensor`.  However, you'll notice in the above case, Python objects shaped like tensors are accepted.\n",
    "\n",
    "Most, but not all, ops call `convert_to_tensor` on non-tensor arguments.  There is a registry of conversions, and most object classes like NumPy's `ndarray`, `TensorShape`, Python lists, and `tf.Variable` will all convert automatically.\n",
    "\n",
    "See `tf.register_tensor_conversion_function` for more details, and if you have your own type you'd like to automatically convert to a tensor."
   ]
  },
  {
   "cell_type": "markdown",
   "metadata": {
    "id": "QXtoAJ-F-AtS"
   },
   "source": [
    "### Create Dataset\n"
   ]
  },
  {
   "cell_type": "code",
   "execution_count": 55,
   "metadata": {
    "colab": {
     "base_uri": "https://localhost:8080/",
     "height": 36
    },
    "executionInfo": {
     "elapsed": 7145,
     "status": "ok",
     "timestamp": 1603733599845,
     "user": {
      "displayName": "Sanghyun Seo",
      "photoUrl": "https://lh3.googleusercontent.com/a-/AOh14GiyjIj6kA6151_HBrCZmfFqMIMsXmdFXFLAzkj8=s64",
      "userId": "05995424227728546557"
     },
     "user_tz": -540
    },
    "id": "itiuNlqd-AAh",
    "outputId": "a766b706-2039-4ac6-e91a-8290c344bc82"
   },
   "outputs": [
    {
     "name": "stdout",
     "output_type": "stream",
     "text": [
      "[0 1 2 3 4 5 6 7 8 9]\n"
     ]
    }
   ],
   "source": [
    "a = np.arange(10)\n",
    "print(a)\n",
    "ds_tensors = tf.data.Dataset.from_tensor_slices(a)"
   ]
  },
  {
   "cell_type": "code",
   "execution_count": 56,
   "metadata": {
    "id": "wldMpmqf-EKX"
   },
   "outputs": [],
   "source": [
    "ds_tensors = ds_tensors.map(tf.square).shuffle(20).batch(2)"
   ]
  },
  {
   "cell_type": "code",
   "execution_count": 57,
   "metadata": {
    "colab": {
     "base_uri": "https://localhost:8080/",
     "height": 314
    },
    "executionInfo": {
     "elapsed": 7138,
     "status": "ok",
     "timestamp": 1603733599846,
     "user": {
      "displayName": "Sanghyun Seo",
      "photoUrl": "https://lh3.googleusercontent.com/a-/AOh14GiyjIj6kA6151_HBrCZmfFqMIMsXmdFXFLAzkj8=s64",
      "userId": "05995424227728546557"
     },
     "user_tz": -540
    },
    "id": "woYFJvjl-EQj",
    "outputId": "6ffd0b3c-20d2-4f6a-b067-196ee9b3ddb8"
   },
   "outputs": [
    {
     "name": "stdout",
     "output_type": "stream",
     "text": [
      "Elements of ds_tensors:\n",
      "tf.Tensor([ 9 25], shape=(2,), dtype=int64)\n",
      "tf.Tensor([64  4], shape=(2,), dtype=int64)\n",
      "tf.Tensor([ 1 16], shape=(2,), dtype=int64)\n",
      "tf.Tensor([49  0], shape=(2,), dtype=int64)\n",
      "tf.Tensor([81 36], shape=(2,), dtype=int64)\n",
      "tf.Tensor([ 0 81], shape=(2,), dtype=int64)\n",
      "tf.Tensor([25  4], shape=(2,), dtype=int64)\n",
      "tf.Tensor([1 9], shape=(2,), dtype=int64)\n",
      "tf.Tensor([36 16], shape=(2,), dtype=int64)\n",
      "tf.Tensor([49 64], shape=(2,), dtype=int64)\n",
      "tf.Tensor([ 1 81], shape=(2,), dtype=int64)\n",
      "tf.Tensor([ 9 25], shape=(2,), dtype=int64)\n",
      "tf.Tensor([36  0], shape=(2,), dtype=int64)\n",
      "tf.Tensor([16 49], shape=(2,), dtype=int64)\n",
      "tf.Tensor([ 4 64], shape=(2,), dtype=int64)\n"
     ]
    }
   ],
   "source": [
    "print('Elements of ds_tensors:')\n",
    "for _ in range(3):\n",
    "    for x in ds_tensors:\n",
    "        print(x)"
   ]
  }
 ],
 "metadata": {
  "accelerator": "GPU",
  "colab": {
   "collapsed_sections": [],
   "name": "01-TF_Tensor.ipynb",
   "provenance": [
    {
     "file_id": "https://github.com/tensorflow/docs/blob/master/site/en/guide/tensor.ipynb",
     "timestamp": 1602832886591
    }
   ]
  },
  "kernelspec": {
   "display_name": "Python 3",
   "language": "python",
   "name": "python3"
  },
  "language_info": {
   "codemirror_mode": {
    "name": "ipython",
    "version": 3
   },
   "file_extension": ".py",
   "mimetype": "text/x-python",
   "name": "python",
   "nbconvert_exporter": "python",
   "pygments_lexer": "ipython3",
   "version": "3.7.7"
  }
 },
 "nbformat": 4,
 "nbformat_minor": 4
}
