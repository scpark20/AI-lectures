{
 "cells": [
  {
   "cell_type": "code",
   "execution_count": 2,
   "metadata": {},
   "outputs": [],
   "source": [
    "import numpy as np"
   ]
  },
  {
   "cell_type": "markdown",
   "metadata": {},
   "source": [
    "### Layer Abstract Class"
   ]
  },
  {
   "cell_type": "code",
   "execution_count": 3,
   "metadata": {},
   "outputs": [],
   "source": [
    "class Layer():\n",
    "    def forward(self, x):\n",
    "        raise NotImplementedError()\n",
    "        \n",
    "    def backward(self, accum_grad, learning_rate):\n",
    "        raise NotImplementedError()       "
   ]
  },
  {
   "cell_type": "markdown",
   "metadata": {},
   "source": [
    "### Dense Layer"
   ]
  },
  {
   "cell_type": "code",
   "execution_count": 106,
   "metadata": {},
   "outputs": [],
   "source": [
    "import math\n",
    "\n",
    "class Dense(Layer):\n",
    "    def __init__(self, input_dim, output_dim):\n",
    "        # Reference : https://keras.io/api/layers/initializers/\n",
    "        limit = np.sqrt(6/(input_dim+output_dim))\n",
    "        self.W = np.random.uniform(-limit, limit, size=(input_dim, output_dim))\n",
    "        #self.W = np.random.randn(input_dim, output_dim) * 0.1\n",
    "        self.b = np.zeros(output_dim)\n",
    "        self.x_save = None # saving input x in forward step for using in backward step\n",
    "        \n",
    "    def forward(self, x):\n",
    "        # x : (batch, input_dim)\n",
    "        self.x_save = x\n",
    "        \n",
    "        # Dense layer를 수식으로 표현하면 다음과 같습니다.\n",
    "        # y = x@W + b\n",
    "        \n",
    "        # (batch, output_dim)\n",
    "        y = x @ self.W + self.b\n",
    "        \n",
    "        return y\n",
    "        \n",
    "    def backward(self, accum_grad, learning_rate):\n",
    "        # accum_grad : ∂L/∂y, (batch, output_dim)\n",
    "        \n",
    "        # y를 W에 대해 미분하면 다음과 같이 되고,\n",
    "        # ∂y/∂W = x\n",
    "        \n",
    "        # Loss를 W에 대해 미분하면 chain rule에 의해 다음과 같이 표현됩니다.\n",
    "        # ∂L/∂W = ∂L/∂y·∂y/∂W = ∂L/∂y·x\n",
    "        \n",
    "        # (input_dim, output_dim)\n",
    "        W_grad = self.x_save.T @ accum_grad\n",
    "        \n",
    "        # 또한 y를 b에 대해 미분하면 다음과 같이 되고,\n",
    "        # ∂y/∂b = 1\n",
    "        \n",
    "        # Loss를 b에 대해 미분하면 chain rule에 의해 다음과 같이 표현됩니다.\n",
    "        # ∂L/∂b = ∂L/∂y·∂y/∂b = ∂L/∂y·1\n",
    "        b_grad = np.sum(accum_grad, axis=0)\n",
    "        \n",
    "        # Loss를 x에 대해 미분하면 chain rule에 의해 다음과 같이 표현됩니다.\n",
    "        # ∂L/∂x = ∂L/∂y·∂y/∂x\n",
    "        # y를 x에 대해 미분하면 다음과 같이 됩니다.\n",
    "        # ∂y/∂x = W\n",
    "        accum_grad = accum_grad @ self.W.T\n",
    "\n",
    "        # Weight&bias 업데이트\n",
    "        self.W = self.W - learning_rate * W_grad\n",
    "        self.b = self.b - learning_rate * b_grad\n",
    "        \n",
    "        return accum_grad\n",
    "            "
   ]
  },
  {
   "cell_type": "markdown",
   "metadata": {},
   "source": [
    "### Activations"
   ]
  },
  {
   "cell_type": "code",
   "execution_count": 44,
   "metadata": {},
   "outputs": [],
   "source": [
    "# Reference : https://github.com/eriklindernoren/ML-From-Scratch/blob/master/mlfromscratch/deep_learning/activation_functions.py\n",
    "class Sigmoid(Layer):\n",
    "    def forward(self, x):\n",
    "        return 1 / (1 + np.exp(-x))\n",
    "    \n",
    "    def backward(self, accum_grad, learning_rate):\n",
    "        grad = self.forward(accum_grad) * (1 - self.forward(accum_grad))\n",
    "        return accum_grad * grad\n",
    "\n",
    "class ReLU(Layer):\n",
    "    def forward(self, x):\n",
    "        return np.where(x>=0, x, 0)\n",
    "    \n",
    "    def backward(self, accum_grad, learning_rate):\n",
    "        grad = np.where(accum_grad>=0, 1, 0)\n",
    "        grad = 1\n",
    "        return accum_grad * grad\n",
    "    \n",
    "class LeakyReLU(Layer):\n",
    "    def __init__(self, alpha=0.1):\n",
    "        self.alpha = alpha\n",
    "        \n",
    "    def forward(self, x):\n",
    "        return np.where(x>=0, x, self.alpha*x)\n",
    "    \n",
    "    def backward(self, accum_grad, learning_rate):\n",
    "        grad = np.where(accum_grad>=0, 1, self.alpha)\n",
    "        return accum_grad * grad\n",
    "    \n",
    "class Tanh(Layer):\n",
    "    def forward(self, x):\n",
    "        return 2 / (1 + np.exp(-2*x)) - 1\n",
    "    \n",
    "    def backward(self, accum_grad, learning_rate):\n",
    "        forward_value = self.forward(accum_grad)\n",
    "        grad = 1 - np.power(forward_value, 2)\n",
    "        return accum_grad * grad\n",
    "        "
   ]
  },
  {
   "cell_type": "code",
   "execution_count": 45,
   "metadata": {},
   "outputs": [
    {
     "data": {
      "image/png": "[encoded data removed]",
      "text/plain": [
       "<Figure size 432x288 with 1 Axes>"
      ]
     },
     "metadata": {
      "needs_background": "light"
     },
     "output_type": "display_data"
    }
   ],
   "source": [
    "t = np.linspace(-3, 3, 100)\n",
    "t = ReLU().backward(t, learning_rate=1e-3)\n",
    "import matplotlib.pyplot as plt\n",
    "\n",
    "plt.plot(t)\n",
    "plt.show()"
   ]
  },
  {
   "cell_type": "markdown",
   "metadata": {},
   "source": [
    "### Sequential Layer"
   ]
  },
  {
   "cell_type": "code",
   "execution_count": 6,
   "metadata": {},
   "outputs": [],
   "source": [
    "class Sequential(Layer):\n",
    "    def __init__(self, layers):\n",
    "        self.layers = layers\n",
    "        \n",
    "    def forward(self, x):\n",
    "        # x : (batch, input_dim)\n",
    "        \n",
    "        for layer in self.layers:\n",
    "            x = layer.forward(x)\n",
    "            \n",
    "        return x\n",
    "    \n",
    "    def backward(self, accum_grad, learning_rate):\n",
    "        \n",
    "        for layer in reversed(self.layers):\n",
    "            accum_grad = layer.backward(accum_grad, learning_rate)\n",
    "            \n",
    "        return accum_grad"
   ]
  },
  {
   "cell_type": "markdown",
   "metadata": {},
   "source": [
    "### Losses"
   ]
  },
  {
   "cell_type": "code",
   "execution_count": 7,
   "metadata": {},
   "outputs": [],
   "source": [
    "class MeanSquareError():\n",
    "    @staticmethod\n",
    "    def get_loss(y_pred, y_true):\n",
    "        # y_pred : (batch, dim)\n",
    "        # y_true : (batch, dim)\n",
    "        \n",
    "        # scalar\n",
    "        loss = 0.5 * np.mean((y_pred - y_true) ** 2)\n",
    "        \n",
    "        return loss\n",
    "    \n",
    "    @staticmethod\n",
    "    def get_gradient(y_pred, y_true):\n",
    "        grad = -y_true + y_pred\n",
    "        \n",
    "        return grad\n",
    "    \n",
    "from scipy.special import softmax\n",
    "class SparseCrossEntropy():\n",
    "    # Reference : https://towardsdatascience.com/derivative-of-the-softmax-function-and-the-categorical-cross-entropy-loss-ffceefc081d1\n",
    "    @staticmethod\n",
    "    def get_loss(y_pred, y_true):\n",
    "        # y_pred : (batch, dim)\n",
    "        # y_true : (batch,)\n",
    "        \n",
    "        eps = np.finfo(float).eps\n",
    "        log_p = np.log(softmax(y_pred, axis=1) + eps)\n",
    "        \n",
    "        negative_log_likelihoods = []\n",
    "        for i, target in enumerate(y_true):\n",
    "            nll = -log_p[i, target]\n",
    "            negative_log_likelihoods.append(nll)\n",
    "            \n",
    "        loss = np.mean(negative_log_likelihoods)\n",
    "        \n",
    "        return loss\n",
    "    \n",
    "    @staticmethod\n",
    "    def get_gradient(y_pred, y_true):\n",
    "        # y_pred : (batch, dim)\n",
    "        # y_true : (batch,)\n",
    "        \n",
    "        y_true = np.eye(y_pred.shape[1])[y_true]\n",
    "        grad = softmax(y_pred, axis=1) - y_true\n",
    "        return grad\n",
    "    "
   ]
  },
  {
   "cell_type": "markdown",
   "metadata": {},
   "source": [
    "### Data preparation"
   ]
  },
  {
   "cell_type": "code",
   "execution_count": 50,
   "metadata": {},
   "outputs": [
    {
     "name": "stdout",
     "output_type": "stream",
     "text": [
      "(318, 9) (80, 9)\n",
      "(318,) (80,)\n"
     ]
    }
   ],
   "source": [
    "import pandas as pd\n",
    "import tensorflow as tf\n",
    "from tensorflow import keras\n",
    "\n",
    "dataset_path = keras.utils.get_file(\"auto-mpg.data\", \"http://archive.ics.uci.edu/ml/machine-learning-databases/auto-mpg/auto-mpg.data\")\n",
    "\n",
    "column_names = ['MPG','Cylinders','Displacement','Horsepower','Weight', 'Acceleration', 'Model Year', 'Origin']\n",
    "raw_dataset = pd.read_csv(dataset_path, names=column_names, na_values = \"?\", comment='\\t', sep=\" \", skipinitialspace=True)\n",
    "\n",
    "dataset = raw_dataset.copy()\n",
    "dataset = dataset.fillna(dataset.mean())\n",
    "\n",
    "origin = dataset.pop('Origin')\n",
    "dataset['USA'] = (origin == 1)*1.0\n",
    "dataset['Europe'] = (origin == 2)*1.0\n",
    "dataset['Japan'] = (origin == 3)*1.0\n",
    "\n",
    "train_dataset = dataset.sample(frac=0.8, random_state=0)\n",
    "test_dataset = dataset.drop(train_dataset.index)\n",
    "\n",
    "train_labels = train_dataset.pop('MPG')\n",
    "test_labels = test_dataset.pop('MPG')\n",
    "\n",
    "train_stats = train_dataset.describe()\n",
    "train_stats = train_stats.transpose()\n",
    "\n",
    "def norm(x):\n",
    "    return (x - train_stats['mean']) / train_stats['std']\n",
    "\n",
    "normed_train_data = norm(train_dataset)\n",
    "normed_test_data = norm(test_dataset)\n",
    "\n",
    "print(normed_train_data.shape, normed_test_data.shape)\n",
    "print(train_labels.shape, test_labels.shape)"
   ]
  },
  {
   "cell_type": "markdown",
   "metadata": {},
   "source": [
    "### Model setup"
   ]
  },
  {
   "cell_type": "code",
   "execution_count": 128,
   "metadata": {},
   "outputs": [
    {
     "name": "stdout",
     "output_type": "stream",
     "text": [
      "<__main__.Sequential object at 0x7f8f481d1e20>\n"
     ]
    }
   ],
   "source": [
    "model = Sequential([Dense(9, 64),\n",
    "                    ReLU(),\n",
    "                    Dense(64, 64),\n",
    "                    ReLU(),\n",
    "                    Dense(64, 1),\n",
    "                   ])\n",
    "print(model)"
   ]
  },
  {
   "cell_type": "code",
   "execution_count": 129,
   "metadata": {
    "scrolled": true
   },
   "outputs": [
    {
     "name": "stdout",
     "output_type": "stream",
     "text": [
      "Epoch : 0 Loss : 305.327717056786\n",
      "Epoch : 1 Loss : 290.5875506911777\n",
      "Epoch : 2 Loss : 274.92009704230685\n",
      "Epoch : 3 Loss : 256.66222036823706\n",
      "Epoch : 4 Loss : 234.1659722292972\n",
      "Epoch : 5 Loss : 205.73935578641863\n",
      "Epoch : 6 Loss : 170.26134749810498\n",
      "Epoch : 7 Loss : 128.57987392079878\n",
      "Epoch : 8 Loss : 85.55572963064706\n",
      "Epoch : 9 Loss : 50.15072218492715\n",
      "Epoch : 10 Loss : 28.475763265935882\n",
      "Epoch : 11 Loss : 17.630356551572717\n",
      "Epoch : 12 Loss : 12.035702038972309\n",
      "Epoch : 13 Loss : 8.937531808907158\n",
      "Epoch : 14 Loss : 7.2566255662488155\n",
      "Epoch : 15 Loss : 6.369016861863669\n",
      "Epoch : 16 Loss : 5.886809198544633\n",
      "Epoch : 17 Loss : 5.601826055933411\n",
      "Epoch : 18 Loss : 5.415106198846651\n",
      "Epoch : 19 Loss : 5.281266394061328\n",
      "Epoch : 20 Loss : 5.178811227742165\n",
      "Epoch : 21 Loss : 5.097013269450494\n",
      "Epoch : 22 Loss : 5.030013199243375\n",
      "Epoch : 23 Loss : 4.973967288046838\n",
      "Epoch : 24 Loss : 4.926344749283933\n",
      "Epoch : 25 Loss : 4.885291285209844\n",
      "Epoch : 26 Loss : 4.849460379585968\n",
      "Epoch : 27 Loss : 4.817834210795628\n",
      "Epoch : 28 Loss : 4.789615096567132\n",
      "Epoch : 29 Loss : 4.764174158242512\n",
      "Epoch : 30 Loss : 4.74099354731201\n",
      "Epoch : 31 Loss : 4.719699834640903\n",
      "Epoch : 32 Loss : 4.700028177593902\n",
      "Epoch : 33 Loss : 4.681750911364767\n",
      "Epoch : 34 Loss : 4.66465174701149\n",
      "Epoch : 35 Loss : 4.648566708076386\n",
      "Epoch : 36 Loss : 4.633360236782241\n",
      "Epoch : 37 Loss : 4.618936851840027\n",
      "Epoch : 38 Loss : 4.6051919718554934\n",
      "Epoch : 39 Loss : 4.592064922574592\n",
      "Epoch : 40 Loss : 4.579491535358468\n",
      "Epoch : 41 Loss : 4.567442571885977\n",
      "Epoch : 42 Loss : 4.55587612597967\n",
      "Epoch : 43 Loss : 4.544720072448985\n",
      "Epoch : 44 Loss : 4.5339693385300155\n",
      "Epoch : 45 Loss : 4.523613459647935\n",
      "Epoch : 46 Loss : 4.5136331865852215\n",
      "Epoch : 47 Loss : 4.5039980967812525\n",
      "Epoch : 48 Loss : 4.494691036778521\n",
      "Epoch : 49 Loss : 4.485693965296359\n",
      "Epoch : 50 Loss : 4.476984654213413\n",
      "Epoch : 51 Loss : 4.468554618862492\n",
      "Epoch : 52 Loss : 4.460390342777593\n",
      "Epoch : 53 Loss : 4.452474190602056\n",
      "Epoch : 54 Loss : 4.444802314699845\n",
      "Epoch : 55 Loss : 4.437362722332154\n",
      "Epoch : 56 Loss : 4.430138998380118\n",
      "Epoch : 57 Loss : 4.423129554617657\n",
      "Epoch : 58 Loss : 4.416321916186206\n",
      "Epoch : 59 Loss : 4.409711859203782\n",
      "Epoch : 60 Loss : 4.403302295516257\n",
      "Epoch : 61 Loss : 4.39707919963549\n",
      "Epoch : 62 Loss : 4.391034584840208\n",
      "Epoch : 63 Loss : 4.385138816472163\n",
      "Epoch : 64 Loss : 4.379409339597878\n",
      "Epoch : 65 Loss : 4.373831023010319\n",
      "Epoch : 66 Loss : 4.368400841608296\n",
      "Epoch : 67 Loss : 4.363112831223201\n",
      "Epoch : 68 Loss : 4.357959681461122\n",
      "Epoch : 69 Loss : 4.3529391979741305\n",
      "Epoch : 70 Loss : 4.34804915288455\n",
      "Epoch : 71 Loss : 4.343280307534478\n",
      "Epoch : 72 Loss : 4.338626599524679\n",
      "Epoch : 73 Loss : 4.334099392699953\n",
      "Epoch : 74 Loss : 4.329679519335841\n",
      "Epoch : 75 Loss : 4.325361433793638\n",
      "Epoch : 76 Loss : 4.321143615734691\n",
      "Epoch : 77 Loss : 4.317022321536912\n",
      "Epoch : 78 Loss : 4.312999114501666\n",
      "Epoch : 79 Loss : 4.309066347897113\n",
      "Epoch : 80 Loss : 4.30522199190275\n",
      "Epoch : 81 Loss : 4.301457882603512\n",
      "Epoch : 82 Loss : 4.297767250092737\n",
      "Epoch : 83 Loss : 4.294154571556179\n",
      "Epoch : 84 Loss : 4.290606118860435\n",
      "Epoch : 85 Loss : 4.287113859142266\n",
      "Epoch : 86 Loss : 4.28369865551938\n",
      "Epoch : 87 Loss : 4.2803508531817\n",
      "Epoch : 88 Loss : 4.27706789243475\n",
      "Epoch : 89 Loss : 4.273848283537713\n",
      "Epoch : 90 Loss : 4.270693902557495\n",
      "Epoch : 91 Loss : 4.267596945498394\n",
      "Epoch : 92 Loss : 4.264554426586065\n",
      "Epoch : 93 Loss : 4.2615650258675135\n",
      "Epoch : 94 Loss : 4.258628165223203\n",
      "Epoch : 95 Loss : 4.255741637272275\n",
      "Epoch : 96 Loss : 4.252903585505004\n",
      "Epoch : 97 Loss : 4.250112946428157\n",
      "Epoch : 98 Loss : 4.247367248648966\n",
      "Epoch : 99 Loss : 4.244666150238771\n",
      "done\n"
     ]
    }
   ],
   "source": [
    "losses = []\n",
    "\n",
    "x = normed_train_data.to_numpy()\n",
    "t = train_labels.to_numpy().reshape(-1, 1)\n",
    "\n",
    "from tqdm import tqdm\n",
    "for i in range(100):\n",
    "    \n",
    "    # Forward Pass\n",
    "    y = model.forward(x)\n",
    "    \n",
    "    # Get Loss\n",
    "    loss = MeanSquareError.get_loss(y, t)\n",
    "    print('Epoch :', i, 'Loss :', loss)\n",
    "    \n",
    "    # Backward Pass\n",
    "    grad = MeanSquareError.get_gradient(y, t)\n",
    "    model.backward(grad, learning_rate=1e-5)\n",
    "    \n",
    "    # Append loss\n",
    "    losses.append(loss)\n",
    "    \n",
    "print('done')"
   ]
  },
  {
   "cell_type": "markdown",
   "metadata": {},
   "source": [
    "### Test"
   ]
  },
  {
   "cell_type": "code",
   "execution_count": 131,
   "metadata": {},
   "outputs": [
    {
     "name": "stdout",
     "output_type": "stream",
     "text": [
      "(80, 9)\n"
     ]
    },
    {
     "data": {
      "image/png": "[encoded data removed]",
      "text/plain": [
       "<Figure size 432x288 with 1 Axes>"
      ]
     },
     "metadata": {
      "needs_background": "light"
     },
     "output_type": "display_data"
    }
   ],
   "source": [
    "x_test = normed_test_data.to_numpy()\n",
    "t_test = test_labels.to_numpy().reshape(-1, 1)\n",
    "y_test = model.forward(x_test)\n",
    "\n",
    "plt.scatter(t_test[:, 0], y_test[:,0 ])\n",
    "plt.xlabel('True Values [MPG]')\n",
    "plt.ylabel('Predictions [MPG]')\n",
    "plt.axis('equal')\n",
    "plt.axis('square')\n",
    "plt.xlim([0,plt.xlim()[1]])\n",
    "plt.ylim([0,plt.ylim()[1]])\n",
    "_ = plt.plot([-100, 100], [-100, 100])"
   ]
  }
 ],
 "metadata": {
  "kernelspec": {
   "display_name": "Python 3",
   "language": "python",
   "name": "python3"
  },
  "language_info": {
   "codemirror_mode": {
    "name": "ipython",
    "version": 3
   },
   "file_extension": ".py",
   "mimetype": "text/x-python",
   "name": "python",
   "nbconvert_exporter": "python",
   "pygments_lexer": "ipython3",
   "version": "3.8.5"
  }
 },
 "nbformat": 4,
 "nbformat_minor": 4
}
